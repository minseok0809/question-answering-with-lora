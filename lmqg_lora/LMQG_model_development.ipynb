{
  "cells": [
    {
      "cell_type": "markdown",
      "metadata": {
        "id": "teHzLo4owK3j"
      },
      "source": [
        "## LMQG Model Development"
      ]
    },
    {
      "cell_type": "markdown",
      "metadata": {},
      "source": [
        "<b>Model</b>\n",
        "<br>T5 Small / BART Base / T5 Base / T5 Large / BART Large\n",
        "<br>Gold QA (i.e., the model using the human-labeled gold\n",
        "annotations)"
      ]
    },
    {
      "cell_type": "markdown",
      "metadata": {},
      "source": [
        "<b>QAG approaches</b>\n",
        "<br>End2Endv / MultiTask / Pipeline"
      ]
    },
    {
      "cell_type": "markdown",
      "metadata": {},
      "source": [
        "<b>Dataset</b>\n",
        "<br>SQuADShifts (Amazon / Wiki / NYT / Reddit)"
      ]
    },
    {
      "cell_type": "markdown",
      "metadata": {},
      "source": [
        "<b>Experiment</b>\n",
        "<br>All / Amazon / Wiki / NYT / Reddit"
      ]
    },
    {
      "cell_type": "code",
      "execution_count": null,
      "metadata": {
        "id": "L6m9o9YV0j7O"
      },
      "outputs": [],
      "source": [
        "%pip install lmqg\n",
        "%pip install peft\n",
        "%pip install easydict\n",
        "%pip install termcolor\n",
        "%pip install openpyxl\n",
        "%pip install ipywidgets\n",
        "!python -m spacy download en"
      ]
    },
    {
      "cell_type": "code",
      "execution_count": 1,
      "metadata": {
        "id": "XrYqvzLjZwev"
      },
      "outputs": [],
      "source": [
        "import os\n",
        "import json\n",
        "import torch\n",
        "from pprint import pprint\n",
        "# from termcolor import coloredg\n",
        "from lmqg import TransformersQG"
      ]
    },
    {
      "cell_type": "code",
      "execution_count": 2,
      "metadata": {},
      "outputs": [
        {
          "name": "stdout",
          "output_type": "stream",
          "text": [
            "True\n",
            "2\n",
            "NVIDIA GeForce RTX 4090\n"
          ]
        }
      ],
      "source": [
        "print(torch.cuda.is_available())\n",
        "print(torch.cuda.device_count())\n",
        "print(torch.cuda.get_device_name(torch.cuda.current_device()))"
      ]
    },
    {
      "cell_type": "code",
      "execution_count": 3,
      "metadata": {},
      "outputs": [
        {
          "data": {
            "text/plain": [
              "'/'"
            ]
          },
          "execution_count": 3,
          "metadata": {},
          "output_type": "execute_result"
        }
      ],
      "source": [
        "pwd"
      ]
    },
    {
      "cell_type": "code",
      "execution_count": 4,
      "metadata": {},
      "outputs": [
        {
          "name": "stdout",
          "output_type": "stream",
          "text": [
            "/workspace\n"
          ]
        }
      ],
      "source": [
        "cd workspace"
      ]
    },
    {
      "cell_type": "code",
      "execution_count": 5,
      "metadata": {},
      "outputs": [],
      "source": [
        "import torch\n",
        "torch.cuda.empty_cache()"
      ]
    },
    {
      "cell_type": "code",
      "execution_count": 6,
      "metadata": {},
      "outputs": [],
      "source": [
        "import torch, gc\n",
        "gc.collect()\n",
        "torch.cuda.empty_cache()"
      ]
    },
    {
      "cell_type": "code",
      "execution_count": 7,
      "metadata": {},
      "outputs": [
        {
          "name": "stderr",
          "output_type": "stream",
          "text": [
            "Failed to detect the name of this notebook, you can set it manually with the WANDB_NOTEBOOK_NAME environment variable to enable code saving.\n",
            "\u001b[34m\u001b[1mwandb\u001b[0m: Currently logged in as: \u001b[33mminseok0809\u001b[0m. Use \u001b[1m`wandb login --relogin`\u001b[0m to force relogin\n"
          ]
        },
        {
          "data": {
            "text/plain": [
              "True"
            ]
          },
          "execution_count": 7,
          "metadata": {},
          "output_type": "execute_result"
        }
      ],
      "source": [
        "import wandb\n",
        "\n",
        "wandb.login()"
      ]
    },
    {
      "cell_type": "markdown",
      "metadata": {},
      "source": [
        "## Flan T5 Small Model"
      ]
    },
    {
      "cell_type": "markdown",
      "metadata": {},
      "source": [
        "### Original Model (Squad)"
      ]
    },
    {
      "cell_type": "code",
      "execution_count": null,
      "metadata": {},
      "outputs": [],
      "source": [
        "!python -m lm-question-generation.lmqg.grid_searcher_flan_t5_small_squad_qg"
      ]
    },
    {
      "cell_type": "code",
      "execution_count": 14,
      "metadata": {},
      "outputs": [],
      "source": [
        "wandb.finish()"
      ]
    },
    {
      "cell_type": "markdown",
      "metadata": {},
      "source": [
        "### Lora Model (Squad)"
      ]
    },
    {
      "cell_type": "code",
      "execution_count": null,
      "metadata": {},
      "outputs": [],
      "source": [
        "!python -m lm-question-generation.lmqg.grid_searcher_flan_t5_small_squad_qg_lora_r8_al16"
      ]
    },
    {
      "cell_type": "code",
      "execution_count": null,
      "metadata": {},
      "outputs": [],
      "source": [
        "!python -m lm-question-generation.lmqg.grid_searcher_flan_t5_small_squad_qg_lora_r16_al16"
      ]
    },
    {
      "cell_type": "code",
      "execution_count": null,
      "metadata": {},
      "outputs": [],
      "source": [
        "!python -m lm-question-generation.lmqg.grid_searcher_flan_t5_small_squad_qg_lora_r32_al16"
      ]
    },
    {
      "cell_type": "code",
      "execution_count": null,
      "metadata": {},
      "outputs": [],
      "source": [
        "!python -m lm-question-generation.lmqg.grid_searcher_flan_t5_small_squad_qg_lora_r64_al16"
      ]
    },
    {
      "cell_type": "code",
      "execution_count": null,
      "metadata": {},
      "outputs": [],
      "source": [
        "!python -m lm-question-generation.lmqg.grid_searcher_flan_t5_small_squad_qg_lora_r128_al16"
      ]
    },
    {
      "cell_type": "code",
      "execution_count": null,
      "metadata": {},
      "outputs": [],
      "source": [
        "!python -m lm-question-generation.lmqg.grid_searcher_flan_t5_small_squad_qg_lora_r8_al32"
      ]
    },
    {
      "cell_type": "code",
      "execution_count": null,
      "metadata": {},
      "outputs": [],
      "source": [
        "!python -m lm-question-generation.lmqg.grid_searcher_flan_t5_small_squad_qg_lora_r16_al32"
      ]
    },
    {
      "cell_type": "code",
      "execution_count": null,
      "metadata": {},
      "outputs": [],
      "source": [
        "!python -m lm-question-generation.lmqg.grid_searcher_flan_t5_small_squad_qg_lora_r32_al32"
      ]
    },
    {
      "cell_type": "code",
      "execution_count": null,
      "metadata": {},
      "outputs": [],
      "source": [
        "!python -m lm-question-generation.lmqg.grid_searcher_flan_t5_small_squad_qg_lora_r64_al32"
      ]
    },
    {
      "cell_type": "code",
      "execution_count": null,
      "metadata": {},
      "outputs": [],
      "source": [
        "!python -m lm-question-generation.lmqg.grid_searcher_flan_t5_small_squad_qg_lora_r128_al32"
      ]
    },
    {
      "cell_type": "code",
      "execution_count": 14,
      "metadata": {},
      "outputs": [],
      "source": [
        "wandb.finish()"
      ]
    },
    {
      "cell_type": "markdown",
      "metadata": {},
      "source": [
        "## Flan T5 Large Model"
      ]
    },
    {
      "cell_type": "markdown",
      "metadata": {},
      "source": [
        "### Original Model (Squad)"
      ]
    },
    {
      "cell_type": "code",
      "execution_count": null,
      "metadata": {},
      "outputs": [],
      "source": [
        "!python -m lm-question-generation.lmqg.grid_searcher_flan_t5_large_squad_qg"
      ]
    },
    {
      "cell_type": "code",
      "execution_count": null,
      "metadata": {},
      "outputs": [],
      "source": [
        "wandb.finish()"
      ]
    },
    {
      "cell_type": "markdown",
      "metadata": {},
      "source": [
        "### Lora Model (Squad)"
      ]
    },
    {
      "cell_type": "code",
      "execution_count": 8,
      "metadata": {},
      "outputs": [
        {
          "name": "stdout",
          "output_type": "stream",
          "text": [
            "\u001b[34m\u001b[1mwandb\u001b[0m: Currently logged in as: \u001b[33mminseok0809\u001b[0m. Use \u001b[1m`wandb login --relogin`\u001b[0m to force relogin\n",
            "\u001b[34m\u001b[1mwandb\u001b[0m: wandb version 0.15.9 is available!  To upgrade, please run:\n",
            "\u001b[34m\u001b[1mwandb\u001b[0m:  $ pip install wandb --upgrade\n",
            "\u001b[34m\u001b[1mwandb\u001b[0m: Tracking run with wandb version 0.15.8\n",
            "\u001b[34m\u001b[1mwandb\u001b[0m: Run data is saved locally in \u001b[35m\u001b[1m/workspace/wandb/run-20230831_084137-r3cvbrl4\u001b[0m\n",
            "\u001b[34m\u001b[1mwandb\u001b[0m: Run \u001b[1m`wandb offline`\u001b[0m to turn off syncing.\n",
            "\u001b[34m\u001b[1mwandb\u001b[0m: Syncing run \u001b[33mflan_t5_large_squad_qg_lora_r8_al32\u001b[0m\n",
            "\u001b[34m\u001b[1mwandb\u001b[0m: ⭐️ View project at \u001b[34m\u001b[4mhttps://wandb.ai/minseok0809/lmqg_qg_squad\u001b[0m\n",
            "\u001b[34m\u001b[1mwandb\u001b[0m: 🚀 View run at \u001b[34m\u001b[4mhttps://wandb.ai/minseok0809/lmqg_qg_squad/runs/r3cvbrl4\u001b[0m\n",
            "/opt/conda/lib/python3.8/site-packages/transformers/tokenization_utils_base.py:1714: FutureWarning: The `use_auth_token` argument is deprecated and will be removed in v5 of Transformers.\n",
            "  warnings.warn(\n",
            "/opt/conda/lib/python3.8/site-packages/transformers/modeling_utils.py:2193: FutureWarning: The `use_auth_token` argument is deprecated and will be removed in v5 of Transformers.\n",
            "  warnings.warn(\n",
            "\n",
            "\n",
            "trainable model parameters: 2359296\n",
            "all model parameters: 785454080\n",
            "percentage of trainable model parameters: 0.30% \n",
            "\n",
            "/opt/conda/lib/python3.8/site-packages/datasets/load.py:2072: FutureWarning: 'use_auth_token' was deprecated in favor of 'token' in version 2.14.0 and will be removed in 3.0.0.\n",
            "You can remove this warning by passing 'token=False' instead.\n",
            "  warnings.warn(\n",
            "\n",
            "\n",
            "Epoch 1:   9%|██▌                        | 1762/18792 [06:25<1:02:52,  4.51it/s]"
          ]
        }
      ],
      "source": [
        "!python -m lm-question-generation.lmqg.grid_searcher_flan_t5_large_squad_qg_lora_r8_al32_training"
      ]
    },
    {
      "cell_type": "code",
      "execution_count": null,
      "metadata": {},
      "outputs": [],
      "source": [
        "!python -m lm-question-generation.lmqg.grid_searcher_flan_t5_large_squad_qg_lora_r8_al32_evaluation"
      ]
    },
    {
      "cell_type": "code",
      "execution_count": null,
      "metadata": {},
      "outputs": [],
      "source": [
        "wandb.finish()"
      ]
    },
    {
      "cell_type": "markdown",
      "metadata": {},
      "source": [
        "## Flan T5 XXL Model"
      ]
    },
    {
      "cell_type": "markdown",
      "metadata": {},
      "source": [
        "### Original Model (Squad)"
      ]
    },
    {
      "cell_type": "code",
      "execution_count": null,
      "metadata": {},
      "outputs": [],
      "source": [
        "!python -m lm-question-generation.lmqg.grid_searcher_flan_t5_xxl_squad_qg"
      ]
    },
    {
      "cell_type": "code",
      "execution_count": null,
      "metadata": {},
      "outputs": [],
      "source": [
        "wandb.finish()"
      ]
    },
    {
      "cell_type": "markdown",
      "metadata": {},
      "source": [
        "### Lora Model (Squad)"
      ]
    },
    {
      "cell_type": "code",
      "execution_count": null,
      "metadata": {},
      "outputs": [],
      "source": [
        "!python -m lm-question-generation.lmqg.grid_searcher_flan_t5_xxl_squad_qg_lora_r8_al32_training "
      ]
    },
    {
      "cell_type": "code",
      "execution_count": null,
      "metadata": {},
      "outputs": [],
      "source": [
        "!python -m lm-question-generation.lmqg.grid_searcher_flan_t5_xxl_squad_qg_lora_r8_al32_evaluation"
      ]
    },
    {
      "cell_type": "code",
      "execution_count": null,
      "metadata": {},
      "outputs": [],
      "source": [
        "!python -m lm-question-generation.lmqg.grid_searcher_flan_t5_xxl_squad_qg_lora_r1_al32_training "
      ]
    },
    {
      "cell_type": "code",
      "execution_count": null,
      "metadata": {},
      "outputs": [],
      "source": [
        "!python -m lm-question-generation.lmqg.grid_searcher_flan_t5_xxl_squad_qg_lora_r1_al32_evaluation"
      ]
    },
    {
      "cell_type": "code",
      "execution_count": null,
      "metadata": {},
      "outputs": [],
      "source": [
        "wandb.finish()"
      ]
    },
    {
      "cell_type": "markdown",
      "metadata": {
        "id": "erRMsEx-zJbX"
      },
      "source": [
        "## T5 Small Grid Search"
      ]
    },
    {
      "cell_type": "code",
      "execution_count": null,
      "metadata": {},
      "outputs": [],
      "source": [
        "from lmqg import GridSearcher\n",
        "\n",
        "trainer = GridSearcher(\n",
        "    checkpoint_dir='tmp_ckpt_t5_small_0819',\n",
        "    dataset_path='lmqg/qg_squad',\n",
        "    model='t5-small',\n",
        "    epoch=3,\n",
        "    epoch_partial=1,\n",
        "    batch=64,\n",
        "    n_max_config=5,\n",
        "    gradient_accumulation_steps=[2], \n",
        "    lr=[1e-04],\n",
        "    label_smoothing=[0, 0.15]\n",
        ")\n",
        "trainer.run()"
      ]
    },
    {
      "cell_type": "markdown",
      "metadata": {},
      "source": [
        "Grid Search\n",
        "<br>gradient_accumulation_steps=[2, 4], \n",
        "<br>lr=[1e-04, 5e-04, 1e-03],\n",
        "<br>label_smoothing=[0, 0.15]"
      ]
    },
    {
      "cell_type": "markdown",
      "metadata": {},
      "source": [
        "The number of model: \n",
        "<br>gradient_accumulation_steps * lr * label_smoothing \n",
        "<br>3 * 2 * 2 = 12"
      ]
    },
    {
      "cell_type": "code",
      "execution_count": 58,
      "metadata": {},
      "outputs": [
        {
          "name": "stdout",
          "output_type": "stream",
          "text": [
            "Best Model of T5 Small\n",
            "\n",
            "_name_or_path : tmp_ckpt/model_cghqta/epoch_5\n",
            "model : t5-small\n",
            "epoch : 12\n",
            "batch : 64\n",
            "lr : 0.0005  [Grid Search Result]\n",
            "gradient_accumulation_steps : 4  [Grid Search Result]\n",
            "label_smoothing : 0.15  [Grid Search Result]\n"
          ]
        }
      ],
      "source": [
        "with open('tmp_ckpt_t5_small_0818/best_model/config.json', 'r') as f:\n",
        "    t5_small_best_model_config = json.load(f)\n",
        "\n",
        "with open('tmp_ckpt_t5_small_0818/best_model/trainer_config.json', 'r') as f:\n",
        "    t5_small_best_model_hyperparameter_search = json.load(f)\n",
        "\n",
        "hyperparameters = ['model', 'epoch', 'batch',\n",
        "                   'lr', 'gradient_accumulation_steps', 'label_smoothing']\n",
        "grid_serach_hyperparameter = ['lr', 'gradient_accumulation_steps', 'label_smoothing']\n",
        "\n",
        "print(colored(\"Best Model of T5 Small\", attrs=['bold']))\n",
        "print()\n",
        "for value, key in t5_small_best_model_config.items():\n",
        "    if '_name_or_path' in value:\n",
        "        print(\"{} : {}\".format(value, key))   \n",
        "    \n",
        "for value, key in t5_small_best_model_hyperparameter_search.items():\n",
        "    if any(hyperparameter in value for hyperparameter in hyperparameters):\n",
        "        if any(hyperparameter in value for hyperparameter in grid_serach_hyperparameter):\n",
        "            print(\"{} : {}  [Grid Search Result]\".format(value, key))\n",
        "        else:\n",
        "            print(\"{} : {}\".format(value, key))"
      ]
    },
    {
      "cell_type": "markdown",
      "metadata": {},
      "source": [
        "## T5 Small Best Model"
      ]
    },
    {
      "cell_type": "markdown",
      "metadata": {},
      "source": [
        "### End2end QAG"
      ]
    },
    {
      "cell_type": "code",
      "execution_count": 49,
      "metadata": {},
      "outputs": [
        {
          "name": "stdout",
          "output_type": "stream",
          "text": [
            "/opt/conda/lib/python3.8/site-packages/transformers/tokenization_utils_base.py:1714: FutureWarning: The `use_auth_token` argument is deprecated and will be removed in v5 of Transformers.\n",
            "  warnings.warn(\n",
            "/opt/conda/lib/python3.8/site-packages/transformers/modeling_utils.py:2193: FutureWarning: The `use_auth_token` argument is deprecated and will be removed in v5 of Transformers.\n",
            "  warnings.warn(\n",
            "/opt/conda/lib/python3.8/site-packages/datasets/load.py:2072: FutureWarning: 'use_auth_token' was deprecated in favor of 'token' in version 2.14.0 and will be removed in 3.0.0.\n",
            "You can remove this warning by passing 'token=False' instead.\n",
            "  warnings.warn(\n",
            "  1%|▎                                    | 112/12564 [00:00<00:11, 1119.87it/s]Token indices sequence length is longer than the specified maximum sequence length for this model (539 > 512). Running this sequence through the model will result in indexing errors\n",
            "100%|████████████████████████████████████| 12564/12564 [00:12<00:00, 987.38it/s]\n",
            "/opt/conda/lib/python3.8/site-packages/torch/nn/parallel/_functions.py:68: UserWarning: Was asked to gather along dimension 0, but all input tensors were scalars; will instead unsqueeze and return a vector.\n",
            "  warnings.warn('Was asked to gather along dimension 0, but all '\n",
            "/opt/conda/lib/python3.8/site-packages/transformers/tokenization_utils_base.py:1714: FutureWarning: The `use_auth_token` argument is deprecated and will be removed in v5 of Transformers.\n",
            "  warnings.warn(\n",
            "/opt/conda/lib/python3.8/site-packages/transformers/modeling_utils.py:2193: FutureWarning: The `use_auth_token` argument is deprecated and will be removed in v5 of Transformers.\n",
            "  warnings.warn(\n",
            "100%|███████████████████████████████████| 18844/18844 [00:09<00:00, 2063.41it/s]\n",
            "100%|█████████████████████████████████████| 6283/6283 [00:02<00:00, 2109.38it/s]\n",
            "Some weights of RobertaModel were not initialized from the model checkpoint at roberta-large and are newly initialized: ['roberta.pooler.dense.bias', 'roberta.pooler.dense.weight']\n",
            "You should probably TRAIN this model on a down-stream task to be able to use it for predictions and inference.\n",
            "calculating scores...\n",
            "computing bert embedding.\n",
            "100%|█████████████████████████████████████████| 375/375 [00:05<00:00, 67.28it/s]\n",
            "computing greedy matching.\n",
            "100%|████████████████████████████████████████| 192/192 [00:00<00:00, 333.72it/s]\n",
            "done in 6.16 seconds, 993.73 sentences/sec\n",
            "100%|█████████████████████████████████████████| 192/192 [00:06<00:00, 28.80it/s]\n",
            "Some weights of RobertaModel were not initialized from the model checkpoint at roberta-large and are newly initialized: ['roberta.pooler.dense.bias', 'roberta.pooler.dense.weight']\n",
            "You should probably TRAIN this model on a down-stream task to be able to use it for predictions and inference.\n",
            "calculating scores...\n",
            "computing bert embedding.\n",
            "100%|███████████████████████████████████████| 1067/1067 [00:15<00:00, 67.15it/s]\n",
            "computing greedy matching.\n",
            "100%|████████████████████████████████████████| 549/549 [00:01<00:00, 328.91it/s]\n",
            "done in 17.60 seconds, 996.87 sentences/sec\n",
            "100%|█████████████████████████████████████████| 549/549 [00:19<00:00, 28.76it/s]\n",
            "Some weights of RobertaModel were not initialized from the model checkpoint at roberta-large and are newly initialized: ['roberta.pooler.dense.bias', 'roberta.pooler.dense.weight']\n",
            "You should probably TRAIN this model on a down-stream task to be able to use it for predictions and inference.\n",
            "calculating scores...\n",
            "computing bert embedding.\n",
            "100%|█████████████████████████████████████████| 375/375 [00:05<00:00, 67.27it/s]\n",
            "computing greedy matching.\n",
            "100%|████████████████████████████████████████| 192/192 [00:00<00:00, 332.50it/s]\n",
            "done in 6.17 seconds, 993.29 sentences/sec\n",
            "100%|█████████████████████████████████████████| 192/192 [00:06<00:00, 29.90it/s]\n",
            "Some weights of RobertaModel were not initialized from the model checkpoint at roberta-large and are newly initialized: ['roberta.pooler.dense.bias', 'roberta.pooler.dense.weight']\n",
            "You should probably TRAIN this model on a down-stream task to be able to use it for predictions and inference.\n",
            "calculating scores...\n",
            "computing bert embedding.\n",
            "100%|███████████████████████████████████████| 1067/1067 [00:15<00:00, 67.12it/s]\n",
            "computing greedy matching.\n",
            "100%|████████████████████████████████████████| 549/549 [00:01<00:00, 330.18it/s]\n",
            "done in 17.60 seconds, 996.92 sentences/sec\n",
            "100%|█████████████████████████████████████████| 549/549 [00:18<00:00, 29.19it/s]\n",
            "Some weights of RobertaModel were not initialized from the model checkpoint at roberta-large and are newly initialized: ['roberta.pooler.dense.bias', 'roberta.pooler.dense.weight']\n",
            "You should probably TRAIN this model on a down-stream task to be able to use it for predictions and inference.\n",
            "calculating scores...\n",
            "computing bert embedding.\n",
            "100%|█████████████████████████████████████████| 370/370 [00:05<00:00, 64.82it/s]\n",
            "computing greedy matching.\n",
            "100%|████████████████████████████████████████| 192/192 [00:00<00:00, 330.43it/s]\n",
            "done in 6.30 seconds, 971.65 sentences/sec\n",
            "100%|█████████████████████████████████████████| 192/192 [00:07<00:00, 26.42it/s]\n",
            "Some weights of RobertaModel were not initialized from the model checkpoint at roberta-large and are newly initialized: ['roberta.pooler.dense.bias', 'roberta.pooler.dense.weight']\n",
            "You should probably TRAIN this model on a down-stream task to be able to use it for predictions and inference.\n",
            "calculating scores...\n",
            "computing bert embedding.\n",
            "100%|███████████████████████████████████████| 1017/1017 [00:15<00:00, 65.82it/s]\n",
            "computing greedy matching.\n",
            "100%|████████████████████████████████████████| 549/549 [00:01<00:00, 325.76it/s]\n",
            "done in 17.21 seconds, 1018.97 sentences/sec\n",
            "100%|█████████████████████████████████████████| 549/549 [00:20<00:00, 27.12it/s]\n",
            "Some weights of RobertaModel were not initialized from the model checkpoint at roberta-large and are newly initialized: ['roberta.pooler.dense.bias', 'roberta.pooler.dense.weight']\n",
            "You should probably TRAIN this model on a down-stream task to be able to use it for predictions and inference.\n",
            "calculating scores...\n",
            "computing bert embedding.\n",
            "100%|█████████████████████████████████████████| 375/375 [00:05<00:00, 66.29it/s]\n",
            "computing greedy matching.\n",
            "100%|████████████████████████████████████████| 192/192 [00:00<00:00, 334.71it/s]\n",
            "done in 6.24 seconds, 980.79 sentences/sec\n",
            "100%|█████████████████████████████████████████| 192/192 [00:06<00:00, 30.09it/s]\n",
            "Some weights of RobertaModel were not initialized from the model checkpoint at roberta-large and are newly initialized: ['roberta.pooler.dense.bias', 'roberta.pooler.dense.weight']\n",
            "You should probably TRAIN this model on a down-stream task to be able to use it for predictions and inference.\n",
            "calculating scores...\n",
            "computing bert embedding.\n",
            "100%|███████████████████████████████████████| 1065/1065 [00:15<00:00, 67.80it/s]\n",
            "computing greedy matching.\n",
            "100%|████████████████████████████████████████| 549/549 [00:01<00:00, 329.84it/s]\n",
            "done in 17.41 seconds, 1007.53 sentences/sec\n",
            "100%|█████████████████████████████████████████| 549/549 [00:18<00:00, 29.33it/s]\n",
            "Some weights of RobertaModel were not initialized from the model checkpoint at roberta-large and are newly initialized: ['roberta.pooler.dense.bias', 'roberta.pooler.dense.weight']\n",
            "You should probably TRAIN this model on a down-stream task to be able to use it for predictions and inference.\n",
            "calculating scores...\n",
            "computing bert embedding.\n",
            "100%|█████████████████████████████████████████| 374/374 [00:05<00:00, 67.30it/s]\n",
            "computing greedy matching.\n",
            "100%|████████████████████████████████████████| 192/192 [00:00<00:00, 332.79it/s]\n",
            "done in 6.15 seconds, 996.29 sentences/sec\n",
            "100%|█████████████████████████████████████████| 192/192 [00:06<00:00, 29.45it/s]\n",
            "Some weights of RobertaModel were not initialized from the model checkpoint at roberta-large and are newly initialized: ['roberta.pooler.dense.bias', 'roberta.pooler.dense.weight']\n",
            "You should probably TRAIN this model on a down-stream task to be able to use it for predictions and inference.\n",
            "calculating scores...\n",
            "computing bert embedding.\n",
            "100%|███████████████████████████████████████| 1061/1061 [00:15<00:00, 67.16it/s]\n",
            "computing greedy matching.\n",
            "100%|████████████████████████████████████████| 549/549 [00:01<00:00, 330.34it/s]\n",
            "done in 17.54 seconds, 1000.21 sentences/sec\n",
            "100%|█████████████████████████████████████████| 549/549 [00:18<00:00, 29.27it/s]\n",
            "Some weights of RobertaModel were not initialized from the model checkpoint at roberta-large and are newly initialized: ['roberta.pooler.dense.bias', 'roberta.pooler.dense.weight']\n",
            "You should probably TRAIN this model on a down-stream task to be able to use it for predictions and inference.\n",
            "calculating scores...\n",
            "computing bert embedding.\n",
            "100%|█████████████████████████████████████████| 374/374 [00:05<00:00, 67.27it/s]\n",
            "computing greedy matching.\n",
            "100%|████████████████████████████████████████| 192/192 [00:00<00:00, 331.86it/s]\n",
            "done in 6.15 seconds, 995.50 sentences/sec\n",
            "100%|█████████████████████████████████████████| 192/192 [00:06<00:00, 29.70it/s]\n",
            "Some weights of RobertaModel were not initialized from the model checkpoint at roberta-large and are newly initialized: ['roberta.pooler.dense.bias', 'roberta.pooler.dense.weight']\n",
            "You should probably TRAIN this model on a down-stream task to be able to use it for predictions and inference.\n",
            "calculating scores...\n",
            "computing bert embedding.\n",
            "100%|███████████████████████████████████████| 1063/1063 [00:15<00:00, 66.86it/s]\n",
            "computing greedy matching.\n",
            "100%|████████████████████████████████████████| 549/549 [00:01<00:00, 322.18it/s]\n",
            "done in 17.68 seconds, 992.24 sentences/sec\n",
            "100%|█████████████████████████████████████████| 549/549 [00:18<00:00, 29.31it/s]\n",
            "Some weights of RobertaModel were not initialized from the model checkpoint at roberta-large and are newly initialized: ['roberta.pooler.dense.bias', 'roberta.pooler.dense.weight']\n",
            "You should probably TRAIN this model on a down-stream task to be able to use it for predictions and inference.\n",
            "calculating scores...\n",
            "computing bert embedding.\n",
            "100%|█████████████████████████████████████████| 374/374 [00:05<00:00, 67.25it/s]\n",
            "computing greedy matching.\n",
            "100%|████████████████████████████████████████| 192/192 [00:00<00:00, 333.39it/s]\n",
            "done in 6.15 seconds, 995.73 sentences/sec\n",
            "100%|█████████████████████████████████████████| 192/192 [00:06<00:00, 29.89it/s]\n",
            "Some weights of RobertaModel were not initialized from the model checkpoint at roberta-large and are newly initialized: ['roberta.pooler.dense.bias', 'roberta.pooler.dense.weight']\n",
            "You should probably TRAIN this model on a down-stream task to be able to use it for predictions and inference.\n",
            "calculating scores...\n",
            "computing bert embedding.\n",
            "100%|███████████████████████████████████████| 1061/1061 [00:15<00:00, 67.58it/s]\n",
            "computing greedy matching.\n",
            "100%|████████████████████████████████████████| 549/549 [00:01<00:00, 326.31it/s]\n",
            "done in 17.43 seconds, 1006.19 sentences/sec\n",
            "100%|█████████████████████████████████████████| 549/549 [00:18<00:00, 29.88it/s]\n",
            "Some weights of RobertaModel were not initialized from the model checkpoint at roberta-large and are newly initialized: ['roberta.pooler.dense.bias', 'roberta.pooler.dense.weight']\n",
            "You should probably TRAIN this model on a down-stream task to be able to use it for predictions and inference.\n",
            "calculating scores...\n",
            "computing bert embedding.\n",
            "100%|█████████████████████████████████████████| 374/374 [00:05<00:00, 67.41it/s]\n",
            "computing greedy matching.\n",
            "100%|████████████████████████████████████████| 192/192 [00:00<00:00, 333.62it/s]\n",
            "done in 6.14 seconds, 997.92 sentences/sec\n",
            "100%|█████████████████████████████████████████| 192/192 [00:06<00:00, 30.29it/s]\n",
            "Some weights of RobertaModel were not initialized from the model checkpoint at roberta-large and are newly initialized: ['roberta.pooler.dense.bias', 'roberta.pooler.dense.weight']\n",
            "You should probably TRAIN this model on a down-stream task to be able to use it for predictions and inference.\n",
            "calculating scores...\n",
            "computing bert embedding.\n",
            "100%|███████████████████████████████████████| 1062/1062 [00:15<00:00, 67.17it/s]\n",
            "computing greedy matching.\n",
            "100%|████████████████████████████████████████| 549/549 [00:01<00:00, 329.13it/s]\n",
            "done in 17.55 seconds, 999.29 sentences/sec\n",
            "100%|█████████████████████████████████████████| 549/549 [00:18<00:00, 29.97it/s]\n",
            "Some weights of RobertaModel were not initialized from the model checkpoint at roberta-large and are newly initialized: ['roberta.pooler.dense.bias', 'roberta.pooler.dense.weight']\n",
            "You should probably TRAIN this model on a down-stream task to be able to use it for predictions and inference.\n",
            "calculating scores...\n",
            "computing bert embedding.\n",
            "100%|█████████████████████████████████████████| 374/374 [00:05<00:00, 67.24it/s]\n",
            "computing greedy matching.\n",
            "100%|████████████████████████████████████████| 192/192 [00:00<00:00, 331.92it/s]\n",
            "done in 6.15 seconds, 995.19 sentences/sec\n",
            "100%|█████████████████████████████████████████| 192/192 [00:06<00:00, 29.85it/s]\n",
            "Some weights of RobertaModel were not initialized from the model checkpoint at roberta-large and are newly initialized: ['roberta.pooler.dense.bias', 'roberta.pooler.dense.weight']\n",
            "You should probably TRAIN this model on a down-stream task to be able to use it for predictions and inference.\n",
            "calculating scores...\n",
            "computing bert embedding.\n",
            "100%|███████████████████████████████████████| 1061/1061 [00:15<00:00, 67.39it/s]\n",
            "computing greedy matching.\n",
            "100%|████████████████████████████████████████| 549/549 [00:01<00:00, 328.32it/s]\n",
            "done in 17.49 seconds, 1002.85 sentences/sec\n",
            "100%|█████████████████████████████████████████| 549/549 [00:18<00:00, 29.69it/s]\n",
            "Some weights of RobertaModel were not initialized from the model checkpoint at roberta-large and are newly initialized: ['roberta.pooler.dense.bias', 'roberta.pooler.dense.weight']\n",
            "You should probably TRAIN this model on a down-stream task to be able to use it for predictions and inference.\n",
            "calculating scores...\n",
            "computing bert embedding.\n",
            "100%|█████████████████████████████████████████| 377/377 [00:05<00:00, 66.93it/s]\n",
            "computing greedy matching.\n",
            "100%|████████████████████████████████████████| 192/192 [00:00<00:00, 332.27it/s]\n",
            "done in 6.22 seconds, 983.82 sentences/sec\n",
            "100%|█████████████████████████████████████████| 192/192 [00:06<00:00, 29.10it/s]\n",
            "Some weights of RobertaModel were not initialized from the model checkpoint at roberta-large and are newly initialized: ['roberta.pooler.dense.bias', 'roberta.pooler.dense.weight']\n",
            "You should probably TRAIN this model on a down-stream task to be able to use it for predictions and inference.\n",
            "calculating scores...\n",
            "computing bert embedding.\n",
            "100%|███████████████████████████████████████| 1068/1068 [00:15<00:00, 67.19it/s]\n",
            "computing greedy matching.\n",
            "100%|████████████████████████████████████████| 549/549 [00:01<00:00, 327.28it/s]\n",
            "done in 17.65 seconds, 993.76 sentences/sec\n",
            "100%|█████████████████████████████████████████| 549/549 [00:19<00:00, 28.25it/s]\n",
            "Some weights of RobertaModel were not initialized from the model checkpoint at roberta-large and are newly initialized: ['roberta.pooler.dense.bias', 'roberta.pooler.dense.weight']\n",
            "You should probably TRAIN this model on a down-stream task to be able to use it for predictions and inference.\n",
            "calculating scores...\n",
            "computing bert embedding.\n",
            "100%|█████████████████████████████████████████| 375/375 [00:05<00:00, 67.22it/s]\n",
            "computing greedy matching.\n",
            "100%|████████████████████████████████████████| 192/192 [00:00<00:00, 335.32it/s]\n",
            "done in 6.16 seconds, 993.38 sentences/sec\n",
            "100%|█████████████████████████████████████████| 192/192 [00:06<00:00, 28.88it/s]\n",
            "Some weights of RobertaModel were not initialized from the model checkpoint at roberta-large and are newly initialized: ['roberta.pooler.dense.bias', 'roberta.pooler.dense.weight']\n",
            "You should probably TRAIN this model on a down-stream task to be able to use it for predictions and inference.\n",
            "calculating scores...\n",
            "computing bert embedding.\n",
            "100%|███████████████████████████████████████| 1065/1065 [00:15<00:00, 66.58it/s]\n",
            "computing greedy matching.\n",
            "100%|████████████████████████████████████████| 549/549 [00:01<00:00, 325.82it/s]\n",
            "done in 17.72 seconds, 989.92 sentences/sec\n",
            "100%|█████████████████████████████████████████| 549/549 [00:19<00:00, 28.82it/s]\n",
            "Some weights of RobertaModel were not initialized from the model checkpoint at roberta-large and are newly initialized: ['roberta.pooler.dense.bias', 'roberta.pooler.dense.weight']\n",
            "You should probably TRAIN this model on a down-stream task to be able to use it for predictions and inference.\n",
            "calculating scores...\n",
            "computing bert embedding.\n",
            "100%|█████████████████████████████████████████| 376/376 [00:05<00:00, 67.08it/s]\n",
            "computing greedy matching.\n",
            "100%|████████████████████████████████████████| 192/192 [00:00<00:00, 333.01it/s]\n",
            "done in 6.19 seconds, 988.54 sentences/sec\n",
            "100%|█████████████████████████████████████████| 192/192 [00:06<00:00, 29.22it/s]\n",
            "Some weights of RobertaModel were not initialized from the model checkpoint at roberta-large and are newly initialized: ['roberta.pooler.dense.bias', 'roberta.pooler.dense.weight']\n",
            "You should probably TRAIN this model on a down-stream task to be able to use it for predictions and inference.\n",
            "calculating scores...\n",
            "computing bert embedding.\n",
            "100%|███████████████████████████████████████| 1068/1068 [00:15<00:00, 66.96it/s]\n",
            "computing greedy matching.\n",
            "100%|████████████████████████████████████████| 549/549 [00:01<00:00, 327.82it/s]\n",
            "done in 17.66 seconds, 993.04 sentences/sec\n",
            "100%|█████████████████████████████████████████| 549/549 [00:19<00:00, 28.77it/s]\n",
            "Some weights of RobertaModel were not initialized from the model checkpoint at roberta-large and are newly initialized: ['roberta.pooler.dense.bias', 'roberta.pooler.dense.weight']\n",
            "You should probably TRAIN this model on a down-stream task to be able to use it for predictions and inference.\n",
            "calculating scores...\n",
            "computing bert embedding.\n",
            "100%|█████████████████████████████████████████| 375/375 [00:05<00:00, 67.12it/s]\n",
            "computing greedy matching.\n",
            "100%|████████████████████████████████████████| 192/192 [00:00<00:00, 333.62it/s]\n",
            "done in 6.18 seconds, 991.58 sentences/sec\n",
            "100%|█████████████████████████████████████████| 192/192 [00:06<00:00, 29.07it/s]\n",
            "Some weights of RobertaModel were not initialized from the model checkpoint at roberta-large and are newly initialized: ['roberta.pooler.dense.bias', 'roberta.pooler.dense.weight']\n",
            "You should probably TRAIN this model on a down-stream task to be able to use it for predictions and inference.\n",
            "calculating scores...\n",
            "computing bert embedding.\n",
            "100%|███████████████████████████████████████| 1065/1065 [00:15<00:00, 66.98it/s]\n",
            "computing greedy matching.\n",
            "100%|████████████████████████████████████████| 549/549 [00:01<00:00, 326.33it/s]\n",
            "done in 17.62 seconds, 995.38 sentences/sec\n",
            "100%|█████████████████████████████████████████| 549/549 [00:18<00:00, 29.34it/s]\n",
            "Some weights of RobertaModel were not initialized from the model checkpoint at roberta-large and are newly initialized: ['roberta.pooler.dense.bias', 'roberta.pooler.dense.weight']\n",
            "You should probably TRAIN this model on a down-stream task to be able to use it for predictions and inference.\n",
            "calculating scores...\n",
            "computing bert embedding.\n",
            "100%|█████████████████████████████████████████| 375/375 [00:05<00:00, 67.34it/s]\n",
            "computing greedy matching.\n",
            "100%|████████████████████████████████████████| 192/192 [00:00<00:00, 331.41it/s]\n",
            "done in 6.16 seconds, 993.89 sentences/sec\n",
            "100%|█████████████████████████████████████████| 192/192 [00:06<00:00, 29.32it/s]\n",
            "Some weights of RobertaModel were not initialized from the model checkpoint at roberta-large and are newly initialized: ['roberta.pooler.dense.bias', 'roberta.pooler.dense.weight']\n",
            "You should probably TRAIN this model on a down-stream task to be able to use it for predictions and inference.\n",
            "calculating scores...\n",
            "computing bert embedding.\n",
            "100%|███████████████████████████████████████| 1065/1065 [00:15<00:00, 67.03it/s]\n",
            "computing greedy matching.\n",
            "100%|████████████████████████████████████████| 549/549 [00:01<00:00, 325.73it/s]\n",
            "done in 17.61 seconds, 996.07 sentences/sec\n",
            "100%|█████████████████████████████████████████| 549/549 [00:18<00:00, 29.07it/s]\n",
            "Some weights of RobertaModel were not initialized from the model checkpoint at roberta-large and are newly initialized: ['roberta.pooler.dense.bias', 'roberta.pooler.dense.weight']\n",
            "You should probably TRAIN this model on a down-stream task to be able to use it for predictions and inference.\n",
            "calculating scores...\n",
            "computing bert embedding.\n",
            "100%|█████████████████████████████████████████| 374/374 [00:05<00:00, 65.99it/s]\n",
            "computing greedy matching.\n",
            "100%|████████████████████████████████████████| 192/192 [00:00<00:00, 333.51it/s]\n",
            "done in 6.26 seconds, 978.75 sentences/sec\n",
            "100%|█████████████████████████████████████████| 192/192 [00:06<00:00, 29.38it/s]\n",
            "Some weights of RobertaModel were not initialized from the model checkpoint at roberta-large and are newly initialized: ['roberta.pooler.dense.bias', 'roberta.pooler.dense.weight']\n",
            "You should probably TRAIN this model on a down-stream task to be able to use it for predictions and inference.\n",
            "calculating scores...\n",
            "computing bert embedding.\n",
            "100%|███████████████████████████████████████| 1064/1064 [00:15<00:00, 67.31it/s]\n",
            "computing greedy matching.\n",
            "100%|████████████████████████████████████████| 549/549 [00:01<00:00, 328.84it/s]\n",
            "done in 17.52 seconds, 1001.40 sentences/sec\n",
            "100%|█████████████████████████████████████████| 549/549 [00:18<00:00, 29.22it/s]\n",
            "Some weights of RobertaModel were not initialized from the model checkpoint at roberta-large and are newly initialized: ['roberta.pooler.dense.bias', 'roberta.pooler.dense.weight']\n",
            "You should probably TRAIN this model on a down-stream task to be able to use it for predictions and inference.\n",
            "calculating scores...\n",
            "computing bert embedding.\n",
            "100%|█████████████████████████████████████████| 374/374 [00:05<00:00, 67.19it/s]\n",
            "computing greedy matching.\n",
            "100%|████████████████████████████████████████| 192/192 [00:00<00:00, 330.83it/s]\n",
            "done in 6.16 seconds, 994.20 sentences/sec\n",
            "100%|█████████████████████████████████████████| 192/192 [00:06<00:00, 29.28it/s]\n",
            "Some weights of RobertaModel were not initialized from the model checkpoint at roberta-large and are newly initialized: ['roberta.pooler.dense.bias', 'roberta.pooler.dense.weight']\n",
            "You should probably TRAIN this model on a down-stream task to be able to use it for predictions and inference.\n",
            "calculating scores...\n",
            "computing bert embedding.\n",
            "100%|███████████████████████████████████████| 1066/1066 [00:15<00:00, 67.27it/s]\n",
            "computing greedy matching.\n",
            "100%|████████████████████████████████████████| 549/549 [00:01<00:00, 325.51it/s]\n",
            "done in 17.57 seconds, 998.36 sentences/sec\n",
            "100%|█████████████████████████████████████████| 549/549 [00:18<00:00, 29.12it/s]\n",
            "Some weights of RobertaModel were not initialized from the model checkpoint at roberta-large and are newly initialized: ['roberta.pooler.dense.bias', 'roberta.pooler.dense.weight']\n",
            "You should probably TRAIN this model on a down-stream task to be able to use it for predictions and inference.\n",
            "calculating scores...\n",
            "computing bert embedding.\n",
            "100%|█████████████████████████████████████████| 370/370 [00:05<00:00, 65.29it/s]\n",
            "computing greedy matching.\n",
            "100%|████████████████████████████████████████| 192/192 [00:00<00:00, 330.02it/s]\n",
            "done in 6.26 seconds, 977.97 sentences/sec\n",
            "100%|█████████████████████████████████████████| 192/192 [00:07<00:00, 26.61it/s]\n",
            "Some weights of RobertaModel were not initialized from the model checkpoint at roberta-large and are newly initialized: ['roberta.pooler.dense.bias', 'roberta.pooler.dense.weight']\n",
            "You should probably TRAIN this model on a down-stream task to be able to use it for predictions and inference.\n",
            "calculating scores...\n",
            "computing bert embedding.\n",
            "100%|███████████████████████████████████████| 1017/1017 [00:15<00:00, 65.37it/s]\n",
            "computing greedy matching.\n",
            "100%|████████████████████████████████████████| 549/549 [00:01<00:00, 326.96it/s]\n",
            "done in 17.30 seconds, 1014.01 sentences/sec\n",
            "100%|█████████████████████████████████████████| 549/549 [00:20<00:00, 26.86it/s]\n",
            "Some weights of RobertaModel were not initialized from the model checkpoint at roberta-large and are newly initialized: ['roberta.pooler.dense.bias', 'roberta.pooler.dense.weight']\n",
            "You should probably TRAIN this model on a down-stream task to be able to use it for predictions and inference.\n",
            "calculating scores...\n",
            "computing bert embedding.\n",
            "100%|█████████████████████████████████████████| 375/375 [00:05<00:00, 67.22it/s]\n",
            "computing greedy matching.\n",
            "100%|████████████████████████████████████████| 192/192 [00:00<00:00, 331.59it/s]\n",
            "done in 6.17 seconds, 992.33 sentences/sec\n",
            "100%|█████████████████████████████████████████| 192/192 [00:06<00:00, 29.65it/s]\n",
            "Some weights of RobertaModel were not initialized from the model checkpoint at roberta-large and are newly initialized: ['roberta.pooler.dense.bias', 'roberta.pooler.dense.weight']\n",
            "You should probably TRAIN this model on a down-stream task to be able to use it for predictions and inference.\n",
            "calculating scores...\n",
            "computing bert embedding.\n",
            "100%|███████████████████████████████████████| 1068/1068 [00:15<00:00, 67.19it/s]\n",
            "computing greedy matching.\n",
            "100%|████████████████████████████████████████| 549/549 [00:01<00:00, 327.79it/s]\n",
            "done in 17.61 seconds, 996.33 sentences/sec\n",
            "100%|█████████████████████████████████████████| 549/549 [00:18<00:00, 29.31it/s]\n",
            "Some weights of RobertaModel were not initialized from the model checkpoint at roberta-large and are newly initialized: ['roberta.pooler.dense.bias', 'roberta.pooler.dense.weight']\n",
            "You should probably TRAIN this model on a down-stream task to be able to use it for predictions and inference.\n",
            "calculating scores...\n",
            "computing bert embedding.\n",
            "100%|█████████████████████████████████████████| 375/375 [00:05<00:00, 67.22it/s]\n",
            "computing greedy matching.\n",
            "100%|████████████████████████████████████████| 192/192 [00:00<00:00, 332.34it/s]\n",
            "done in 6.17 seconds, 992.58 sentences/sec\n",
            "100%|█████████████████████████████████████████| 192/192 [00:06<00:00, 29.23it/s]\n",
            "Some weights of RobertaModel were not initialized from the model checkpoint at roberta-large and are newly initialized: ['roberta.pooler.dense.bias', 'roberta.pooler.dense.weight']\n",
            "You should probably TRAIN this model on a down-stream task to be able to use it for predictions and inference.\n",
            "calculating scores...\n",
            "computing bert embedding.\n",
            "100%|███████████████████████████████████████| 1066/1066 [00:15<00:00, 67.09it/s]\n",
            "computing greedy matching.\n",
            "100%|████████████████████████████████████████| 549/549 [00:01<00:00, 328.47it/s]\n",
            "done in 17.60 seconds, 996.82 sentences/sec\n",
            "100%|█████████████████████████████████████████| 549/549 [00:19<00:00, 28.87it/s]\n",
            "Some weights of RobertaModel were not initialized from the model checkpoint at roberta-large and are newly initialized: ['roberta.pooler.dense.bias', 'roberta.pooler.dense.weight']\n",
            "You should probably TRAIN this model on a down-stream task to be able to use it for predictions and inference.\n",
            "calculating scores...\n",
            "computing bert embedding.\n",
            "100%|█████████████████████████████████████████| 375/375 [00:05<00:00, 66.92it/s]\n",
            "computing greedy matching.\n",
            "100%|████████████████████████████████████████| 192/192 [00:00<00:00, 321.38it/s]\n",
            "done in 6.21 seconds, 985.44 sentences/sec\n",
            "100%|█████████████████████████████████████████| 192/192 [00:06<00:00, 28.99it/s]\n",
            "Some weights of RobertaModel were not initialized from the model checkpoint at roberta-large and are newly initialized: ['roberta.pooler.dense.bias', 'roberta.pooler.dense.weight']\n",
            "You should probably TRAIN this model on a down-stream task to be able to use it for predictions and inference.\n",
            "calculating scores...\n",
            "computing bert embedding.\n",
            "100%|███████████████████████████████████████| 1068/1068 [00:15<00:00, 67.07it/s]\n",
            "computing greedy matching.\n",
            "100%|████████████████████████████████████████| 549/549 [00:01<00:00, 327.94it/s]\n",
            "done in 17.64 seconds, 994.63 sentences/sec\n",
            "100%|█████████████████████████████████████████| 549/549 [00:18<00:00, 28.95it/s]\n",
            "Some weights of RobertaModel were not initialized from the model checkpoint at roberta-large and are newly initialized: ['roberta.pooler.dense.bias', 'roberta.pooler.dense.weight']\n",
            "You should probably TRAIN this model on a down-stream task to be able to use it for predictions and inference.\n",
            "calculating scores...\n",
            "computing bert embedding.\n",
            "100%|█████████████████████████████████████████| 374/374 [00:05<00:00, 67.44it/s]\n",
            "computing greedy matching.\n",
            "100%|████████████████████████████████████████| 192/192 [00:00<00:00, 334.51it/s]\n",
            "done in 6.13 seconds, 998.52 sentences/sec\n",
            "100%|█████████████████████████████████████████| 192/192 [00:06<00:00, 29.74it/s]\n",
            "Some weights of RobertaModel were not initialized from the model checkpoint at roberta-large and are newly initialized: ['roberta.pooler.dense.bias', 'roberta.pooler.dense.weight']\n",
            "You should probably TRAIN this model on a down-stream task to be able to use it for predictions and inference.\n",
            "calculating scores...\n",
            "computing bert embedding.\n",
            "100%|███████████████████████████████████████| 1064/1064 [00:15<00:00, 66.88it/s]\n",
            "computing greedy matching.\n",
            "100%|████████████████████████████████████████| 549/549 [00:01<00:00, 326.04it/s]\n",
            "done in 17.65 seconds, 993.91 sentences/sec\n",
            "100%|█████████████████████████████████████████| 549/549 [00:18<00:00, 29.39it/s]\n",
            "Some weights of RobertaModel were not initialized from the model checkpoint at roberta-large and are newly initialized: ['roberta.pooler.dense.bias', 'roberta.pooler.dense.weight']\n",
            "You should probably TRAIN this model on a down-stream task to be able to use it for predictions and inference.\n",
            "calculating scores...\n",
            "computing bert embedding.\n",
            "100%|█████████████████████████████████████████| 374/374 [00:05<00:00, 66.09it/s]\n",
            "computing greedy matching.\n",
            "100%|████████████████████████████████████████| 192/192 [00:00<00:00, 331.64it/s]\n",
            "done in 6.25 seconds, 979.69 sentences/sec\n",
            "100%|█████████████████████████████████████████| 192/192 [00:06<00:00, 29.72it/s]\n",
            "Some weights of RobertaModel were not initialized from the model checkpoint at roberta-large and are newly initialized: ['roberta.pooler.dense.bias', 'roberta.pooler.dense.weight']\n",
            "You should probably TRAIN this model on a down-stream task to be able to use it for predictions and inference.\n",
            "calculating scores...\n",
            "computing bert embedding.\n",
            "100%|███████████████████████████████████████| 1066/1066 [00:15<00:00, 67.34it/s]\n",
            "computing greedy matching.\n",
            "100%|████████████████████████████████████████| 549/549 [00:01<00:00, 326.45it/s]\n",
            "done in 17.58 seconds, 997.86 sentences/sec\n",
            "100%|█████████████████████████████████████████| 549/549 [00:18<00:00, 29.55it/s]\n",
            "Some weights of RobertaModel were not initialized from the model checkpoint at roberta-large and are newly initialized: ['roberta.pooler.dense.bias', 'roberta.pooler.dense.weight']\n",
            "You should probably TRAIN this model on a down-stream task to be able to use it for predictions and inference.\n",
            "calculating scores...\n",
            "computing bert embedding.\n",
            "100%|█████████████████████████████████████████| 375/375 [00:05<00:00, 66.93it/s]\n",
            "computing greedy matching.\n",
            "100%|████████████████████████████████████████| 192/192 [00:00<00:00, 332.37it/s]\n",
            "done in 6.19 seconds, 988.72 sentences/sec\n",
            "100%|█████████████████████████████████████████| 192/192 [00:06<00:00, 29.53it/s]\n",
            "Some weights of RobertaModel were not initialized from the model checkpoint at roberta-large and are newly initialized: ['roberta.pooler.dense.bias', 'roberta.pooler.dense.weight']\n",
            "You should probably TRAIN this model on a down-stream task to be able to use it for predictions and inference.\n",
            "calculating scores...\n",
            "computing bert embedding.\n",
            "100%|███████████████████████████████████████| 1066/1066 [00:15<00:00, 67.55it/s]\n",
            "computing greedy matching.\n",
            "100%|████████████████████████████████████████| 549/549 [00:01<00:00, 328.43it/s]\n",
            "done in 17.50 seconds, 1002.10 sentences/sec\n",
            "100%|█████████████████████████████████████████| 549/549 [00:18<00:00, 29.39it/s]\n",
            "Some weights of RobertaModel were not initialized from the model checkpoint at roberta-large and are newly initialized: ['roberta.pooler.dense.bias', 'roberta.pooler.dense.weight']\n",
            "You should probably TRAIN this model on a down-stream task to be able to use it for predictions and inference.\n",
            "calculating scores...\n",
            "computing bert embedding.\n",
            "100%|█████████████████████████████████████████| 377/377 [00:05<00:00, 67.12it/s]\n",
            "computing greedy matching.\n",
            "100%|████████████████████████████████████████| 192/192 [00:00<00:00, 332.89it/s]\n",
            "done in 6.21 seconds, 986.56 sentences/sec\n",
            "100%|█████████████████████████████████████████| 192/192 [00:06<00:00, 28.66it/s]\n",
            "Some weights of RobertaModel were not initialized from the model checkpoint at roberta-large and are newly initialized: ['roberta.pooler.dense.bias', 'roberta.pooler.dense.weight']\n",
            "You should probably TRAIN this model on a down-stream task to be able to use it for predictions and inference.\n",
            "calculating scores...\n",
            "computing bert embedding.\n",
            "100%|███████████████████████████████████████| 1068/1068 [00:16<00:00, 66.46it/s]\n",
            "computing greedy matching.\n",
            "100%|████████████████████████████████████████| 549/549 [00:01<00:00, 327.50it/s]\n",
            "done in 17.82 seconds, 984.37 sentences/sec\n",
            "100%|█████████████████████████████████████████| 549/549 [00:19<00:00, 28.08it/s]\n",
            "Some weights of RobertaModel were not initialized from the model checkpoint at roberta-large and are newly initialized: ['roberta.pooler.dense.bias', 'roberta.pooler.dense.weight']\n",
            "You should probably TRAIN this model on a down-stream task to be able to use it for predictions and inference.\n",
            "calculating scores...\n",
            "computing bert embedding.\n",
            "100%|█████████████████████████████████████████| 375/375 [00:05<00:00, 67.00it/s]\n",
            "computing greedy matching.\n",
            "100%|████████████████████████████████████████| 192/192 [00:00<00:00, 331.68it/s]\n",
            "done in 6.19 seconds, 989.47 sentences/sec\n",
            "100%|█████████████████████████████████████████| 192/192 [00:06<00:00, 29.00it/s]\n",
            "Some weights of RobertaModel were not initialized from the model checkpoint at roberta-large and are newly initialized: ['roberta.pooler.dense.bias', 'roberta.pooler.dense.weight']\n",
            "You should probably TRAIN this model on a down-stream task to be able to use it for predictions and inference.\n",
            "calculating scores...\n",
            "computing bert embedding.\n",
            "100%|███████████████████████████████████████| 1065/1065 [00:16<00:00, 66.37it/s]\n",
            "computing greedy matching.\n",
            "100%|████████████████████████████████████████| 549/549 [00:01<00:00, 324.85it/s]\n",
            "done in 17.81 seconds, 984.64 sentences/sec\n",
            "100%|█████████████████████████████████████████| 549/549 [00:19<00:00, 28.41it/s]\n",
            "Some weights of RobertaModel were not initialized from the model checkpoint at roberta-large and are newly initialized: ['roberta.pooler.dense.bias', 'roberta.pooler.dense.weight']\n",
            "You should probably TRAIN this model on a down-stream task to be able to use it for predictions and inference.\n",
            "calculating scores...\n",
            "computing bert embedding.\n",
            "100%|█████████████████████████████████████████| 376/376 [00:05<00:00, 67.08it/s]\n",
            "computing greedy matching.\n",
            "100%|████████████████████████████████████████| 192/192 [00:00<00:00, 333.43it/s]\n",
            "done in 6.19 seconds, 988.56 sentences/sec\n",
            "100%|█████████████████████████████████████████| 192/192 [00:06<00:00, 29.15it/s]\n",
            "Some weights of RobertaModel were not initialized from the model checkpoint at roberta-large and are newly initialized: ['roberta.pooler.dense.bias', 'roberta.pooler.dense.weight']\n",
            "You should probably TRAIN this model on a down-stream task to be able to use it for predictions and inference.\n",
            "calculating scores...\n",
            "computing bert embedding.\n",
            "100%|███████████████████████████████████████| 1068/1068 [00:15<00:00, 66.91it/s]\n",
            "computing greedy matching.\n",
            "100%|████████████████████████████████████████| 549/549 [00:01<00:00, 328.62it/s]\n",
            "done in 17.71 seconds, 990.52 sentences/sec\n",
            "100%|█████████████████████████████████████████| 549/549 [00:19<00:00, 28.44it/s]\n",
            "Some weights of RobertaModel were not initialized from the model checkpoint at roberta-large and are newly initialized: ['roberta.pooler.dense.bias', 'roberta.pooler.dense.weight']\n",
            "You should probably TRAIN this model on a down-stream task to be able to use it for predictions and inference.\n",
            "calculating scores...\n",
            "computing bert embedding.\n",
            "100%|█████████████████████████████████████████| 375/375 [00:05<00:00, 66.66it/s]\n",
            "computing greedy matching.\n",
            "100%|████████████████████████████████████████| 192/192 [00:00<00:00, 334.08it/s]\n",
            "done in 6.21 seconds, 985.50 sentences/sec\n",
            "100%|█████████████████████████████████████████| 192/192 [00:06<00:00, 29.10it/s]\n",
            "Some weights of RobertaModel were not initialized from the model checkpoint at roberta-large and are newly initialized: ['roberta.pooler.dense.bias', 'roberta.pooler.dense.weight']\n",
            "You should probably TRAIN this model on a down-stream task to be able to use it for predictions and inference.\n",
            "calculating scores...\n",
            "computing bert embedding.\n",
            "100%|███████████████████████████████████████| 1065/1065 [00:15<00:00, 66.84it/s]\n",
            "computing greedy matching.\n",
            "100%|████████████████████████████████████████| 549/549 [00:01<00:00, 327.77it/s]\n",
            "done in 17.65 seconds, 994.02 sentences/sec\n",
            "100%|█████████████████████████████████████████| 549/549 [00:19<00:00, 28.48it/s]\n",
            "Some weights of RobertaModel were not initialized from the model checkpoint at roberta-large and are newly initialized: ['roberta.pooler.dense.bias', 'roberta.pooler.dense.weight']\n",
            "You should probably TRAIN this model on a down-stream task to be able to use it for predictions and inference.\n",
            "calculating scores...\n",
            "computing bert embedding.\n",
            "100%|█████████████████████████████████████████| 376/376 [00:05<00:00, 67.29it/s]\n",
            "computing greedy matching.\n",
            "100%|████████████████████████████████████████| 192/192 [00:00<00:00, 322.89it/s]\n",
            "done in 6.20 seconds, 988.39 sentences/sec\n",
            "100%|█████████████████████████████████████████| 192/192 [00:06<00:00, 29.45it/s]\n",
            "Some weights of RobertaModel were not initialized from the model checkpoint at roberta-large and are newly initialized: ['roberta.pooler.dense.bias', 'roberta.pooler.dense.weight']\n",
            "You should probably TRAIN this model on a down-stream task to be able to use it for predictions and inference.\n",
            "calculating scores...\n",
            "computing bert embedding.\n",
            "100%|███████████████████████████████████████| 1069/1069 [00:15<00:00, 67.26it/s]\n",
            "computing greedy matching.\n",
            "100%|████████████████████████████████████████| 549/549 [00:01<00:00, 329.41it/s]\n",
            "done in 17.60 seconds, 996.86 sentences/sec\n",
            "100%|█████████████████████████████████████████| 549/549 [00:19<00:00, 28.76it/s]\n",
            "Some weights of RobertaModel were not initialized from the model checkpoint at roberta-large and are newly initialized: ['roberta.pooler.dense.bias', 'roberta.pooler.dense.weight']\n",
            "You should probably TRAIN this model on a down-stream task to be able to use it for predictions and inference.\n",
            "calculating scores...\n",
            "computing bert embedding.\n",
            "100%|█████████████████████████████████████████| 375/375 [00:05<00:00, 66.95it/s]\n",
            "computing greedy matching.\n",
            "100%|████████████████████████████████████████| 192/192 [00:00<00:00, 331.20it/s]\n",
            "done in 6.19 seconds, 988.66 sentences/sec\n",
            "100%|█████████████████████████████████████████| 192/192 [00:06<00:00, 29.61it/s]\n",
            "Some weights of RobertaModel were not initialized from the model checkpoint at roberta-large and are newly initialized: ['roberta.pooler.dense.bias', 'roberta.pooler.dense.weight']\n",
            "You should probably TRAIN this model on a down-stream task to be able to use it for predictions and inference.\n",
            "calculating scores...\n",
            "computing bert embedding.\n",
            "100%|███████████████████████████████████████| 1066/1066 [00:15<00:00, 66.92it/s]\n",
            "computing greedy matching.\n",
            "100%|████████████████████████████████████████| 549/549 [00:01<00:00, 326.54it/s]\n",
            "done in 17.65 seconds, 993.62 sentences/sec\n",
            "100%|█████████████████████████████████████████| 549/549 [00:18<00:00, 28.97it/s]\n",
            "Some weights of RobertaModel were not initialized from the model checkpoint at roberta-large and are newly initialized: ['roberta.pooler.dense.bias', 'roberta.pooler.dense.weight']\n",
            "You should probably TRAIN this model on a down-stream task to be able to use it for predictions and inference.\n",
            "calculating scores...\n",
            "computing bert embedding.\n",
            "100%|█████████████████████████████████████████| 375/375 [00:05<00:00, 65.69it/s]\n",
            "computing greedy matching.\n",
            "100%|████████████████████████████████████████| 192/192 [00:00<00:00, 330.66it/s]\n",
            "done in 6.30 seconds, 971.61 sentences/sec\n",
            "100%|█████████████████████████████████████████| 192/192 [00:06<00:00, 29.70it/s]\n",
            "Some weights of RobertaModel were not initialized from the model checkpoint at roberta-large and are newly initialized: ['roberta.pooler.dense.bias', 'roberta.pooler.dense.weight']\n",
            "You should probably TRAIN this model on a down-stream task to be able to use it for predictions and inference.\n",
            "calculating scores...\n",
            "computing bert embedding.\n",
            "100%|███████████████████████████████████████| 1067/1067 [00:15<00:00, 66.96it/s]\n",
            "computing greedy matching.\n",
            "100%|████████████████████████████████████████| 549/549 [00:01<00:00, 326.60it/s]\n",
            "done in 17.65 seconds, 993.60 sentences/sec\n",
            "100%|█████████████████████████████████████████| 549/549 [00:19<00:00, 28.75it/s]\n"
          ]
        }
      ],
      "source": [
        "# lmqg/t5-small-squad-qag\n",
        "CUDA_VISIBLE_DEVICES=\"0\"\n",
        "\n",
        "!python -m lm-question-generation.lmqg.grid_searcher_t5_small_squad_qag_0821 \\\n",
        "#    --checkpoint_dir='tmp_ckpt_t5_small_squad_qag_0821' \\\n",
        "#    --dataset_path='lmqg/qg_squadshifts' \\\n",
        "#    --dataset_name='all' \\\n",
        "#    --model='t5-small' \\\n",
        "#    --epoch=15 \\\n",
        "#    --epoch_partial=5 \\\n",
        "#    --batch=64 \\\n",
        "#    --n_max_config=5 \\\n",
        "#    --gradient_accumulation_steps=[4] \\\n",
        "#    --lr=[5e-04] \\\n",
        "#    --label_smoothing=[0, 0.15] \\\n",
        "#    --language=\"en\""
      ]
    },
    {
      "cell_type": "markdown",
      "metadata": {},
      "source": [
        "### Multitask QAG"
      ]
    },
    {
      "cell_type": "code",
      "execution_count": 50,
      "metadata": {},
      "outputs": [
        {
          "name": "stdout",
          "output_type": "stream",
          "text": [
            "Downloading (…)okenizer_config.json: 100%|██| 2.36k/2.36k [00:00<00:00, 478kB/s]\n",
            "/opt/conda/lib/python3.8/site-packages/transformers/tokenization_utils_base.py:1714: FutureWarning: The `use_auth_token` argument is deprecated and will be removed in v5 of Transformers.\n",
            "  warnings.warn(\n",
            "Downloading spiece.model: 100%|██████████████| 792k/792k [00:00<00:00, 1.00MB/s]\n",
            "Downloading (…)/main/tokenizer.json: 100%|█| 2.42M/2.42M [00:00<00:00, 7.62MB/s]\n",
            "Downloading (…)in/added_tokens.json: 100%|███| 20.0/20.0 [00:00<00:00, 23.1kB/s]\n",
            "Downloading (…)cial_tokens_map.json: 100%|█████| 123/123 [00:00<00:00, 71.8kB/s]\n",
            "Downloading (…)lve/main/config.json: 100%|██| 1.54k/1.54k [00:00<00:00, 336kB/s]\n",
            "/opt/conda/lib/python3.8/site-packages/transformers/modeling_utils.py:2193: FutureWarning: The `use_auth_token` argument is deprecated and will be removed in v5 of Transformers.\n",
            "  warnings.warn(\n",
            "Downloading pytorch_model.bin: 100%|█████████| 242M/242M [00:22<00:00, 10.9MB/s]\n",
            "/opt/conda/lib/python3.8/site-packages/datasets/load.py:2072: FutureWarning: 'use_auth_token' was deprecated in favor of 'token' in version 2.14.0 and will be removed in 3.0.0.\n",
            "You can remove this warning by passing 'token=False' instead.\n",
            "  warnings.warn(\n",
            "  1%|▎                                    | 107/12564 [00:00<00:11, 1065.80it/s]Token indices sequence length is longer than the specified maximum sequence length for this model (539 > 512). Running this sequence through the model will result in indexing errors\n",
            "100%|████████████████████████████████████| 12564/12564 [00:12<00:00, 982.50it/s]\n",
            "/opt/conda/lib/python3.8/site-packages/torch/nn/parallel/_functions.py:68: UserWarning: Was asked to gather along dimension 0, but all input tensors were scalars; will instead unsqueeze and return a vector.\n",
            "  warnings.warn('Was asked to gather along dimension 0, but all '\n",
            "/opt/conda/lib/python3.8/site-packages/transformers/tokenization_utils_base.py:1714: FutureWarning: The `use_auth_token` argument is deprecated and will be removed in v5 of Transformers.\n",
            "  warnings.warn(\n",
            "/opt/conda/lib/python3.8/site-packages/transformers/modeling_utils.py:2193: FutureWarning: The `use_auth_token` argument is deprecated and will be removed in v5 of Transformers.\n",
            "  warnings.warn(\n",
            "/opt/conda/lib/python3.8/site-packages/datasets/load.py:2072: FutureWarning: 'use_auth_token' was deprecated in favor of 'token' in version 2.14.0 and will be removed in 3.0.0.\n",
            "You can remove this warning by passing 'token=False' instead.\n",
            "  warnings.warn(\n",
            "^C\n",
            "Traceback (most recent call last):\n",
            "  File \"/opt/conda/lib/python3.8/runpy.py\", line 194, in _run_module_as_main\n",
            "    return _run_code(code, main_globals, None,\n",
            "  File \"/opt/conda/lib/python3.8/runpy.py\", line 87, in _run_code\n",
            "    exec(code, run_globals)\n",
            "  File \"/workspace/lm-question-generation/lmqg/grid_searcher_t5_small_squad_qg_ae_0821.py\", line 377, in <module>\n",
            "    main()\n",
            "  File \"/workspace/lm-question-generation/lmqg/grid_searcher_t5_small_squad_qg_ae_0821.py\", line 373, in main\n",
            "    trainer.run()\n",
            "  File \"/workspace/lm-question-generation/lmqg/grid_searcher_t5_small_squad_qg_ae_0821.py\", line 250, in run\n",
            "    trainer.train(\n",
            "  File \"/workspace/lm-question-generation/lmqg/trainer.py\", line 236, in train\n",
            "    mean_loss, global_step = self.train_single_epoch(loader, global_step, interval)\n",
            "  File \"/workspace/lm-question-generation/lmqg/trainer.py\", line 251, in train_single_epoch\n",
            "    for n, encode in enumerate(data_loader):\n",
            "  File \"/opt/conda/lib/python3.8/site-packages/torch/utils/data/dataloader.py\", line 530, in __next__\n",
            "    data = self._next_data()\n",
            "  File \"/opt/conda/lib/python3.8/site-packages/torch/utils/data/dataloader.py\", line 570, in _next_data\n",
            "    data = self._dataset_fetcher.fetch(index)  # may raise StopIteration\n",
            "  File \"/opt/conda/lib/python3.8/site-packages/torch/utils/data/_utils/fetch.py\", line 49, in fetch\n",
            "    data = [self.dataset[idx] for idx in possibly_batched_index]\n",
            "  File \"/opt/conda/lib/python3.8/site-packages/torch/utils/data/_utils/fetch.py\", line 49, in <listcomp>\n",
            "    data = [self.dataset[idx] for idx in possibly_batched_index]\n",
            "  File \"/workspace/lm-question-generation/lmqg/language_model.py\", line 152, in __getitem__\n",
            "    return {k: self.to_tensor(k, v) for k, v in self.data[idx].items()}\n",
            "  File \"/workspace/lm-question-generation/lmqg/language_model.py\", line 152, in <dictcomp>\n",
            "    return {k: self.to_tensor(k, v) for k, v in self.data[idx].items()}\n",
            "  File \"/workspace/lm-question-generation/lmqg/language_model.py\", line 148, in to_tensor\n",
            "    return torch.tensor(data, dtype=torch.float32)\n",
            "KeyboardInterrupt\n"
          ]
        }
      ],
      "source": [
        "CUDA_VISIBLE_DEVICES=\"0\"\n",
        "\n",
        "!python -m lm-question-generation.lmqg.grid_searcher_t5_small_squad_qg_ae_0821 \\\n",
        "#    --checkpoint_dir='tmp_ckpt_t5_small_squad_qg_ae_0821 \\\n",
        "#    --dataset_path='lmqg/qg_squadshifts' \\\n",
        "#    --dataset_name='all' \\\n",
        "#    --model='t5-small' \\\n",
        "#    --epoch=15 \\\n",
        "#    --epoch_partial=5 \\\n",
        "#    --batch=64 \\\n",
        "#    --n_max_config=5 \\\n",
        "#    --gradient_accumulation_steps=[4] \\\n",
        "#    --lr=[5e-04] \\\n",
        "#    --label_smoothing=[0, 0.15] \\\n",
        "#    --language=\"en\""
      ]
    },
    {
      "cell_type": "markdown",
      "metadata": {},
      "source": [
        "### Pipeline QAG"
      ]
    },
    {
      "cell_type": "code",
      "execution_count": null,
      "metadata": {},
      "outputs": [],
      "source": [
        "CUDA_VISIBLE_DEVICES=\"0\"\n",
        "\n",
        "!python -m lm-question-generation.lmqg.grid_searcher_t5_small_squad_qg_0821 \\\n",
        "#    --checkpoint_dir='tmp_ckpt_t5_small_squad_qg_0821 \\\n",
        "#    --dataset_path='lmqg/t5-small-squad-qg' \\\n",
        "#    --dataset_name='all' \\\n",
        "#    --model='t5-small' \\\n",
        "#    --epoch=15 \\\n",
        "#    --epoch_partial=5 \\\n",
        "#    --batch=64 \\\n",
        "#    --n_max_config=5 \\\n",
        "#    --gradient_accumulation_steps=[4] \\\n",
        "#    --lr=[5e-04] \\\n",
        "#    --label_smoothing=[0, 0.15] \\\n",
        "#    --language=\"en\""
      ]
    },
    {
      "cell_type": "code",
      "execution_count": null,
      "metadata": {},
      "outputs": [],
      "source": [
        "CUDA_VISIBLE_DEVICES=\"0\"\n",
        "\n",
        "!python -m lm-question-generation.lmqg.grid_searcher_t5_small_squad_ae_0821 \\\n",
        "#    --checkpoint_dir='tmp_ckpt_t5_small_squad_ae_0821' \\\n",
        "#    --dataset_path='lmqg/t5-small-squad-ae' \\\n",
        "#    --dataset_name='all' \\\n",
        "#    --model='t5-small' \\\n",
        "#    --epoch=15 \\\n",
        "#    --epoch_partial=5 \\\n",
        "#    --batch=64 \\\n",
        "#    --n_max_config=5 \\\n",
        "#    --gradient_accumulation_steps=[4] \\\n",
        "#    --lr=[5e-04] \\\n",
        "#    --label_smoothing=[0, 0.15] \\\n",
        "#    --language=\"en\""
      ]
    },
    {
      "cell_type": "markdown",
      "metadata": {},
      "source": [
        "### Source"
      ]
    },
    {
      "cell_type": "markdown",
      "metadata": {},
      "source": [
        "[lmqg/t5-small-squad-qa](https://huggingface.co/lmqg/t5-small-squad-qa)"
      ]
    }
  ],
  "metadata": {
    "colab": {
      "provenance": []
    },
    "kernelspec": {
      "display_name": "Python 3",
      "name": "python3"
    },
    "language_info": {
      "codemirror_mode": {
        "name": "ipython",
        "version": 3
      },
      "file_extension": ".py",
      "mimetype": "text/x-python",
      "name": "python",
      "nbconvert_exporter": "python",
      "pygments_lexer": "ipython3",
      "version": "3.8.12"
    }
  },
  "nbformat": 4,
  "nbformat_minor": 0
}
