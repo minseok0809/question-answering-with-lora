{
  "cells": [
    {
      "cell_type": "markdown",
      "metadata": {
        "id": "teHzLo4owK3j"
      },
      "source": [
        "# LMQG Inference\n",
        "This is a colab notebook of [`lmqg`](https://github.com/asahi417/lm-question-generation#lmqg-language-model-for-question-generation-)."
      ]
    },
    {
      "cell_type": "code",
      "execution_count": null,
      "metadata": {
        "id": "L6m9o9YV0j7O"
      },
      "outputs": [],
      "source": [
        "%pip install lmqg\n",
        "%pip install ipywidgets\n",
        "# python -m spacy download en"
      ]
    },
    {
      "cell_type": "code",
      "execution_count": 1,
      "metadata": {
        "id": "XrYqvzLjZwev"
      },
      "outputs": [],
      "source": [
        "from pprint import pprint\n",
        "from lmqg import TransformersQG"
      ]
    },
    {
      "cell_type": "markdown",
      "metadata": {
        "id": "erRMsEx-zJbX"
      },
      "source": [
        "## Question and Answer Generation (End2end)"
      ]
    },
    {
      "cell_type": "code",
      "execution_count": null,
      "metadata": {
        "id": "RhKhXG1mW6fk"
      },
      "outputs": [],
      "source": [
        "# initialize model\n",
        "model = TransformersQG(language='en', model='lmqg/t5-base-squad-qag')"
      ]
    },
    {
      "cell_type": "code",
      "execution_count": 3,
      "metadata": {
        "colab": {
          "base_uri": "https://localhost:8080/"
        },
        "id": "1U3jLNxjvvYn",
        "outputId": "359d1088-31d3-45d2-c364-24b25105c0ba"
      },
      "outputs": [
        {
          "name": "stderr",
          "output_type": "stream",
          "text": [
            "100%|██████████| 1/1 [00:00<00:00, 670.12it/s]\n"
          ]
        },
        {
          "name": "stdout",
          "output_type": "stream",
          "text": [
            "[('Who was an English painter who specialised in watercolour landscapes?',\n",
            "  'William Turner'),\n",
            " ('What is William Turner often known as?',\n",
            "  'William Turner of Oxford or just Turner of Oxford'),\n",
            " (\"What did many of Turner's paintings depict?\",\n",
            "  'the countryside around Oxford'),\n",
            " (\"What is one of Turner's best known pictures?\",\n",
            "  'a view of the city of Oxford from Hinksey Hill')]\n"
          ]
        }
      ],
      "source": [
        "# paragraph to generate pairs of question and answer\n",
        "context = \"William Turner was an English painter who specialised in watercolour landscapes. He is often known as William Turner of Oxford or just Turner of Oxford to distinguish him from his contemporary, J. M. W. Turner. Many of Turner's paintings depicted the countryside around Oxford. One of his best known pictures is a view of the city of Oxford from Hinksey Hill.\"\n",
        "# model prediction\n",
        "question_answer = model.generate_qa(context)\n",
        "# the output is a list of tuple (question, answer)\n",
        "pprint(question_answer)"
      ]
    },
    {
      "cell_type": "markdown",
      "metadata": {
        "id": "2g2jfXXff0Fk"
      },
      "source": [
        "## Question and Answer Generation (Multitask)\n"
      ]
    },
    {
      "cell_type": "code",
      "execution_count": 4,
      "metadata": {
        "id": "zG1JjAHyf0R1"
      },
      "outputs": [
        {
          "data": {
            "application/json": {
              "ascii": false,
              "bar_format": null,
              "colour": null,
              "elapsed": 0.019277095794677734,
              "initial": 0,
              "n": 0,
              "ncols": null,
              "nrows": null,
              "postfix": null,
              "prefix": "Downloading (…)okenizer_config.json",
              "rate": null,
              "total": 2360,
              "unit": "B",
              "unit_divisor": 1000,
              "unit_scale": true
            },
            "application/vnd.jupyter.widget-view+json": {
              "model_id": "57e2e84c6eb54dd399d9a63064ff12ce",
              "version_major": 2,
              "version_minor": 0
            },
            "text/plain": [
              "Downloading (…)okenizer_config.json:   0%|          | 0.00/2.36k [00:00<?, ?B/s]"
            ]
          },
          "metadata": {},
          "output_type": "display_data"
        },
        {
          "name": "stderr",
          "output_type": "stream",
          "text": [
            "/opt/conda/lib/python3.8/site-packages/transformers/tokenization_utils_base.py:1714: FutureWarning: The `use_auth_token` argument is deprecated and will be removed in v5 of Transformers.\n",
            "  warnings.warn(\n"
          ]
        },
        {
          "data": {
            "application/json": {
              "ascii": false,
              "bar_format": null,
              "colour": null,
              "elapsed": 0.016532421112060547,
              "initial": 0,
              "n": 0,
              "ncols": null,
              "nrows": null,
              "postfix": null,
              "prefix": "Downloading spiece.model",
              "rate": null,
              "total": 791656,
              "unit": "B",
              "unit_divisor": 1000,
              "unit_scale": true
            },
            "application/vnd.jupyter.widget-view+json": {
              "model_id": "835b2634e0c94c80848b0d64e8b8ccbc",
              "version_major": 2,
              "version_minor": 0
            },
            "text/plain": [
              "Downloading spiece.model:   0%|          | 0.00/792k [00:00<?, ?B/s]"
            ]
          },
          "metadata": {},
          "output_type": "display_data"
        },
        {
          "data": {
            "application/json": {
              "ascii": false,
              "bar_format": null,
              "colour": null,
              "elapsed": 0.01445627212524414,
              "initial": 0,
              "n": 0,
              "ncols": null,
              "nrows": null,
              "postfix": null,
              "prefix": "Downloading (…)/main/tokenizer.json",
              "rate": null,
              "total": 2422275,
              "unit": "B",
              "unit_divisor": 1000,
              "unit_scale": true
            },
            "application/vnd.jupyter.widget-view+json": {
              "model_id": "051227d500384d59a193e08a6bb91368",
              "version_major": 2,
              "version_minor": 0
            },
            "text/plain": [
              "Downloading (…)/main/tokenizer.json:   0%|          | 0.00/2.42M [00:00<?, ?B/s]"
            ]
          },
          "metadata": {},
          "output_type": "display_data"
        },
        {
          "data": {
            "application/json": {
              "ascii": false,
              "bar_format": null,
              "colour": null,
              "elapsed": 0.015675067901611328,
              "initial": 0,
              "n": 0,
              "ncols": null,
              "nrows": null,
              "postfix": null,
              "prefix": "Downloading (…)in/added_tokens.json",
              "rate": null,
              "total": 20,
              "unit": "B",
              "unit_divisor": 1000,
              "unit_scale": true
            },
            "application/vnd.jupyter.widget-view+json": {
              "model_id": "459dc0594cc8434d88150dbde4b60328",
              "version_major": 2,
              "version_minor": 0
            },
            "text/plain": [
              "Downloading (…)in/added_tokens.json:   0%|          | 0.00/20.0 [00:00<?, ?B/s]"
            ]
          },
          "metadata": {},
          "output_type": "display_data"
        },
        {
          "data": {
            "application/json": {
              "ascii": false,
              "bar_format": null,
              "colour": null,
              "elapsed": 0.016015291213989258,
              "initial": 0,
              "n": 0,
              "ncols": null,
              "nrows": null,
              "postfix": null,
              "prefix": "Downloading (…)cial_tokens_map.json",
              "rate": null,
              "total": 123,
              "unit": "B",
              "unit_divisor": 1000,
              "unit_scale": true
            },
            "application/vnd.jupyter.widget-view+json": {
              "model_id": "e1b657340f8b4ee6bd0f443434158df2",
              "version_major": 2,
              "version_minor": 0
            },
            "text/plain": [
              "Downloading (…)cial_tokens_map.json:   0%|          | 0.00/123 [00:00<?, ?B/s]"
            ]
          },
          "metadata": {},
          "output_type": "display_data"
        },
        {
          "data": {
            "application/json": {
              "ascii": false,
              "bar_format": null,
              "colour": null,
              "elapsed": 0.014732599258422852,
              "initial": 0,
              "n": 0,
              "ncols": null,
              "nrows": null,
              "postfix": null,
              "prefix": "Downloading (…)lve/main/config.json",
              "rate": null,
              "total": 1544,
              "unit": "B",
              "unit_divisor": 1000,
              "unit_scale": true
            },
            "application/vnd.jupyter.widget-view+json": {
              "model_id": "06e0b6be1fae43189461322e46ac34d1",
              "version_major": 2,
              "version_minor": 0
            },
            "text/plain": [
              "Downloading (…)lve/main/config.json:   0%|          | 0.00/1.54k [00:00<?, ?B/s]"
            ]
          },
          "metadata": {},
          "output_type": "display_data"
        },
        {
          "name": "stderr",
          "output_type": "stream",
          "text": [
            "/opt/conda/lib/python3.8/site-packages/transformers/modeling_utils.py:2193: FutureWarning: The `use_auth_token` argument is deprecated and will be removed in v5 of Transformers.\n",
            "  warnings.warn(\n"
          ]
        },
        {
          "data": {
            "application/json": {
              "ascii": false,
              "bar_format": null,
              "colour": null,
              "elapsed": 0.016120433807373047,
              "initial": 0,
              "n": 0,
              "ncols": null,
              "nrows": null,
              "postfix": null,
              "prefix": "Downloading pytorch_model.bin",
              "rate": null,
              "total": 891616401,
              "unit": "B",
              "unit_divisor": 1000,
              "unit_scale": true
            },
            "application/vnd.jupyter.widget-view+json": {
              "model_id": "bfb94ec650c0452b8a1cd3e69ce0e9f2",
              "version_major": 2,
              "version_minor": 0
            },
            "text/plain": [
              "Downloading pytorch_model.bin:   0%|          | 0.00/892M [00:00<?, ?B/s]"
            ]
          },
          "metadata": {},
          "output_type": "display_data"
        }
      ],
      "source": [
        "# initialize model\n",
        "model = TransformersQG(language='en', model='lmqg/t5-base-squad-qg-ae')"
      ]
    },
    {
      "cell_type": "code",
      "execution_count": 5,
      "metadata": {
        "colab": {
          "base_uri": "https://localhost:8080/"
        },
        "id": "pUEzY1i6f05G",
        "outputId": "3df3386e-5e60-4ca5-f381-7b905245e95a"
      },
      "outputs": [
        {
          "name": "stderr",
          "output_type": "stream",
          "text": [
            "100%|██████████| 4/4 [00:00<00:00, 1845.88it/s]"
          ]
        },
        {
          "name": "stderr",
          "output_type": "stream",
          "text": [
            "\n",
            "100%|██████████| 4/4 [00:00<00:00, 2230.72it/s]\n"
          ]
        },
        {
          "name": "stdout",
          "output_type": "stream",
          "text": [
            "[('Who was an English painter who specialised in watercolour landscapes?',\n",
            "  'William Turner'),\n",
            " (\"What was William Turner's nickname?\", 'William Turner of Oxford'),\n",
            " (\"What did many of William Turner's paintings depict?\", 'countryside'),\n",
            " ('From where is a view of the city of Oxford taken?', 'Hinksey Hill.')]\n"
          ]
        }
      ],
      "source": [
        "# paragraph to generate pairs of question and answer\n",
        "context = \"William Turner was an English painter who specialised in watercolour landscapes. He is often known as William Turner of Oxford or just Turner of Oxford to distinguish him from his contemporary, J. M. W. Turner. Many of Turner's paintings depicted the countryside around Oxford. One of his best known pictures is a view of the city of Oxford from Hinksey Hill.\"\n",
        "# model prediction\n",
        "question_answer = model.generate_qa(context)\n",
        "# the output is a list of tuple (question, answer)\n",
        "pprint(question_answer)"
      ]
    },
    {
      "cell_type": "markdown",
      "metadata": {
        "id": "iKTdBgNKf8jY"
      },
      "source": [
        "## Question and Answer Generation (Pipeline)"
      ]
    },
    {
      "cell_type": "code",
      "execution_count": null,
      "metadata": {
        "id": "MxiSRT-Sf8wX"
      },
      "outputs": [],
      "source": [
        "# initialize model\n",
        "model = TransformersQG(model='lmqg/t5-base-squad-qg', model_ae='lmqg/t5-base-squad-ae')"
      ]
    },
    {
      "cell_type": "code",
      "execution_count": null,
      "metadata": {
        "colab": {
          "base_uri": "https://localhost:8080/"
        },
        "id": "wdzKUAz-gFtF",
        "outputId": "a0e3f2fb-f0d8-4917-f116-b8873e2da995"
      },
      "outputs": [
        {
          "name": "stderr",
          "output_type": "stream",
          "text": [
            "100%|██████████| 4/4 [00:00<00:00, 370.21it/s]\n",
            "100%|██████████| 4/4 [00:00<00:00, 80.88it/s]\n"
          ]
        },
        {
          "name": "stdout",
          "output_type": "stream",
          "text": [
            "[('Who was an English painter who specialised in watercolour landscapes?',\n",
            "  'William Turner'),\n",
            " ('What is another name for William Turner?', 'William Turner of Oxford'),\n",
            " (\"What did many of William Turner's paintings depict around Oxford?\",\n",
            "  'the countryside'),\n",
            " ('From what hill is a view of the city of Oxford taken?', 'Hinksey Hill.')]\n"
          ]
        }
      ],
      "source": [
        "# paragraph to generate pairs of question and answer\n",
        "context = \"William Turner was an English painter who specialised in watercolour landscapes. He is often known as William Turner of Oxford or just Turner of Oxford to distinguish him from his contemporary, J. M. W. Turner. Many of Turner's paintings depicted the countryside around Oxford. One of his best known pictures is a view of the city of Oxford from Hinksey Hill.\"\n",
        "# model prediction\n",
        "question_answer = model.generate_qa(context)\n",
        "# the output is a list of tuple (question, answer)\n",
        "pprint(question_answer)"
      ]
    },
    {
      "cell_type": "markdown",
      "metadata": {
        "id": "R1GyPcb-zj7i"
      },
      "source": [
        "## Question Generation"
      ]
    },
    {
      "cell_type": "code",
      "execution_count": null,
      "metadata": {
        "id": "nnEbJ7xey-3z"
      },
      "outputs": [],
      "source": [
        "# initialize model\n",
        "model = TransformersQG(language='en', model='lmqg/t5-base-squad-qg')"
      ]
    },
    {
      "cell_type": "code",
      "execution_count": null,
      "metadata": {
        "colab": {
          "base_uri": "https://localhost:8080/"
        },
        "id": "fCEnJI8fwDsz",
        "outputId": "97b2e5d8-c017-4735-d402-8cebb824aff5"
      },
      "outputs": [
        {
          "name": "stderr",
          "output_type": "stream",
          "text": [
            "100%|██████████| 2/2 [00:00<00:00, 674.43it/s]\n"
          ]
        },
        {
          "name": "stdout",
          "output_type": "stream",
          "text": [
            "['Who was an English painter who specialised in watercolour landscapes?',\n",
            " 'What nationality was William Turner?']\n"
          ]
        }
      ],
      "source": [
        "# a list of paragraph\n",
        "context = [\n",
        "    \"William Turner was an English painter who specialised in watercolour landscapes\",\n",
        "    \"William Turner was an English painter who specialised in watercolour landscapes\"\n",
        "]\n",
        "# a list of answer (same size as the context)\n",
        "answer = [\n",
        "    \"William Turner\",\n",
        "    \"English\"\n",
        "]\n",
        "# model prediction\n",
        "question = model.generate_q(list_context=context, list_answer=answer)\n",
        "pprint(question)"
      ]
    },
    {
      "cell_type": "markdown",
      "metadata": {
        "id": "ZxKUA8kdZ0M9"
      },
      "source": [
        "## Answer Extraction"
      ]
    },
    {
      "cell_type": "code",
      "execution_count": null,
      "metadata": {
        "id": "kKMKwYy_Z3q9"
      },
      "outputs": [],
      "source": [
        "# initialize model\n",
        "model = TransformersQG(language='en', model='lmqg/t5-base-squad-ae')"
      ]
    },
    {
      "cell_type": "code",
      "execution_count": null,
      "metadata": {
        "colab": {
          "base_uri": "https://localhost:8080/"
        },
        "id": "3YmOnkdyZ8ce",
        "outputId": "876d7047-148c-4553-ba26-227b7bdf010b"
      },
      "outputs": [
        {
          "name": "stderr",
          "output_type": "stream",
          "text": [
            "100%|██████████| 1/1 [00:00<00:00, 570.73it/s]\n"
          ]
        },
        {
          "name": "stdout",
          "output_type": "stream",
          "text": [
            "['William Turner']\n"
          ]
        }
      ],
      "source": [
        "# model prediction\n",
        "answer = model.generate_a(\"William Turner was an English painter who specialised in watercolour landscapes\")\n",
        "pprint(answer)"
      ]
    }
  ],
  "metadata": {
    "colab": {
      "provenance": []
    },
    "kernelspec": {
      "display_name": "Python 3",
      "name": "python3"
    },
    "language_info": {
      "codemirror_mode": {
        "name": "ipython",
        "version": 3
      },
      "file_extension": ".py",
      "mimetype": "text/x-python",
      "name": "python",
      "nbconvert_exporter": "python",
      "pygments_lexer": "ipython3",
      "version": "3.8.12"
    }
  },
  "nbformat": 4,
  "nbformat_minor": 0
}
