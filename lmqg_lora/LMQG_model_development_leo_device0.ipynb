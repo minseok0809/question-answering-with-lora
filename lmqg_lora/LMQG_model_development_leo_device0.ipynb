{
  "cells": [
    {
      "cell_type": "markdown",
      "metadata": {
        "id": "teHzLo4owK3j"
      },
      "source": [
        "## LMQG Model Development (Leo Device 0)"
      ]
    },
    {
      "cell_type": "markdown",
      "metadata": {},
      "source": [
        "<b>Model</b>\n",
        "<br>T5 Small / BART Base / T5 Base / T5 Large / BART Large\n",
        "<br>Gold QA (i.e., the model using the human-labeled gold\n",
        "annotations)"
      ]
    },
    {
      "cell_type": "markdown",
      "metadata": {},
      "source": [
        "<b>QAG approaches</b>\n",
        "<br>End2Endv / MultiTask / Pipeline"
      ]
    },
    {
      "cell_type": "markdown",
      "metadata": {},
      "source": [
        "<b>Dataset</b>\n",
        "<br>SQuADShifts (Amazon / Wiki / NYT / Reddit)"
      ]
    },
    {
      "cell_type": "markdown",
      "metadata": {},
      "source": [
        "<b>Experiment</b>\n",
        "<br>All / Amazon / Wiki / NYT / Reddit"
      ]
    },
    {
      "cell_type": "code",
      "execution_count": null,
      "metadata": {
        "id": "L6m9o9YV0j7O"
      },
      "outputs": [],
      "source": [
        "%pip install lmqg\n",
        "%pip install peft\n",
        "%pip install easydict\n",
        "%pip install termcolor\n",
        "%pip install openpyxl\n",
        "%pip install ipywidgets\n",
        "!python -m spacy download en"
      ]
    },
    {
      "cell_type": "code",
      "execution_count": 2,
      "metadata": {
        "id": "XrYqvzLjZwev"
      },
      "outputs": [],
      "source": [
        "import os\n",
        "import json\n",
        "import torch\n",
        "from pprint import pprint\n",
        "# from termcolor import coloredg\n",
        "from lmqg import TransformersQG"
      ]
    },
    {
      "cell_type": "code",
      "execution_count": 3,
      "metadata": {},
      "outputs": [
        {
          "name": "stdout",
          "output_type": "stream",
          "text": [
            "True\n",
            "2\n",
            "NVIDIA GeForce RTX 3090\n"
          ]
        }
      ],
      "source": [
        "print(torch.cuda.is_available())\n",
        "print(torch.cuda.device_count())\n",
        "print(torch.cuda.get_device_name(torch.cuda.current_device()))"
      ]
    },
    {
      "cell_type": "code",
      "execution_count": 4,
      "metadata": {},
      "outputs": [
        {
          "data": {
            "text/plain": [
              "'/'"
            ]
          },
          "execution_count": 4,
          "metadata": {},
          "output_type": "execute_result"
        }
      ],
      "source": [
        "pwd"
      ]
    },
    {
      "cell_type": "code",
      "execution_count": 5,
      "metadata": {},
      "outputs": [
        {
          "name": "stdout",
          "output_type": "stream",
          "text": [
            "/workspace\n"
          ]
        }
      ],
      "source": [
        "cd workspace"
      ]
    },
    {
      "cell_type": "code",
      "execution_count": 6,
      "metadata": {},
      "outputs": [],
      "source": [
        "import torch\n",
        "torch.cuda.empty_cache()"
      ]
    },
    {
      "cell_type": "code",
      "execution_count": 7,
      "metadata": {},
      "outputs": [],
      "source": [
        "import torch, gc\n",
        "gc.collect()\n",
        "torch.cuda.empty_cache()"
      ]
    },
    {
      "cell_type": "code",
      "execution_count": 8,
      "metadata": {},
      "outputs": [],
      "source": [
        "os.environ[\"CUDA_DEVICE_ORDER\"]=\"PCI_BUS_ID\"\n",
        "os.environ[\"CUDA_VISIBLE_DEVICES\"]=\"0\""
      ]
    },
    {
      "cell_type": "code",
      "execution_count": 9,
      "metadata": {},
      "outputs": [
        {
          "name": "stderr",
          "output_type": "stream",
          "text": [
            "Failed to detect the name of this notebook, you can set it manually with the WANDB_NOTEBOOK_NAME environment variable to enable code saving.\n",
            "\u001b[34m\u001b[1mwandb\u001b[0m: Currently logged in as: \u001b[33mminseok0809\u001b[0m. Use \u001b[1m`wandb login --relogin`\u001b[0m to force relogin\n"
          ]
        },
        {
          "data": {
            "text/plain": [
              "True"
            ]
          },
          "execution_count": 9,
          "metadata": {},
          "output_type": "execute_result"
        }
      ],
      "source": [
        "import wandb\n",
        "\n",
        "wandb.login()"
      ]
    },
    {
      "cell_type": "markdown",
      "metadata": {},
      "source": [
        "## Flan T5 Small Model"
      ]
    },
    {
      "cell_type": "markdown",
      "metadata": {},
      "source": [
        "### Original Model"
      ]
    },
    {
      "cell_type": "code",
      "execution_count": null,
      "metadata": {},
      "outputs": [],
      "source": [
        "!python -m lm-question-generation.lmqg.grid_searcher_flan_t5_small_squad_qg"
      ]
    },
    {
      "cell_type": "code",
      "execution_count": 14,
      "metadata": {},
      "outputs": [],
      "source": [
        "wandb.finish()"
      ]
    },
    {
      "cell_type": "markdown",
      "metadata": {},
      "source": [
        "### Lora Model"
      ]
    },
    {
      "cell_type": "code",
      "execution_count": null,
      "metadata": {},
      "outputs": [],
      "source": [
        "!python -m lm-question-generation.lmqg.grid_searcher_flan_t5_small_squad_qg_lora_r8_al16"
      ]
    },
    {
      "cell_type": "code",
      "execution_count": null,
      "metadata": {},
      "outputs": [],
      "source": [
        "!python -m lm-question-generation.lmqg.grid_searcher_flan_t5_small_squad_qg_lora_r16_al16"
      ]
    },
    {
      "cell_type": "code",
      "execution_count": null,
      "metadata": {},
      "outputs": [],
      "source": [
        "!python -m lm-question-generation.lmqg.grid_searcher_flan_t5_small_squad_qg_lora_r32_al16"
      ]
    },
    {
      "cell_type": "code",
      "execution_count": null,
      "metadata": {},
      "outputs": [],
      "source": [
        "!python -m lm-question-generation.lmqg.grid_searcher_flan_t5_small_squad_qg_lora_r64_al16"
      ]
    },
    {
      "cell_type": "code",
      "execution_count": null,
      "metadata": {},
      "outputs": [],
      "source": [
        "!python -m lm-question-generation.lmqg.grid_searcher_flan_t5_small_squad_qg_lora_r128_al16"
      ]
    },
    {
      "cell_type": "code",
      "execution_count": null,
      "metadata": {},
      "outputs": [],
      "source": [
        "!python -m lm-question-generation.lmqg.grid_searcher_flan_t5_small_squad_qg_lora_r8_al32"
      ]
    },
    {
      "cell_type": "code",
      "execution_count": null,
      "metadata": {},
      "outputs": [],
      "source": [
        "!python -m lm-question-generation.lmqg.grid_searcher_flan_t5_small_squad_qg_lora_r16_al32"
      ]
    },
    {
      "cell_type": "code",
      "execution_count": null,
      "metadata": {},
      "outputs": [],
      "source": [
        "!python -m lm-question-generation.lmqg.grid_searcher_flan_t5_small_squad_qg_lora_r32_al32"
      ]
    },
    {
      "cell_type": "code",
      "execution_count": null,
      "metadata": {},
      "outputs": [],
      "source": [
        "!python -m lm-question-generation.lmqg.grid_searcher_flan_t5_small_squad_qg_lora_r64_al32"
      ]
    },
    {
      "cell_type": "code",
      "execution_count": null,
      "metadata": {},
      "outputs": [],
      "source": [
        "!python -m lm-question-generation.lmqg.grid_searcher_flan_t5_small_squad_qg_lora_r128_al32"
      ]
    },
    {
      "cell_type": "code",
      "execution_count": 14,
      "metadata": {},
      "outputs": [],
      "source": [
        "wandb.finish()"
      ]
    },
    {
      "cell_type": "markdown",
      "metadata": {},
      "source": [
        "## Flan T5 Large Model"
      ]
    },
    {
      "cell_type": "markdown",
      "metadata": {},
      "source": [
        "### Original Model"
      ]
    },
    {
      "cell_type": "code",
      "execution_count": null,
      "metadata": {},
      "outputs": [],
      "source": [
        "!python -m lm-question-generation.lmqg.grid_searcher_flan_t5_large_squad_qg"
      ]
    },
    {
      "cell_type": "code",
      "execution_count": null,
      "metadata": {},
      "outputs": [],
      "source": [
        "wandb.finish()"
      ]
    },
    {
      "cell_type": "markdown",
      "metadata": {},
      "source": [
        "### Lora Model"
      ]
    },
    {
      "cell_type": "code",
      "execution_count": null,
      "metadata": {},
      "outputs": [],
      "source": [
        "!python -m lm-question-generation.lmqg.grid_searcher_flan_t5_large_squad_qg_lora_r1_al32_training "
      ]
    },
    {
      "cell_type": "code",
      "execution_count": null,
      "metadata": {},
      "outputs": [],
      "source": [
        "!python -m lm-question-generation.lmqg.grid_searcher_flan_t5_large_squad_qg_lora_r1_al32_evaluation"
      ]
    },
    {
      "cell_type": "code",
      "execution_count": null,
      "metadata": {},
      "outputs": [],
      "source": [
        "!python -m lm-question-generation.lmqg.grid_searcher_flan_t5_large_squad_qg_lora_r2_al32_training "
      ]
    },
    {
      "cell_type": "code",
      "execution_count": null,
      "metadata": {},
      "outputs": [],
      "source": [
        "!python -m lm-question-generation.lmqg.grid_searcher_flan_t5_large_squad_qg_lora_r2_al32_evaluation"
      ]
    },
    {
      "cell_type": "code",
      "execution_count": null,
      "metadata": {},
      "outputs": [],
      "source": [
        "!python -m lm-question-generation.lmqg.grid_searcher_flan_t5_large_squad_qg_lora_r4_al32_training "
      ]
    },
    {
      "cell_type": "code",
      "execution_count": null,
      "metadata": {},
      "outputs": [],
      "source": [
        "!python -m lm-question-generation.lmqg.grid_searcher_flan_t5_large_squad_qg_lora_r4_al32_evaluation"
      ]
    },
    {
      "cell_type": "code",
      "execution_count": null,
      "metadata": {},
      "outputs": [],
      "source": [
        "!python -m lm-question-generation.lmqg.grid_searcher_flan_t5_large_squad_qg_lora_r8_al32_training"
      ]
    },
    {
      "cell_type": "code",
      "execution_count": null,
      "metadata": {},
      "outputs": [],
      "source": [
        "!python -m lm-question-generation.lmqg.grid_searcher_flan_t5_large_squad_qg_lora_r8_al32_evaluation"
      ]
    },
    {
      "cell_type": "code",
      "execution_count": null,
      "metadata": {},
      "outputs": [],
      "source": [
        "!python -m lm-question-generation.lmqg.grid_searcher_flan_t5_large_squad_qg_lora_r16_al32_training"
      ]
    },
    {
      "cell_type": "code",
      "execution_count": null,
      "metadata": {},
      "outputs": [],
      "source": [
        "!python -m lm-question-generation.lmqg.grid_searcher_flan_t5_large_squad_qg_lora_r16_al32_evaluation"
      ]
    },
    {
      "cell_type": "code",
      "execution_count": null,
      "metadata": {},
      "outputs": [],
      "source": [
        "!python -m lm-question-generation.lmqg.grid_searcher_flan_t5_large_squad_qg_lora_r32_al32_training"
      ]
    },
    {
      "cell_type": "code",
      "execution_count": null,
      "metadata": {},
      "outputs": [],
      "source": [
        "!python -m lm-question-generation.lmqg.grid_searcher_flan_t5_large_squad_qg_lora_r32_al32_evaluation"
      ]
    },
    {
      "cell_type": "code",
      "execution_count": null,
      "metadata": {},
      "outputs": [],
      "source": [
        "!python -m lm-question-generation.lmqg.grid_searcher_flan_t5_large_squad_qg_lora_r64_al32_training"
      ]
    },
    {
      "cell_type": "code",
      "execution_count": null,
      "metadata": {},
      "outputs": [],
      "source": [
        "!python -m lm-question-generation.lmqg.grid_searcher_flan_t5_large_squad_qg_lora_r64_al32_evaluation"
      ]
    },
    {
      "cell_type": "code",
      "execution_count": null,
      "metadata": {},
      "outputs": [],
      "source": [
        "!python -m lm-question-generation.lmqg.grid_searcher_flan_t5_large_squad_qg_lora_r128_al32_training"
      ]
    },
    {
      "cell_type": "code",
      "execution_count": null,
      "metadata": {},
      "outputs": [],
      "source": [
        "!python -m lm-question-generation.lmqg.grid_searcher_flan_t5_large_squad_qg_lora_r128_al32_evaluation"
      ]
    },
    {
      "cell_type": "code",
      "execution_count": null,
      "metadata": {},
      "outputs": [],
      "source": [
        "wandb.finish()"
      ]
    },
    {
      "cell_type": "markdown",
      "metadata": {},
      "source": [
        "## Flan T5 XL Model"
      ]
    },
    {
      "cell_type": "markdown",
      "metadata": {},
      "source": [
        "### Original Model"
      ]
    },
    {
      "cell_type": "code",
      "execution_count": null,
      "metadata": {},
      "outputs": [],
      "source": [
        "!python -m lm-question-generation.lmqg.grid_searcher_flan_t5_xl_squad_qg"
      ]
    },
    {
      "cell_type": "code",
      "execution_count": null,
      "metadata": {},
      "outputs": [],
      "source": [
        "wandb.finish()"
      ]
    },
    {
      "cell_type": "markdown",
      "metadata": {},
      "source": [
        "### Lora Model"
      ]
    },
    {
      "cell_type": "code",
      "execution_count": null,
      "metadata": {},
      "outputs": [],
      "source": [
        "!python -m lm-question-generation.lmqg.grid_searcher_flan_t5_xl_squad_qg_lora_r1_al32_training "
      ]
    },
    {
      "cell_type": "code",
      "execution_count": null,
      "metadata": {},
      "outputs": [],
      "source": [
        "!python -m lm-question-generation.lmqg.grid_searcher_flan_t5_xl_squad_qg_lora_r1_al32_evaluation"
      ]
    },
    {
      "cell_type": "code",
      "execution_count": null,
      "metadata": {},
      "outputs": [],
      "source": [
        "!python -m lm-question-generation.lmqg.grid_searcher_flan_t5_xl_squad_qg_lora_r2_al32_training "
      ]
    },
    {
      "cell_type": "code",
      "execution_count": null,
      "metadata": {},
      "outputs": [],
      "source": [
        "!python -m lm-question-generation.lmqg.grid_searcher_flan_t5_xl_squad_qg_lora_r2_al32_evaluation"
      ]
    },
    {
      "cell_type": "code",
      "execution_count": null,
      "metadata": {},
      "outputs": [],
      "source": [
        "!python -m lm-question-generation.lmqg.grid_searcher_flan_t5_xl_squad_qg_lora_r4_al32_training "
      ]
    },
    {
      "cell_type": "code",
      "execution_count": null,
      "metadata": {},
      "outputs": [],
      "source": [
        "!python -m lm-question-generation.lmqg.grid_searcher_flan_t5_xl_squad_qg_lora_r4_al32_evaluation"
      ]
    },
    {
      "cell_type": "code",
      "execution_count": null,
      "metadata": {},
      "outputs": [],
      "source": [
        "!python -m lm-question-generation.lmqg.grid_searcher_flan_t5_xl_squad_qg_lora_r8_al32_training "
      ]
    },
    {
      "cell_type": "code",
      "execution_count": null,
      "metadata": {},
      "outputs": [],
      "source": [
        "!python -m lm-question-generation.lmqg.grid_searcher_flan_t5_xl_squad_qg_lora_r8_al32_evaluation"
      ]
    },
    {
      "cell_type": "code",
      "execution_count": null,
      "metadata": {},
      "outputs": [],
      "source": [
        "!python -m lm-question-generation.lmqg.grid_searcher_flan_t5_xl_squad_qg_lora_r16_al32_training "
      ]
    },
    {
      "cell_type": "code",
      "execution_count": null,
      "metadata": {},
      "outputs": [],
      "source": [
        "!python -m lm-question-generation.lmqg.grid_searcher_flan_t5_xl_squad_qg_lora_r16_al32_evaluation"
      ]
    },
    {
      "cell_type": "code",
      "execution_count": 10,
      "metadata": {},
      "outputs": [
        {
          "name": "stdout",
          "output_type": "stream",
          "text": [
            "\u001b[34m\u001b[1mwandb\u001b[0m: Currently logged in as: \u001b[33mminseok0809\u001b[0m. Use \u001b[1m`wandb login --relogin`\u001b[0m to force relogin\n",
            "\u001b[34m\u001b[1mwandb\u001b[0m: Tracking run with wandb version 0.15.10\n",
            "\u001b[34m\u001b[1mwandb\u001b[0m: Run data is saved locally in \u001b[35m\u001b[1m/workspace/wandb/run-20230907_050735-s3htytsv\u001b[0m\n",
            "\u001b[34m\u001b[1mwandb\u001b[0m: Run \u001b[1m`wandb offline`\u001b[0m to turn off syncing.\n",
            "\u001b[34m\u001b[1mwandb\u001b[0m: Syncing run \u001b[33mflan_t5_xl_squad_qg_lora_r32_al32\u001b[0m\n",
            "\u001b[34m\u001b[1mwandb\u001b[0m: ⭐️ View project at \u001b[34m\u001b[4mhttps://wandb.ai/minseok0809/lmqg_qg_squad\u001b[0m\n",
            "\u001b[34m\u001b[1mwandb\u001b[0m: 🚀 View run at \u001b[34m\u001b[4mhttps://wandb.ai/minseok0809/lmqg_qg_squad/runs/s3htytsv\u001b[0m\n",
            "/opt/conda/lib/python3.8/site-packages/transformers/models/auto/tokenization_auto.py:640: FutureWarning: The `use_auth_token` argument is deprecated and will be removed in v5 of Transformers.\n",
            "  warnings.warn(\n",
            "Downloading (…)okenizer_config.json: 100%|██| 2.54k/2.54k [00:00<00:00, 425kB/s]\n",
            "Downloading spiece.model: 100%|██████████████| 792k/792k [00:00<00:00, 12.0MB/s]\n",
            "Downloading (…)/main/tokenizer.json: 100%|█| 2.42M/2.42M [00:01<00:00, 2.07MB/s]\n",
            "Downloading (…)cial_tokens_map.json: 100%|█| 2.20k/2.20k [00:00<00:00, 3.22MB/s]\n",
            "/opt/conda/lib/python3.8/site-packages/transformers/models/auto/configuration_auto.py:1006: FutureWarning: The `use_auth_token` argument is deprecated and will be removed in v5 of Transformers.\n",
            "  warnings.warn(\n",
            "Downloading (…)lve/main/config.json: 100%|██| 1.44k/1.44k [00:00<00:00, 286kB/s]\n",
            "/opt/conda/lib/python3.8/site-packages/transformers/modeling_utils.py:2351: FutureWarning: The `use_auth_token` argument is deprecated and will be removed in v5 of Transformers.\n",
            "  warnings.warn(\n",
            "Downloading (…)model.bin.index.json: 100%|██| 50.8k/50.8k [00:00<00:00, 263kB/s]\n",
            "Downloading shards:   0%|                                 | 0/2 [00:00<?, ?it/s]\n",
            "Downloading (…)l-00001-of-00002.bin:   0%|          | 0.00/9.45G [00:00<?, ?B/s]\u001b[A\n",
            "Downloading (…)l-00001-of-00002.bin:   0%| | 10.5M/9.45G [00:00<09:24, 16.7MB/s]\u001b[A\n",
            "Downloading (…)l-00001-of-00002.bin:   0%| | 21.0M/9.45G [00:00<07:06, 22.1MB/s]\u001b[A\n",
            "Downloading (…)l-00001-of-00002.bin:   0%| | 31.5M/9.45G [00:01<05:47, 27.1MB/s]\u001b[A\n",
            "Downloading (…)l-00001-of-00002.bin:   0%| | 41.9M/9.45G [00:01<04:50, 32.4MB/s]\u001b[A\n",
            "Downloading (…)l-00001-of-00002.bin:   1%| | 52.4M/9.45G [00:01<04:08, 37.9MB/s]\u001b[A\n",
            "Downloading (…)l-00001-of-00002.bin:   1%| | 62.9M/9.45G [00:01<03:35, 43.5MB/s]\u001b[A\n",
            "Downloading (…)l-00001-of-00002.bin:   1%| | 73.4M/9.45G [00:02<03:09, 49.6MB/s]\u001b[A\n",
            "Downloading (…)l-00001-of-00002.bin:   1%| | 83.9M/9.45G [00:02<02:48, 55.7MB/s]\u001b[A\n",
            "Downloading (…)l-00001-of-00002.bin:   1%| | 94.4M/9.45G [00:02<02:30, 62.3MB/s]\u001b[A\n",
            "Downloading (…)l-00001-of-00002.bin:   1%|  | 105M/9.45G [00:02<02:17, 68.1MB/s]\u001b[A\n",
            "Downloading (…)l-00001-of-00002.bin:   1%|  | 115M/9.45G [00:02<02:08, 72.9MB/s]\u001b[A\n",
            "Downloading (…)l-00001-of-00002.bin:   1%|  | 126M/9.45G [00:02<01:57, 79.3MB/s]\u001b[A\n",
            "Downloading (…)l-00001-of-00002.bin:   2%|  | 147M/9.45G [00:02<01:42, 90.9MB/s]\u001b[A\n",
            "Downloading (…)l-00001-of-00002.bin:   2%|   | 168M/9.45G [00:02<01:32, 100MB/s]\u001b[A\n",
            "Downloading (…)l-00001-of-00002.bin:   2%|   | 189M/9.45G [00:03<01:27, 106MB/s]\u001b[A\n",
            "Downloading (…)l-00001-of-00002.bin:   2%|   | 210M/9.45G [00:03<01:24, 109MB/s]\u001b[A\n",
            "Downloading (…)l-00001-of-00002.bin:   2%|   | 231M/9.45G [00:03<01:22, 112MB/s]\u001b[A\n",
            "Downloading (…)l-00001-of-00002.bin:   3%|   | 252M/9.45G [00:03<01:20, 114MB/s]\u001b[A\n",
            "Downloading (…)l-00001-of-00002.bin:   3%|   | 273M/9.45G [00:03<01:20, 114MB/s]\u001b[A\n",
            "Downloading (…)l-00001-of-00002.bin:   3%|   | 294M/9.45G [00:04<01:19, 115MB/s]\u001b[A\n",
            "Downloading (…)l-00001-of-00002.bin:   3%|   | 315M/9.45G [00:04<01:18, 117MB/s]\u001b[A\n",
            "Downloading (…)l-00001-of-00002.bin:   4%|   | 336M/9.45G [00:04<01:18, 116MB/s]\u001b[A\n",
            "Downloading (…)l-00001-of-00002.bin:   4%|   | 357M/9.45G [00:04<01:18, 115MB/s]\u001b[A\n",
            "Downloading (…)l-00001-of-00002.bin:   4%|   | 377M/9.45G [00:04<01:17, 117MB/s]\u001b[A\n",
            "Downloading (…)l-00001-of-00002.bin:   4%|▏  | 398M/9.45G [00:04<01:19, 114MB/s]\u001b[A\n",
            "Downloading (…)l-00001-of-00002.bin:   4%|▏  | 419M/9.45G [00:05<01:17, 116MB/s]\u001b[A\n",
            "Downloading (…)l-00001-of-00002.bin:   5%|▏  | 440M/9.45G [00:05<01:17, 117MB/s]\u001b[A\n",
            "Downloading (…)l-00001-of-00002.bin:   5%|▏  | 461M/9.45G [00:05<01:17, 116MB/s]\u001b[A\n",
            "Downloading (…)l-00001-of-00002.bin:   5%|▏  | 482M/9.45G [00:05<01:16, 118MB/s]\u001b[A\n",
            "Downloading (…)l-00001-of-00002.bin:   5%|▏  | 503M/9.45G [00:05<01:15, 118MB/s]\u001b[A\n",
            "Downloading (…)l-00001-of-00002.bin:   6%|▏  | 524M/9.45G [00:06<01:17, 115MB/s]\u001b[A\n",
            "Downloading (…)l-00001-of-00002.bin:   6%|▏  | 545M/9.45G [00:06<01:15, 118MB/s]\u001b[A\n",
            "Downloading (…)l-00001-of-00002.bin:   6%|▏  | 566M/9.45G [00:06<01:15, 118MB/s]\u001b[A\n",
            "Downloading (…)l-00001-of-00002.bin:   6%|▏  | 587M/9.45G [00:06<01:15, 117MB/s]\u001b[A\n",
            "Downloading (…)l-00001-of-00002.bin:   6%|▏  | 608M/9.45G [00:06<01:14, 118MB/s]\u001b[A\n",
            "Downloading (…)l-00001-of-00002.bin:   7%|▏  | 629M/9.45G [00:06<01:15, 117MB/s]\u001b[A\n",
            "Downloading (…)l-00001-of-00002.bin:   7%|▏  | 650M/9.45G [00:07<01:15, 117MB/s]\u001b[A\n",
            "Downloading (…)l-00001-of-00002.bin:   7%|▏  | 671M/9.45G [00:07<01:14, 118MB/s]\u001b[A\n",
            "Downloading (…)l-00001-of-00002.bin:   7%|▏  | 692M/9.45G [00:07<01:14, 118MB/s]\u001b[A\n",
            "Downloading (…)l-00001-of-00002.bin:   8%|▏  | 713M/9.45G [00:07<01:14, 118MB/s]\u001b[A\n",
            "Downloading (…)l-00001-of-00002.bin:   8%|▏  | 734M/9.45G [00:07<01:14, 117MB/s]\u001b[A\n",
            "Downloading (…)l-00001-of-00002.bin:   8%|▏  | 755M/9.45G [00:08<01:14, 117MB/s]\u001b[A\n",
            "Downloading (…)l-00001-of-00002.bin:   8%|▏  | 776M/9.45G [00:08<01:14, 117MB/s]\u001b[A\n",
            "Downloading (…)l-00001-of-00002.bin:   8%|▎  | 797M/9.45G [00:08<01:13, 117MB/s]\u001b[A\n",
            "Downloading (…)l-00001-of-00002.bin:   9%|▎  | 818M/9.45G [00:08<01:13, 117MB/s]\u001b[A\n",
            "Downloading (…)l-00001-of-00002.bin:   9%|▎  | 839M/9.45G [00:08<01:13, 117MB/s]\u001b[A\n",
            "Downloading (…)l-00001-of-00002.bin:   9%|▎  | 860M/9.45G [00:08<01:13, 117MB/s]\u001b[A\n",
            "Downloading (…)l-00001-of-00002.bin:   9%|▎  | 881M/9.45G [00:09<01:12, 118MB/s]\u001b[A\n",
            "Downloading (…)l-00001-of-00002.bin:  10%|▎  | 902M/9.45G [00:09<01:13, 116MB/s]\u001b[A\n",
            "Downloading (…)l-00001-of-00002.bin:  10%|▎  | 923M/9.45G [00:09<01:11, 119MB/s]\u001b[A\n",
            "Downloading (…)l-00001-of-00002.bin:  10%|▎  | 944M/9.45G [00:09<01:12, 117MB/s]\u001b[A\n",
            "Downloading (…)l-00001-of-00002.bin:  10%|▎  | 965M/9.45G [00:09<01:13, 116MB/s]\u001b[A\n",
            "Downloading (…)l-00001-of-00002.bin:  10%|▎  | 986M/9.45G [00:09<01:12, 117MB/s]\u001b[A\n",
            "Downloading (…)l-00001-of-00002.bin:  11%|▏ | 1.01G/9.45G [00:10<01:12, 116MB/s]\u001b[A\n",
            "Downloading (…)l-00001-of-00002.bin:  11%| | 1.03G/9.45G [00:11<02:38, 53.0MB/s]\u001b[A\n",
            "Downloading (…)l-00001-of-00002.bin:  11%| | 1.04G/9.45G [00:11<03:06, 45.0MB/s]\u001b[A\n",
            "Downloading (…)l-00001-of-00002.bin:  11%| | 1.05G/9.45G [00:11<03:14, 43.1MB/s]\u001b[A\n",
            "Downloading (…)l-00001-of-00002.bin:  11%| | 1.06G/9.45G [00:11<03:11, 43.8MB/s]\u001b[A\n",
            "Downloading (…)l-00001-of-00002.bin:  11%| | 1.07G/9.45G [00:12<03:02, 46.0MB/s]\u001b[A\n",
            "Downloading (…)l-00001-of-00002.bin:  11%| | 1.08G/9.45G [00:12<02:50, 49.2MB/s]\u001b[A\n",
            "Downloading (…)l-00001-of-00002.bin:  12%| | 1.09G/9.45G [00:12<02:37, 52.9MB/s]\u001b[A\n",
            "Downloading (…)l-00001-of-00002.bin:  12%| | 1.10G/9.45G [00:12<02:24, 57.6MB/s]\u001b[A\n",
            "Downloading (…)l-00001-of-00002.bin:  12%| | 1.11G/9.45G [00:12<02:14, 62.1MB/s]\u001b[A\n",
            "Downloading (…)l-00001-of-00002.bin:  12%| | 1.12G/9.45G [00:12<02:06, 65.9MB/s]\u001b[A\n",
            "Downloading (…)l-00001-of-00002.bin:  12%| | 1.13G/9.45G [00:13<01:57, 70.6MB/s]\u001b[A\n",
            "Downloading (…)l-00001-of-00002.bin:  12%| | 1.14G/9.45G [00:13<01:49, 75.7MB/s]\u001b[A\n",
            "Downloading (…)l-00001-of-00002.bin:  12%| | 1.15G/9.45G [00:13<01:44, 79.1MB/s]\u001b[A\n",
            "Downloading (…)l-00001-of-00002.bin:  12%| | 1.16G/9.45G [00:13<01:39, 83.3MB/s]\u001b[A\n",
            "Downloading (…)l-00001-of-00002.bin:  12%| | 1.17G/9.45G [00:13<01:33, 88.5MB/s]\u001b[A\n",
            "Downloading (…)l-00001-of-00002.bin:  13%|▏| 1.18G/9.45G [00:13<01:29, 92.4MB/s]\u001b[A\n",
            "Downloading (…)l-00001-of-00002.bin:  13%|▎ | 1.21G/9.45G [00:13<01:20, 103MB/s]\u001b[A\n",
            "Downloading (…)l-00001-of-00002.bin:  13%|▎ | 1.23G/9.45G [00:13<01:15, 108MB/s]\u001b[A\n",
            "Downloading (…)l-00001-of-00002.bin:  13%|▎ | 1.25G/9.45G [00:14<01:14, 110MB/s]\u001b[A\n",
            "Downloading (…)l-00001-of-00002.bin:  13%|▎ | 1.27G/9.45G [00:14<01:12, 113MB/s]\u001b[A\n",
            "Downloading (…)l-00001-of-00002.bin:  14%|▎ | 1.29G/9.45G [00:14<01:11, 115MB/s]\u001b[A\n",
            "Downloading (…)l-00001-of-00002.bin:  14%|▎ | 1.31G/9.45G [00:14<01:11, 114MB/s]\u001b[A\n",
            "Downloading (…)l-00001-of-00002.bin:  14%|▎ | 1.33G/9.45G [00:14<01:10, 116MB/s]\u001b[A\n",
            "Downloading (…)l-00001-of-00002.bin:  14%|▎ | 1.35G/9.45G [00:15<01:09, 117MB/s]\u001b[A\n",
            "Downloading (…)l-00001-of-00002.bin:  15%|▎ | 1.37G/9.45G [00:15<01:09, 116MB/s]\u001b[A\n",
            "Downloading (…)l-00001-of-00002.bin:  15%|▎ | 1.39G/9.45G [00:15<01:08, 117MB/s]\u001b[A\n",
            "Downloading (…)l-00001-of-00002.bin:  15%|▎ | 1.42G/9.45G [00:15<01:08, 117MB/s]\u001b[A\n",
            "Downloading (…)l-00001-of-00002.bin:  15%|▎ | 1.44G/9.45G [00:15<01:08, 116MB/s]\u001b[A\n",
            "Downloading (…)l-00001-of-00002.bin:  15%|▎ | 1.46G/9.45G [00:15<01:09, 116MB/s]\u001b[A\n",
            "Downloading (…)l-00001-of-00002.bin:  16%|▎ | 1.48G/9.45G [00:16<01:08, 117MB/s]\u001b[A\n",
            "Downloading (…)l-00001-of-00002.bin:  16%|▎ | 1.50G/9.45G [00:16<01:08, 116MB/s]\u001b[A\n",
            "Downloading (…)l-00001-of-00002.bin:  16%|▎ | 1.52G/9.45G [00:16<01:07, 118MB/s]\u001b[A\n",
            "Downloading (…)l-00001-of-00002.bin:  16%|▎ | 1.54G/9.45G [00:16<01:06, 119MB/s]\u001b[A\n",
            "Downloading (…)l-00001-of-00002.bin:  17%|▎ | 1.56G/9.45G [00:16<01:07, 117MB/s]\u001b[A\n",
            "Downloading (…)l-00001-of-00002.bin:  17%|▎ | 1.58G/9.45G [00:16<01:07, 117MB/s]\u001b[A\n",
            "Downloading (…)l-00001-of-00002.bin:  17%|▎ | 1.60G/9.45G [00:17<01:06, 118MB/s]\u001b[A\n",
            "Downloading (…)l-00001-of-00002.bin:  17%|▎ | 1.63G/9.45G [00:17<01:08, 114MB/s]\u001b[A\n",
            "Downloading (…)l-00001-of-00002.bin:  17%|▎ | 1.65G/9.45G [00:17<01:07, 116MB/s]\u001b[A\n",
            "Downloading (…)l-00001-of-00002.bin:  18%|▎ | 1.67G/9.45G [00:17<01:07, 116MB/s]\u001b[A\n",
            "Downloading (…)l-00001-of-00002.bin:  18%|▎ | 1.69G/9.45G [00:17<01:07, 115MB/s]\u001b[A\n",
            "Downloading (…)l-00001-of-00002.bin:  18%|▎ | 1.71G/9.45G [00:18<01:06, 116MB/s]\u001b[A\n",
            "Downloading (…)l-00001-of-00002.bin:  18%|▎ | 1.73G/9.45G [00:18<01:05, 118MB/s]\u001b[A\n",
            "Downloading (…)l-00001-of-00002.bin:  19%|▎ | 1.75G/9.45G [00:18<01:07, 114MB/s]\u001b[A\n",
            "Downloading (…)l-00001-of-00002.bin:  19%|▍ | 1.77G/9.45G [00:18<01:06, 116MB/s]\u001b[A\n",
            "Downloading (…)l-00001-of-00002.bin:  19%|▍ | 1.79G/9.45G [00:18<01:05, 117MB/s]\u001b[A\n",
            "Downloading (…)l-00001-of-00002.bin:  19%|▍ | 1.81G/9.45G [00:18<01:05, 116MB/s]\u001b[A\n",
            "Downloading (…)l-00001-of-00002.bin:  19%|▍ | 1.84G/9.45G [00:19<01:05, 116MB/s]\u001b[A\n",
            "Downloading (…)l-00001-of-00002.bin:  20%|▍ | 1.86G/9.45G [00:19<01:04, 118MB/s]\u001b[A\n",
            "Downloading (…)l-00001-of-00002.bin:  20%|▍ | 1.88G/9.45G [00:19<01:05, 116MB/s]\u001b[A\n",
            "Downloading (…)l-00001-of-00002.bin:  20%|▍ | 1.90G/9.45G [00:19<01:04, 117MB/s]\u001b[A\n",
            "Downloading (…)l-00001-of-00002.bin:  20%|▍ | 1.92G/9.45G [00:19<01:04, 117MB/s]\u001b[A\n",
            "Downloading (…)l-00001-of-00002.bin:  21%|▍ | 1.94G/9.45G [00:20<01:04, 116MB/s]\u001b[A\n",
            "Downloading (…)l-00001-of-00002.bin:  21%|▍ | 1.96G/9.45G [00:20<01:04, 116MB/s]\u001b[A\n",
            "Downloading (…)l-00001-of-00002.bin:  21%|▍ | 1.98G/9.45G [00:20<01:03, 118MB/s]\u001b[A\n",
            "Downloading (…)l-00001-of-00002.bin:  21%|▍ | 2.00G/9.45G [00:20<01:03, 117MB/s]\u001b[A\n",
            "Downloading (…)l-00001-of-00002.bin:  21%|▍ | 2.02G/9.45G [00:20<01:03, 118MB/s]\u001b[A\n",
            "Downloading (…)l-00001-of-00002.bin:  22%|▍ | 2.04G/9.45G [00:20<01:02, 118MB/s]\u001b[A\n",
            "Downloading (…)l-00001-of-00002.bin:  22%|▍ | 2.07G/9.45G [00:21<01:03, 116MB/s]\u001b[A\n",
            "Downloading (…)l-00001-of-00002.bin:  22%|▍ | 2.09G/9.45G [00:21<01:03, 117MB/s]\u001b[A\n",
            "Downloading (…)l-00001-of-00002.bin:  22%|▍ | 2.11G/9.45G [00:21<01:02, 118MB/s]\u001b[A\n",
            "Downloading (…)l-00001-of-00002.bin:  23%|▍ | 2.13G/9.45G [00:21<01:03, 115MB/s]\u001b[A\n",
            "Downloading (…)l-00001-of-00002.bin:  23%|▍ | 2.15G/9.45G [00:21<01:02, 117MB/s]\u001b[A\n",
            "Downloading (…)l-00001-of-00002.bin:  23%|▍ | 2.17G/9.45G [00:22<01:02, 117MB/s]\u001b[A\n",
            "Downloading (…)l-00001-of-00002.bin:  23%|▍ | 2.19G/9.45G [00:22<01:02, 116MB/s]\u001b[A\n",
            "Downloading (…)l-00001-of-00002.bin:  23%|▍ | 2.21G/9.45G [00:22<01:01, 117MB/s]\u001b[A\n",
            "Downloading (…)l-00001-of-00002.bin:  24%|▍ | 2.23G/9.45G [00:22<01:01, 117MB/s]\u001b[A\n",
            "Downloading (…)l-00001-of-00002.bin:  24%|▍ | 2.25G/9.45G [00:22<01:02, 116MB/s]\u001b[A\n",
            "Downloading (…)l-00001-of-00002.bin:  24%|▍ | 2.28G/9.45G [00:22<01:01, 117MB/s]\u001b[A\n",
            "Downloading (…)l-00001-of-00002.bin:  24%|▍ | 2.30G/9.45G [00:23<01:00, 118MB/s]\u001b[A\n",
            "Downloading (…)l-00001-of-00002.bin:  25%|▍ | 2.32G/9.45G [00:23<01:01, 116MB/s]\u001b[A\n",
            "Downloading (…)l-00001-of-00002.bin:  25%|▍ | 2.34G/9.45G [00:23<01:00, 117MB/s]\u001b[A\n",
            "Downloading (…)l-00001-of-00002.bin:  25%|▍ | 2.36G/9.45G [00:23<01:00, 118MB/s]\u001b[A\n",
            "Downloading (…)l-00001-of-00002.bin:  25%|▌ | 2.38G/9.45G [00:23<01:01, 115MB/s]\u001b[A\n",
            "Downloading (…)l-00001-of-00002.bin:  25%|▌ | 2.40G/9.45G [00:23<00:59, 119MB/s]\u001b[A\n",
            "Downloading (…)l-00001-of-00002.bin:  26%|▌ | 2.42G/9.45G [00:24<00:59, 117MB/s]\u001b[A\n",
            "Downloading (…)l-00001-of-00002.bin:  26%|▌ | 2.44G/9.45G [00:24<01:00, 116MB/s]\u001b[A\n",
            "Downloading (…)l-00001-of-00002.bin:  26%|▌ | 2.46G/9.45G [00:24<00:59, 118MB/s]\u001b[A\n",
            "Downloading (…)l-00001-of-00002.bin:  26%|▌ | 2.49G/9.45G [00:24<00:59, 117MB/s]\u001b[A\n",
            "Downloading (…)l-00001-of-00002.bin:  27%|▌ | 2.51G/9.45G [00:24<00:59, 117MB/s]\u001b[A\n",
            "Downloading (…)l-00001-of-00002.bin:  27%|▌ | 2.53G/9.45G [00:25<00:58, 118MB/s]\u001b[A\n",
            "Downloading (…)l-00001-of-00002.bin:  27%|▌ | 2.55G/9.45G [00:25<00:58, 118MB/s]\u001b[A\n",
            "Downloading (…)l-00001-of-00002.bin:  27%|▌ | 2.57G/9.45G [00:25<00:59, 116MB/s]\u001b[A\n",
            "Downloading (…)l-00001-of-00002.bin:  27%|▌ | 2.59G/9.45G [00:25<00:59, 116MB/s]\u001b[A\n",
            "Downloading (…)l-00001-of-00002.bin:  28%|▌ | 2.61G/9.45G [00:25<00:58, 117MB/s]\u001b[A\n",
            "Downloading (…)l-00001-of-00002.bin:  28%|▌ | 2.63G/9.45G [00:25<00:59, 115MB/s]\u001b[A\n",
            "Downloading (…)l-00001-of-00002.bin:  28%|▌ | 2.65G/9.45G [00:26<00:58, 116MB/s]\u001b[A\n",
            "Downloading (…)l-00001-of-00002.bin:  28%|▌ | 2.67G/9.45G [00:26<00:58, 117MB/s]\u001b[A\n",
            "Downloading (…)l-00001-of-00002.bin:  29%|▌ | 2.69G/9.45G [00:26<00:58, 116MB/s]\u001b[A\n",
            "Downloading (…)l-00001-of-00002.bin:  29%|▌ | 2.72G/9.45G [00:26<00:57, 118MB/s]\u001b[A\n",
            "Downloading (…)l-00001-of-00002.bin:  29%|▌ | 2.74G/9.45G [00:26<00:57, 117MB/s]\u001b[A\n",
            "Downloading (…)l-00001-of-00002.bin:  29%|▌ | 2.76G/9.45G [00:27<00:57, 117MB/s]\u001b[A\n",
            "Downloading (…)l-00001-of-00002.bin:  29%|▌ | 2.78G/9.45G [00:27<00:56, 117MB/s]\u001b[A\n",
            "Downloading (…)l-00001-of-00002.bin:  30%|▌ | 2.80G/9.45G [00:27<00:56, 117MB/s]\u001b[A\n",
            "Downloading (…)l-00001-of-00002.bin:  30%|▌ | 2.82G/9.45G [00:27<00:56, 117MB/s]\u001b[A\n",
            "Downloading (…)l-00001-of-00002.bin:  30%|▌ | 2.84G/9.45G [00:27<00:56, 117MB/s]\u001b[A\n",
            "Downloading (…)l-00001-of-00002.bin:  30%|▌ | 2.86G/9.45G [00:27<00:56, 118MB/s]\u001b[A\n",
            "Downloading (…)l-00001-of-00002.bin:  31%|▌ | 2.88G/9.45G [00:28<00:56, 116MB/s]\u001b[A\n",
            "Downloading (…)l-00001-of-00002.bin:  31%|▌ | 2.90G/9.45G [00:28<00:55, 117MB/s]\u001b[A\n",
            "Downloading (…)l-00001-of-00002.bin:  31%|▌ | 2.93G/9.45G [00:28<00:55, 117MB/s]\u001b[A\n",
            "Downloading (…)l-00001-of-00002.bin:  31%|▌ | 2.95G/9.45G [00:28<00:55, 116MB/s]\u001b[A\n",
            "Downloading (…)l-00001-of-00002.bin:  31%|▋ | 2.97G/9.45G [00:28<00:55, 117MB/s]\u001b[A\n",
            "Downloading (…)l-00001-of-00002.bin:  32%|▋ | 2.99G/9.45G [00:29<00:54, 118MB/s]\u001b[A\n",
            "Downloading (…)l-00001-of-00002.bin:  32%|▋ | 3.01G/9.45G [00:29<00:56, 114MB/s]\u001b[A\n",
            "Downloading (…)l-00001-of-00002.bin:  32%|▋ | 3.03G/9.45G [00:29<00:57, 113MB/s]\u001b[A\n",
            "Downloading (…)l-00001-of-00002.bin:  32%|▋ | 3.05G/9.45G [00:29<00:56, 114MB/s]\u001b[A\n",
            "Downloading (…)l-00001-of-00002.bin:  33%|▋ | 3.07G/9.45G [00:29<00:56, 113MB/s]\u001b[A\n",
            "Downloading (…)l-00001-of-00002.bin:  33%|▋ | 3.09G/9.45G [00:29<00:55, 114MB/s]\u001b[A\n",
            "Downloading (…)l-00001-of-00002.bin:  33%|▋ | 3.11G/9.45G [00:30<00:56, 113MB/s]\u001b[A\n",
            "Downloading (…)l-00001-of-00002.bin:  33%|▎| 3.14G/9.45G [00:30<01:16, 82.6MB/s]\u001b[A\n",
            "Downloading (…)l-00001-of-00002.bin:  33%|▎| 3.15G/9.45G [00:30<01:16, 81.9MB/s]\u001b[A\n",
            "Downloading (…)l-00001-of-00002.bin:  33%|▎| 3.16G/9.45G [00:30<01:16, 81.9MB/s]\u001b[A\n",
            "Downloading (…)l-00001-of-00002.bin:  34%|▎| 3.17G/9.45G [00:30<01:17, 81.2MB/s]\u001b[A\n",
            "Downloading (…)l-00001-of-00002.bin:  34%|▎| 3.18G/9.45G [00:31<01:15, 82.5MB/s]\u001b[A\n",
            "Downloading (…)l-00001-of-00002.bin:  34%|▎| 3.19G/9.45G [00:31<01:16, 82.0MB/s]\u001b[A\n",
            "Downloading (…)l-00001-of-00002.bin:  34%|▎| 3.20G/9.45G [00:31<01:12, 85.8MB/s]\u001b[A\n",
            "Downloading (…)l-00001-of-00002.bin:  34%|▎| 3.22G/9.45G [00:31<01:07, 92.3MB/s]\u001b[A\n",
            "Downloading (…)l-00001-of-00002.bin:  34%|▎| 3.23G/9.45G [00:31<01:06, 94.2MB/s]\u001b[A\n",
            "Downloading (…)l-00001-of-00002.bin:  34%|▋ | 3.25G/9.45G [00:31<01:01, 101MB/s]\u001b[A\n",
            "Downloading (…)l-00001-of-00002.bin:  35%|▋ | 3.27G/9.45G [00:31<00:58, 106MB/s]\u001b[A\n",
            "Downloading (…)l-00001-of-00002.bin:  35%|▋ | 3.29G/9.45G [00:32<00:57, 107MB/s]\u001b[A\n",
            "Downloading (…)l-00001-of-00002.bin:  35%|▋ | 3.31G/9.45G [00:32<00:54, 113MB/s]\u001b[A\n",
            "Downloading (…)l-00001-of-00002.bin:  35%|▋ | 3.33G/9.45G [00:32<00:53, 114MB/s]\u001b[A\n",
            "Downloading (…)l-00001-of-00002.bin:  36%|▋ | 3.36G/9.45G [00:32<00:53, 113MB/s]\u001b[A\n",
            "Downloading (…)l-00001-of-00002.bin:  36%|▋ | 3.38G/9.45G [00:32<00:52, 116MB/s]\u001b[A\n",
            "Downloading (…)l-00001-of-00002.bin:  36%|▋ | 3.40G/9.45G [00:33<00:51, 117MB/s]\u001b[A\n",
            "Downloading (…)l-00001-of-00002.bin:  36%|▋ | 3.42G/9.45G [00:33<00:52, 115MB/s]\u001b[A\n",
            "Downloading (…)l-00001-of-00002.bin:  36%|▋ | 3.44G/9.45G [00:33<00:51, 117MB/s]\u001b[A\n",
            "Downloading (…)l-00001-of-00002.bin:  37%|▋ | 3.46G/9.45G [00:33<00:50, 118MB/s]\u001b[A\n",
            "Downloading (…)l-00001-of-00002.bin:  37%|▋ | 3.48G/9.45G [00:33<00:51, 116MB/s]\u001b[A\n",
            "Downloading (…)l-00001-of-00002.bin:  37%|▋ | 3.50G/9.45G [00:33<00:50, 118MB/s]\u001b[A\n",
            "Downloading (…)l-00001-of-00002.bin:  37%|▋ | 3.52G/9.45G [00:34<00:50, 118MB/s]\u001b[A\n",
            "Downloading (…)l-00001-of-00002.bin:  38%|▊ | 3.54G/9.45G [00:34<00:50, 117MB/s]\u001b[A\n",
            "Downloading (…)l-00001-of-00002.bin:  38%|▊ | 3.57G/9.45G [00:34<00:49, 118MB/s]\u001b[A\n",
            "Downloading (…)l-00001-of-00002.bin:  38%|▊ | 3.59G/9.45G [00:34<00:50, 116MB/s]\u001b[A\n",
            "Downloading (…)l-00001-of-00002.bin:  38%|▊ | 3.61G/9.45G [00:34<00:51, 114MB/s]\u001b[A\n",
            "Downloading (…)l-00001-of-00002.bin:  38%|▊ | 3.63G/9.45G [00:35<00:50, 115MB/s]\u001b[A\n",
            "Downloading (…)l-00001-of-00002.bin:  39%|▊ | 3.67G/9.45G [00:35<00:52, 111MB/s]\u001b[A\n",
            "Downloading (…)l-00001-of-00002.bin:  39%|▊ | 3.69G/9.45G [00:35<00:52, 111MB/s]\u001b[A\n",
            "Downloading (…)l-00001-of-00002.bin:  39%|▊ | 3.71G/9.45G [00:35<00:52, 108MB/s]\u001b[A\n",
            "Downloading (…)l-00001-of-00002.bin:  40%|▊ | 3.73G/9.45G [00:36<00:52, 110MB/s]\u001b[A\n",
            "Downloading (…)l-00001-of-00002.bin:  40%|▊ | 3.75G/9.45G [00:36<00:50, 112MB/s]\u001b[A\n",
            "Downloading (…)l-00001-of-00002.bin:  40%|▊ | 3.77G/9.45G [00:36<00:50, 113MB/s]\u001b[A\n",
            "Downloading (…)l-00001-of-00002.bin:  40%|▊ | 3.80G/9.45G [00:36<00:50, 113MB/s]\u001b[A\n",
            "Downloading (…)l-00001-of-00002.bin:  40%|▊ | 3.82G/9.45G [00:36<00:48, 116MB/s]\u001b[A\n",
            "Downloading (…)l-00001-of-00002.bin:  41%|▊ | 3.84G/9.45G [00:36<00:48, 116MB/s]\u001b[A\n",
            "Downloading (…)l-00001-of-00002.bin:  41%|▊ | 3.86G/9.45G [00:37<00:48, 115MB/s]\u001b[A\n",
            "Downloading (…)l-00001-of-00002.bin:  41%|▊ | 3.88G/9.45G [00:37<00:47, 117MB/s]\u001b[A\n",
            "Downloading (…)l-00001-of-00002.bin:  41%|▊ | 3.90G/9.45G [00:37<00:47, 118MB/s]\u001b[A\n",
            "Downloading (…)l-00001-of-00002.bin:  42%|▊ | 3.92G/9.45G [00:37<00:48, 115MB/s]\u001b[A\n",
            "Downloading (…)l-00001-of-00002.bin:  42%|▊ | 3.94G/9.45G [00:37<00:47, 117MB/s]\u001b[A\n",
            "Downloading (…)l-00001-of-00002.bin:  42%|▊ | 3.96G/9.45G [00:37<00:46, 117MB/s]\u001b[A\n",
            "Downloading (…)l-00001-of-00002.bin:  42%|▊ | 3.98G/9.45G [00:38<00:47, 114MB/s]\u001b[A\n",
            "Downloading (…)l-00001-of-00002.bin:  42%|▊ | 4.01G/9.45G [00:38<00:46, 117MB/s]\u001b[A\n",
            "Downloading (…)l-00001-of-00002.bin:  43%|▊ | 4.03G/9.45G [00:38<00:46, 117MB/s]\u001b[A\n",
            "Downloading (…)l-00001-of-00002.bin:  43%|▊ | 4.05G/9.45G [00:38<00:46, 117MB/s]\u001b[A\n",
            "Downloading (…)l-00001-of-00002.bin:  43%|▊ | 4.07G/9.45G [00:38<00:46, 116MB/s]\u001b[A\n",
            "Downloading (…)l-00001-of-00002.bin:  43%|▊ | 4.09G/9.45G [00:39<00:47, 113MB/s]\u001b[A\n",
            "Downloading (…)l-00001-of-00002.bin:  43%|▊ | 4.11G/9.45G [00:39<00:49, 109MB/s]\u001b[A\n",
            "Downloading (…)l-00001-of-00002.bin:  44%|▊ | 4.13G/9.45G [00:39<00:47, 111MB/s]\u001b[A\n",
            "Downloading (…)l-00001-of-00002.bin:  44%|▉ | 4.15G/9.45G [00:39<00:47, 111MB/s]\u001b[A\n",
            "Downloading (…)l-00001-of-00002.bin:  44%|▉ | 4.17G/9.45G [00:39<00:47, 111MB/s]\u001b[A\n",
            "Downloading (…)l-00001-of-00002.bin:  44%|▉ | 4.19G/9.45G [00:40<00:46, 113MB/s]\u001b[A\n",
            "Downloading (…)l-00001-of-00002.bin:  45%|▉ | 4.22G/9.45G [00:40<00:46, 112MB/s]\u001b[A\n",
            "Downloading (…)l-00001-of-00002.bin:  45%|▉ | 4.24G/9.45G [00:40<00:47, 110MB/s]\u001b[A\n",
            "Downloading (…)l-00001-of-00002.bin:  45%|▉ | 4.26G/9.45G [00:40<00:46, 112MB/s]\u001b[A\n",
            "Downloading (…)l-00001-of-00002.bin:  45%|▉ | 4.28G/9.45G [00:40<00:45, 114MB/s]\u001b[A\n",
            "Downloading (…)l-00001-of-00002.bin:  45%|▉ | 4.30G/9.45G [00:40<00:46, 111MB/s]\u001b[A\n",
            "Downloading (…)l-00001-of-00002.bin:  46%|▉ | 4.32G/9.45G [00:41<00:45, 112MB/s]\u001b[A\n",
            "Downloading (…)l-00001-of-00002.bin:  46%|▉ | 4.34G/9.45G [00:41<00:45, 112MB/s]\u001b[A\n",
            "Downloading (…)l-00001-of-00002.bin:  46%|▉ | 4.36G/9.45G [00:41<00:45, 111MB/s]\u001b[A\n",
            "Downloading (…)l-00001-of-00002.bin:  46%|▉ | 4.38G/9.45G [00:41<00:44, 114MB/s]\u001b[A\n",
            "Downloading (…)l-00001-of-00002.bin:  47%|▉ | 4.40G/9.45G [00:41<00:44, 113MB/s]\u001b[A\n",
            "Downloading (…)l-00001-of-00002.bin:  47%|▉ | 4.42G/9.45G [00:42<00:45, 110MB/s]\u001b[A\n",
            "Downloading (…)l-00001-of-00002.bin:  47%|▉ | 4.45G/9.45G [00:42<00:44, 113MB/s]\u001b[A\n",
            "Downloading (…)l-00001-of-00002.bin:  47%|▉ | 4.47G/9.45G [00:42<00:43, 115MB/s]\u001b[A\n",
            "Downloading (…)l-00001-of-00002.bin:  47%|▉ | 4.49G/9.45G [00:42<00:43, 114MB/s]\u001b[A\n",
            "Downloading (…)l-00001-of-00002.bin:  48%|▉ | 4.51G/9.45G [00:42<00:42, 116MB/s]\u001b[A\n",
            "Downloading (…)l-00001-of-00002.bin:  48%|▉ | 4.53G/9.45G [00:42<00:42, 116MB/s]\u001b[A\n",
            "Downloading (…)l-00001-of-00002.bin:  48%|▉ | 4.55G/9.45G [00:43<00:42, 116MB/s]\u001b[A\n",
            "Downloading (…)l-00001-of-00002.bin:  48%|▉ | 4.57G/9.45G [00:43<00:41, 117MB/s]\u001b[A\n",
            "Downloading (…)l-00001-of-00002.bin:  49%|▉ | 4.59G/9.45G [00:43<00:41, 117MB/s]\u001b[A\n",
            "Downloading (…)l-00001-of-00002.bin:  49%|▉ | 4.61G/9.45G [00:43<00:41, 116MB/s]\u001b[A\n",
            "Downloading (…)l-00001-of-00002.bin:  49%|▉ | 4.63G/9.45G [00:43<00:40, 118MB/s]\u001b[A\n",
            "Downloading (…)l-00001-of-00002.bin:  49%|▉ | 4.66G/9.45G [00:44<00:41, 115MB/s]\u001b[A\n",
            "Downloading (…)l-00001-of-00002.bin:  49%|▉ | 4.68G/9.45G [00:44<00:42, 113MB/s]\u001b[A\n",
            "Downloading (…)l-00001-of-00002.bin:  50%|▍| 4.70G/9.45G [00:45<01:35, 49.7MB/s]\u001b[A\n",
            "Downloading (…)l-00001-of-00002.bin:  50%|▍| 4.71G/9.45G [00:45<01:44, 45.3MB/s]\u001b[A\n",
            "Downloading (…)l-00001-of-00002.bin:  50%|▍| 4.72G/9.45G [00:45<01:45, 44.9MB/s]\u001b[A\n",
            "Downloading (…)l-00001-of-00002.bin:  50%|▌| 4.73G/9.45G [00:46<01:43, 45.8MB/s]\u001b[A\n",
            "Downloading (…)l-00001-of-00002.bin:  50%|▌| 4.74G/9.45G [00:46<01:38, 48.1MB/s]\u001b[A\n",
            "Downloading (…)l-00001-of-00002.bin:  50%|▌| 4.75G/9.45G [00:46<01:30, 51.9MB/s]\u001b[A\n",
            "Downloading (…)l-00001-of-00002.bin:  50%|▌| 4.76G/9.45G [00:46<01:24, 55.8MB/s]\u001b[A\n",
            "Downloading (…)l-00001-of-00002.bin:  50%|▌| 4.77G/9.45G [00:46<01:18, 59.5MB/s]\u001b[A\n",
            "Downloading (…)l-00001-of-00002.bin:  51%|▌| 4.78G/9.45G [00:46<01:12, 64.1MB/s]\u001b[A\n",
            "Downloading (…)l-00001-of-00002.bin:  51%|▌| 4.79G/9.45G [00:46<01:08, 68.2MB/s]\u001b[A\n",
            "Downloading (…)l-00001-of-00002.bin:  51%|▌| 4.80G/9.45G [00:47<01:05, 71.1MB/s]\u001b[A\n",
            "Downloading (…)l-00001-of-00002.bin:  51%|▌| 4.81G/9.45G [00:47<01:02, 74.8MB/s]\u001b[A\n",
            "Downloading (…)l-00001-of-00002.bin:  51%|▌| 4.82G/9.45G [00:47<00:59, 78.0MB/s]\u001b[A\n",
            "Downloading (…)l-00001-of-00002.bin:  51%|▌| 4.83G/9.45G [00:47<00:57, 80.3MB/s]\u001b[A\n",
            "Downloading (…)l-00001-of-00002.bin:  51%|▌| 4.84G/9.45G [00:47<00:53, 85.5MB/s]\u001b[A\n",
            "Downloading (…)l-00001-of-00002.bin:  51%|▌| 4.85G/9.45G [00:47<00:51, 88.9MB/s]\u001b[A\n",
            "Downloading (…)l-00001-of-00002.bin:  51%|▌| 4.87G/9.45G [00:47<00:49, 92.7MB/s]\u001b[A\n",
            "Downloading (…)l-00001-of-00002.bin:  52%|█ | 4.89G/9.45G [00:47<00:45, 101MB/s]\u001b[A\n",
            "Downloading (…)l-00001-of-00002.bin:  52%|█ | 4.90G/9.45G [00:48<00:44, 102MB/s]\u001b[A\n",
            "Downloading (…)l-00001-of-00002.bin:  52%|█ | 4.92G/9.45G [00:48<00:42, 106MB/s]\u001b[A\n",
            "Downloading (…)l-00001-of-00002.bin:  52%|█ | 4.94G/9.45G [00:48<00:40, 110MB/s]\u001b[A\n",
            "Downloading (…)l-00001-of-00002.bin:  52%|█ | 4.96G/9.45G [00:48<00:40, 111MB/s]\u001b[A\n",
            "Downloading (…)l-00001-of-00002.bin:  53%|█ | 4.98G/9.45G [00:48<00:39, 113MB/s]\u001b[A\n",
            "Downloading (…)l-00001-of-00002.bin:  53%|█ | 5.00G/9.45G [00:48<00:38, 114MB/s]\u001b[A\n",
            "Downloading (…)l-00001-of-00002.bin:  53%|█ | 5.02G/9.45G [00:49<00:39, 113MB/s]\u001b[A\n",
            "Downloading (…)l-00001-of-00002.bin:  53%|█ | 5.04G/9.45G [00:49<00:38, 115MB/s]\u001b[A\n",
            "Downloading (…)l-00001-of-00002.bin:  54%|█ | 5.06G/9.45G [00:49<00:37, 117MB/s]\u001b[A\n",
            "Downloading (…)l-00001-of-00002.bin:  54%|█ | 5.09G/9.45G [00:49<00:37, 115MB/s]\u001b[A\n",
            "Downloading (…)l-00001-of-00002.bin:  54%|█ | 5.11G/9.45G [00:49<00:37, 117MB/s]\u001b[A\n",
            "Downloading (…)l-00001-of-00002.bin:  54%|█ | 5.13G/9.45G [00:49<00:36, 117MB/s]\u001b[A\n",
            "Downloading (…)l-00001-of-00002.bin:  54%|█ | 5.15G/9.45G [00:50<00:38, 111MB/s]\u001b[A\n",
            "Downloading (…)l-00001-of-00002.bin:  55%|█ | 5.17G/9.45G [00:50<00:39, 110MB/s]\u001b[A\n",
            "Downloading (…)l-00001-of-00002.bin:  55%|█ | 5.19G/9.45G [00:50<00:38, 112MB/s]\u001b[A\n",
            "Downloading (…)l-00001-of-00002.bin:  55%|█ | 5.21G/9.45G [00:50<00:38, 109MB/s]\u001b[A\n",
            "Downloading (…)l-00001-of-00002.bin:  55%|█ | 5.23G/9.45G [00:50<00:37, 111MB/s]\u001b[A\n",
            "Downloading (…)l-00001-of-00002.bin:  56%|█ | 5.25G/9.45G [00:51<00:37, 113MB/s]\u001b[A\n",
            "Downloading (…)l-00001-of-00002.bin:  56%|█ | 5.27G/9.45G [00:51<00:37, 111MB/s]\u001b[A\n",
            "Downloading (…)l-00001-of-00002.bin:  56%|█ | 5.30G/9.45G [00:51<00:37, 112MB/s]\u001b[A\n",
            "Downloading (…)l-00001-of-00002.bin:  56%|█▏| 5.32G/9.45G [00:51<00:38, 107MB/s]\u001b[A\n",
            "Downloading (…)l-00001-of-00002.bin:  56%|█▏| 5.34G/9.45G [00:51<00:39, 105MB/s]\u001b[A\n",
            "Downloading (…)l-00001-of-00002.bin:  57%|█▏| 5.36G/9.45G [00:52<00:37, 109MB/s]\u001b[A\n",
            "Downloading (…)l-00001-of-00002.bin:  57%|█▏| 5.38G/9.45G [00:52<00:37, 109MB/s]\u001b[A\n",
            "Downloading (…)l-00001-of-00002.bin:  57%|█▏| 5.40G/9.45G [00:52<00:37, 109MB/s]\u001b[A\n",
            "Downloading (…)l-00001-of-00002.bin:  57%|█▏| 5.42G/9.45G [00:52<00:35, 113MB/s]\u001b[A\n",
            "Downloading (…)l-00001-of-00002.bin:  58%|█▏| 5.44G/9.45G [00:52<00:35, 114MB/s]\u001b[A\n",
            "Downloading (…)l-00001-of-00002.bin:  58%|█▏| 5.46G/9.45G [00:53<00:36, 109MB/s]\u001b[A\n",
            "Downloading (…)l-00001-of-00002.bin:  58%|█▏| 5.48G/9.45G [00:53<00:36, 108MB/s]\u001b[A\n",
            "Downloading (…)l-00001-of-00002.bin:  58%|█▏| 5.51G/9.45G [00:53<00:35, 111MB/s]\u001b[A\n",
            "Downloading (…)l-00001-of-00002.bin:  58%|█▏| 5.53G/9.45G [00:53<00:35, 110MB/s]\u001b[A\n",
            "Downloading (…)l-00001-of-00002.bin:  59%|█▏| 5.55G/9.45G [00:53<00:35, 111MB/s]\u001b[A\n",
            "Downloading (…)l-00001-of-00002.bin:  59%|█▏| 5.57G/9.45G [00:54<00:34, 114MB/s]\u001b[A\n",
            "Downloading (…)l-00001-of-00002.bin:  59%|█▏| 5.59G/9.45G [00:54<00:34, 112MB/s]\u001b[A\n",
            "Downloading (…)l-00001-of-00002.bin:  59%|█▏| 5.61G/9.45G [00:54<00:33, 113MB/s]\u001b[A\n",
            "Downloading (…)l-00001-of-00002.bin:  60%|▌| 5.63G/9.45G [00:54<00:45, 83.8MB/s]\u001b[A\n",
            "Downloading (…)l-00001-of-00002.bin:  60%|▌| 5.64G/9.45G [00:54<00:47, 80.7MB/s]\u001b[A\n",
            "Downloading (…)l-00001-of-00002.bin:  60%|▌| 5.65G/9.45G [00:55<00:47, 79.2MB/s]\u001b[A\n",
            "Downloading (…)l-00001-of-00002.bin:  60%|▌| 5.66G/9.45G [00:55<00:47, 79.7MB/s]\u001b[A\n",
            "Downloading (…)l-00001-of-00002.bin:  60%|▌| 5.67G/9.45G [00:55<00:47, 79.5MB/s]\u001b[A\n",
            "Downloading (…)l-00001-of-00002.bin:  60%|▌| 5.68G/9.45G [00:55<00:47, 79.8MB/s]\u001b[A\n",
            "Downloading (…)l-00001-of-00002.bin:  60%|▌| 5.69G/9.45G [00:55<00:45, 82.7MB/s]\u001b[A\n",
            "Downloading (…)l-00001-of-00002.bin:  60%|▌| 5.71G/9.45G [00:55<00:41, 89.5MB/s]\u001b[A\n",
            "Downloading (…)l-00001-of-00002.bin:  61%|▌| 5.73G/9.45G [00:55<00:40, 92.4MB/s]\u001b[A\n",
            "Downloading (…)l-00001-of-00002.bin:  61%|▌| 5.75G/9.45G [00:56<00:37, 97.9MB/s]\u001b[A\n",
            "Downloading (…)l-00001-of-00002.bin:  61%|█▏| 5.77G/9.45G [00:56<00:36, 101MB/s]\u001b[A\n",
            "Downloading (…)l-00001-of-00002.bin:  61%|█▏| 5.79G/9.45G [00:56<00:35, 104MB/s]\u001b[A\n",
            "Downloading (…)l-00001-of-00002.bin:  61%|█▏| 5.81G/9.45G [00:56<00:34, 107MB/s]\u001b[A\n",
            "Downloading (…)l-00001-of-00002.bin:  62%|█▏| 5.83G/9.45G [00:56<00:33, 109MB/s]\u001b[A\n",
            "Downloading (…)l-00001-of-00002.bin:  62%|█▏| 5.85G/9.45G [00:57<00:32, 111MB/s]\u001b[A\n",
            "Downloading (…)l-00001-of-00002.bin:  62%|█▏| 5.87G/9.45G [00:57<00:32, 111MB/s]\u001b[A\n",
            "Downloading (…)l-00001-of-00002.bin:  62%|█▏| 5.89G/9.45G [00:57<00:32, 110MB/s]\u001b[A\n",
            "Downloading (…)l-00001-of-00002.bin:  63%|█▎| 5.91G/9.45G [00:57<00:32, 109MB/s]\u001b[A\n",
            "Downloading (…)l-00001-of-00002.bin:  63%|█▎| 5.93G/9.45G [00:57<00:32, 108MB/s]\u001b[A\n",
            "Downloading (…)l-00001-of-00002.bin:  63%|█▎| 5.96G/9.45G [00:57<00:31, 110MB/s]\u001b[A\n",
            "Downloading (…)l-00001-of-00002.bin:  63%|█▎| 5.98G/9.45G [00:58<00:31, 110MB/s]\u001b[A\n",
            "Downloading (…)l-00001-of-00002.bin:  63%|█▎| 6.00G/9.45G [00:58<00:31, 111MB/s]\u001b[A\n",
            "Downloading (…)l-00001-of-00002.bin:  64%|█▎| 6.02G/9.45G [00:58<00:30, 113MB/s]\u001b[A\n",
            "Downloading (…)l-00001-of-00002.bin:  64%|█▎| 6.04G/9.45G [00:58<00:30, 111MB/s]\u001b[A\n",
            "Downloading (…)l-00001-of-00002.bin:  64%|█▎| 6.06G/9.45G [00:58<00:31, 108MB/s]\u001b[A\n",
            "Downloading (…)l-00001-of-00002.bin:  64%|█▎| 6.08G/9.45G [00:59<00:31, 108MB/s]\u001b[A\n",
            "Downloading (…)l-00001-of-00002.bin:  65%|█▎| 6.10G/9.45G [00:59<00:31, 107MB/s]\u001b[A\n",
            "Downloading (…)l-00001-of-00002.bin:  65%|█▎| 6.12G/9.45G [00:59<00:31, 105MB/s]\u001b[A\n",
            "Downloading (…)l-00001-of-00002.bin:  65%|█▎| 6.14G/9.45G [00:59<00:31, 104MB/s]\u001b[A\n",
            "Downloading (…)l-00001-of-00002.bin:  65%|█▎| 6.17G/9.45G [00:59<00:30, 108MB/s]\u001b[A\n",
            "Downloading (…)l-00001-of-00002.bin:  65%|█▎| 6.19G/9.45G [01:00<00:30, 106MB/s]\u001b[A\n",
            "Downloading (…)l-00001-of-00002.bin:  66%|█▎| 6.21G/9.45G [01:00<00:29, 108MB/s]\u001b[A\n",
            "Downloading (…)l-00001-of-00002.bin:  66%|█▎| 6.23G/9.45G [01:00<00:29, 110MB/s]\u001b[A\n",
            "Downloading (…)l-00001-of-00002.bin:  66%|█▎| 6.25G/9.45G [01:00<00:28, 112MB/s]\u001b[A\n",
            "Downloading (…)l-00001-of-00002.bin:  66%|█▎| 6.27G/9.45G [01:00<00:29, 108MB/s]\u001b[A\n",
            "Downloading (…)l-00001-of-00002.bin:  67%|█▎| 6.29G/9.45G [01:01<00:29, 106MB/s]\u001b[A\n",
            "Downloading (…)l-00001-of-00002.bin:  67%|█▎| 6.31G/9.45G [01:01<00:29, 106MB/s]\u001b[A\n",
            "Downloading (…)l-00001-of-00002.bin:  67%|█▎| 6.33G/9.45G [01:01<00:29, 107MB/s]\u001b[A\n",
            "Downloading (…)l-00001-of-00002.bin:  67%|█▎| 6.35G/9.45G [01:01<00:28, 110MB/s]\u001b[A\n",
            "Downloading (…)l-00001-of-00002.bin:  67%|█▎| 6.38G/9.45G [01:01<00:28, 110MB/s]\u001b[A\n",
            "Downloading (…)l-00001-of-00002.bin:  68%|█▎| 6.40G/9.45G [01:02<00:27, 111MB/s]\u001b[A\n",
            "Downloading (…)l-00001-of-00002.bin:  68%|█▎| 6.42G/9.45G [01:02<00:27, 110MB/s]\u001b[A\n",
            "Downloading (…)l-00001-of-00002.bin:  68%|█▎| 6.44G/9.45G [01:02<00:28, 104MB/s]\u001b[A\n",
            "Downloading (…)l-00001-of-00002.bin:  68%|█▎| 6.46G/9.45G [01:02<00:28, 103MB/s]\u001b[A\n",
            "Downloading (…)l-00001-of-00002.bin:  68%|▋| 6.47G/9.45G [01:02<00:30, 97.8MB/s]\u001b[A\n",
            "Downloading (…)l-00001-of-00002.bin:  69%|▋| 6.49G/9.45G [01:03<00:30, 98.3MB/s]\u001b[A\n",
            "Downloading (…)l-00001-of-00002.bin:  69%|▋| 6.50G/9.45G [01:03<00:30, 97.3MB/s]\u001b[A\n",
            "Downloading (…)l-00001-of-00002.bin:  69%|▋| 6.51G/9.45G [01:03<00:29, 98.8MB/s]\u001b[A\n",
            "Downloading (…)l-00001-of-00002.bin:  69%|▋| 6.52G/9.45G [01:03<00:29, 99.9MB/s]\u001b[A\n",
            "Downloading (…)l-00001-of-00002.bin:  69%|█▍| 6.54G/9.45G [01:03<00:27, 107MB/s]\u001b[A\n",
            "Downloading (…)l-00001-of-00002.bin:  69%|█▍| 6.56G/9.45G [01:03<00:26, 108MB/s]\u001b[A\n",
            "Downloading (…)l-00001-of-00002.bin:  70%|█▍| 6.59G/9.45G [01:03<00:25, 113MB/s]\u001b[A\n",
            "Downloading (…)l-00001-of-00002.bin:  70%|█▍| 6.61G/9.45G [01:04<00:24, 114MB/s]\u001b[A\n",
            "Downloading (…)l-00001-of-00002.bin:  70%|█▍| 6.63G/9.45G [01:04<00:25, 112MB/s]\u001b[A\n",
            "Downloading (…)l-00001-of-00002.bin:  70%|█▍| 6.65G/9.45G [01:04<00:24, 114MB/s]\u001b[A\n",
            "Downloading (…)l-00001-of-00002.bin:  71%|█▍| 6.67G/9.45G [01:04<00:24, 115MB/s]\u001b[A\n",
            "Downloading (…)l-00001-of-00002.bin:  71%|█▍| 6.69G/9.45G [01:04<00:24, 114MB/s]\u001b[A\n",
            "Downloading (…)l-00001-of-00002.bin:  71%|▋| 6.71G/9.45G [01:05<00:33, 81.2MB/s]\u001b[A\n",
            "Downloading (…)l-00001-of-00002.bin:  71%|▋| 6.72G/9.45G [01:05<00:33, 80.8MB/s]\u001b[A\n",
            "Downloading (…)l-00001-of-00002.bin:  71%|▋| 6.73G/9.45G [01:05<00:32, 82.5MB/s]\u001b[A\n",
            "Downloading (…)l-00001-of-00002.bin:  71%|▋| 6.74G/9.45G [01:05<00:31, 85.6MB/s]\u001b[A\n",
            "Downloading (…)l-00001-of-00002.bin:  71%|▋| 6.75G/9.45G [01:05<00:31, 85.6MB/s]\u001b[A\n",
            "Downloading (…)l-00001-of-00002.bin:  72%|▋| 6.76G/9.45G [01:05<00:29, 89.8MB/s]\u001b[A\n",
            "Downloading (…)l-00001-of-00002.bin:  72%|▋| 6.77G/9.45G [01:05<00:29, 91.6MB/s]\u001b[A\n",
            "Downloading (…)l-00001-of-00002.bin:  72%|▋| 6.78G/9.45G [01:05<00:28, 94.5MB/s]\u001b[A\n",
            "Downloading (…)l-00001-of-00002.bin:  72%|█▍| 6.81G/9.45G [01:06<00:25, 103MB/s]\u001b[A\n",
            "Downloading (…)l-00001-of-00002.bin:  72%|█▍| 6.82G/9.45G [01:06<00:25, 103MB/s]\u001b[A\n",
            "Downloading (…)l-00001-of-00002.bin:  72%|█▍| 6.84G/9.45G [01:06<00:24, 109MB/s]\u001b[A\n",
            "Downloading (…)l-00001-of-00002.bin:  73%|█▍| 6.86G/9.45G [01:06<00:22, 113MB/s]\u001b[A\n",
            "Downloading (…)l-00001-of-00002.bin:  73%|█▍| 6.88G/9.45G [01:06<00:22, 114MB/s]\u001b[A\n",
            "Downloading (…)l-00001-of-00002.bin:  73%|█▍| 6.90G/9.45G [01:06<00:22, 116MB/s]\u001b[A\n",
            "Downloading (…)l-00001-of-00002.bin:  73%|█▍| 6.92G/9.45G [01:07<00:21, 117MB/s]\u001b[A\n",
            "Downloading (…)l-00001-of-00002.bin:  73%|█▍| 6.94G/9.45G [01:07<00:22, 113MB/s]\u001b[A\n",
            "Downloading (…)l-00001-of-00002.bin:  74%|█▍| 6.96G/9.45G [01:07<00:21, 114MB/s]\u001b[A\n",
            "Downloading (…)l-00001-of-00002.bin:  74%|█▍| 6.98G/9.45G [01:07<00:21, 115MB/s]\u001b[A\n",
            "Downloading (…)l-00001-of-00002.bin:  74%|█▍| 7.00G/9.45G [01:07<00:21, 115MB/s]\u001b[A\n",
            "Downloading (…)l-00001-of-00002.bin:  74%|█▍| 7.03G/9.45G [01:08<00:20, 116MB/s]\u001b[A\n",
            "Downloading (…)l-00001-of-00002.bin:  75%|█▍| 7.05G/9.45G [01:08<00:20, 117MB/s]\u001b[A\n",
            "Downloading (…)l-00001-of-00002.bin:  75%|█▍| 7.07G/9.45G [01:08<00:20, 116MB/s]\u001b[A\n",
            "Downloading (…)l-00001-of-00002.bin:  75%|█▌| 7.09G/9.45G [01:08<00:20, 116MB/s]\u001b[A\n",
            "Downloading (…)l-00001-of-00002.bin:  75%|█▌| 7.11G/9.45G [01:08<00:19, 118MB/s]\u001b[A\n",
            "Downloading (…)l-00001-of-00002.bin:  75%|█▌| 7.13G/9.45G [01:08<00:19, 116MB/s]\u001b[A\n",
            "Downloading (…)l-00001-of-00002.bin:  76%|█▌| 7.15G/9.45G [01:09<00:19, 117MB/s]\u001b[A\n",
            "Downloading (…)l-00001-of-00002.bin:  76%|█▌| 7.17G/9.45G [01:09<00:19, 117MB/s]\u001b[A\n",
            "Downloading (…)l-00001-of-00002.bin:  76%|█▌| 7.19G/9.45G [01:09<00:20, 113MB/s]\u001b[A\n",
            "Downloading (…)l-00001-of-00002.bin:  77%|█▌| 7.24G/9.45G [01:09<00:20, 109MB/s]\u001b[A\n",
            "Downloading (…)l-00001-of-00002.bin:  77%|█▌| 7.26G/9.45G [01:10<00:20, 107MB/s]\u001b[A\n",
            "Downloading (…)l-00001-of-00002.bin:  77%|█▌| 7.28G/9.45G [01:10<00:21, 103MB/s]\u001b[A\n",
            "Downloading (…)l-00001-of-00002.bin:  77%|█▌| 7.29G/9.45G [01:10<00:20, 103MB/s]\u001b[A\n",
            "Downloading (…)l-00001-of-00002.bin:  77%|█▌| 7.31G/9.45G [01:10<00:20, 106MB/s]\u001b[A\n",
            "Downloading (…)l-00001-of-00002.bin:  78%|█▌| 7.33G/9.45G [01:10<00:19, 109MB/s]\u001b[A\n",
            "Downloading (…)l-00001-of-00002.bin:  78%|█▌| 7.35G/9.45G [01:11<00:19, 110MB/s]\u001b[A\n",
            "Downloading (…)l-00001-of-00002.bin:  78%|█▌| 7.37G/9.45G [01:11<00:18, 112MB/s]\u001b[A\n",
            "Downloading (…)l-00001-of-00002.bin:  78%|█▌| 7.39G/9.45G [01:11<00:18, 114MB/s]\u001b[A\n",
            "Downloading (…)l-00001-of-00002.bin:  78%|█▌| 7.41G/9.45G [01:11<00:17, 115MB/s]\u001b[A\n",
            "Downloading (…)l-00001-of-00002.bin:  79%|█▌| 7.43G/9.45G [01:11<00:17, 114MB/s]\u001b[A\n",
            "Downloading (…)l-00001-of-00002.bin:  79%|█▌| 7.46G/9.45G [01:11<00:17, 111MB/s]\u001b[A\n",
            "Downloading (…)l-00001-of-00002.bin:  79%|█▌| 7.48G/9.45G [01:12<00:18, 109MB/s]\u001b[A\n",
            "Downloading (…)l-00001-of-00002.bin:  79%|█▌| 7.50G/9.45G [01:12<00:17, 109MB/s]\u001b[A\n",
            "Downloading (…)l-00001-of-00002.bin:  80%|█▌| 7.52G/9.45G [01:12<00:17, 111MB/s]\u001b[A\n",
            "Downloading (…)l-00001-of-00002.bin:  80%|█▌| 7.54G/9.45G [01:12<00:17, 110MB/s]\u001b[A\n",
            "Downloading (…)l-00001-of-00002.bin:  80%|█▌| 7.56G/9.45G [01:12<00:16, 111MB/s]\u001b[A\n",
            "Downloading (…)l-00001-of-00002.bin:  80%|█▌| 7.58G/9.45G [01:13<00:16, 114MB/s]\u001b[A\n",
            "Downloading (…)l-00001-of-00002.bin:  80%|█▌| 7.60G/9.45G [01:13<00:16, 114MB/s]\u001b[A\n",
            "Downloading (…)l-00001-of-00002.bin:  81%|█▌| 7.62G/9.45G [01:13<00:15, 114MB/s]\u001b[A\n",
            "Downloading (…)l-00001-of-00002.bin:  81%|█▌| 7.64G/9.45G [01:13<00:15, 115MB/s]\u001b[A\n",
            "Downloading (…)l-00001-of-00002.bin:  81%|█▌| 7.67G/9.45G [01:13<00:15, 116MB/s]\u001b[A\n",
            "Downloading (…)l-00001-of-00002.bin:  81%|█▋| 7.69G/9.45G [01:13<00:15, 116MB/s]\u001b[A\n",
            "Downloading (…)l-00001-of-00002.bin:  82%|█▋| 7.71G/9.45G [01:14<00:15, 115MB/s]\u001b[A\n",
            "Downloading (…)l-00001-of-00002.bin:  82%|█▋| 7.73G/9.45G [01:14<00:15, 115MB/s]\u001b[A\n",
            "Downloading (…)l-00001-of-00002.bin:  82%|█▋| 7.75G/9.45G [01:14<00:15, 113MB/s]\u001b[A\n",
            "Downloading (…)l-00001-of-00002.bin:  82%|█▋| 7.77G/9.45G [01:14<00:14, 115MB/s]\u001b[A\n",
            "Downloading (…)l-00001-of-00002.bin:  82%|█▋| 7.79G/9.45G [01:14<00:15, 110MB/s]\u001b[A\n",
            "Downloading (…)l-00001-of-00002.bin:  83%|▊| 7.81G/9.45G [01:16<00:42, 38.6MB/s]\u001b[A\n",
            "Downloading (…)l-00001-of-00002.bin:  83%|▊| 7.82G/9.45G [01:16<00:44, 36.8MB/s]\u001b[A\n",
            "Downloading (…)l-00001-of-00002.bin:  83%|▊| 7.83G/9.45G [01:16<00:43, 37.0MB/s]\u001b[A\n",
            "Downloading (…)l-00001-of-00002.bin:  83%|▊| 7.84G/9.45G [01:17<00:41, 38.3MB/s]\u001b[A\n",
            "Downloading (…)l-00001-of-00002.bin:  83%|▊| 7.85G/9.45G [01:17<00:38, 41.1MB/s]\u001b[A\n",
            "Downloading (…)l-00001-of-00002.bin:  83%|▊| 7.86G/9.45G [01:17<00:35, 44.1MB/s]\u001b[A\n",
            "Downloading (…)l-00001-of-00002.bin:  83%|▊| 7.87G/9.45G [01:17<00:33, 46.9MB/s]\u001b[A\n",
            "Downloading (…)l-00001-of-00002.bin:  83%|▊| 7.89G/9.45G [01:17<00:31, 49.3MB/s]\u001b[A\n",
            "Downloading (…)l-00001-of-00002.bin:  84%|▊| 7.90G/9.45G [01:18<00:28, 54.0MB/s]\u001b[A\n",
            "Downloading (…)l-00001-of-00002.bin:  84%|▊| 7.91G/9.45G [01:18<00:26, 57.9MB/s]\u001b[A\n",
            "Downloading (…)l-00001-of-00002.bin:  84%|▊| 7.92G/9.45G [01:18<00:24, 62.5MB/s]\u001b[A\n",
            "Downloading (…)l-00001-of-00002.bin:  84%|▊| 7.93G/9.45G [01:18<00:22, 66.4MB/s]\u001b[A\n",
            "Downloading (…)l-00001-of-00002.bin:  84%|▊| 7.94G/9.45G [01:18<00:20, 72.3MB/s]\u001b[A\n",
            "Downloading (…)l-00001-of-00002.bin:  84%|▊| 7.95G/9.45G [01:18<00:19, 77.9MB/s]\u001b[A\n",
            "Downloading (…)l-00001-of-00002.bin:  84%|▊| 7.96G/9.45G [01:18<00:17, 83.6MB/s]\u001b[A\n",
            "Downloading (…)l-00001-of-00002.bin:  84%|▊| 7.97G/9.45G [01:18<00:16, 87.2MB/s]\u001b[A\n",
            "Downloading (…)l-00001-of-00002.bin:  84%|▊| 7.98G/9.45G [01:19<00:16, 90.6MB/s]\u001b[A\n",
            "Downloading (…)l-00001-of-00002.bin:  85%|▊| 8.00G/9.45G [01:19<00:14, 98.4MB/s]\u001b[A\n",
            "Downloading (…)l-00001-of-00002.bin:  85%|█▋| 8.02G/9.45G [01:19<00:13, 102MB/s]\u001b[A\n",
            "Downloading (…)l-00001-of-00002.bin:  85%|█▋| 8.04G/9.45G [01:19<00:13, 104MB/s]\u001b[A\n",
            "Downloading (…)l-00001-of-00002.bin:  85%|█▋| 8.05G/9.45G [01:19<00:13, 103MB/s]\u001b[A\n",
            "Downloading (…)l-00001-of-00002.bin:  85%|█▋| 8.07G/9.45G [01:19<00:13, 103MB/s]\u001b[A\n",
            "Downloading (…)l-00001-of-00002.bin:  86%|█▋| 8.10G/9.45G [01:20<00:12, 108MB/s]\u001b[A\n",
            "Downloading (…)l-00001-of-00002.bin:  86%|█▋| 8.12G/9.45G [01:20<00:12, 111MB/s]\u001b[A\n",
            "Downloading (…)l-00001-of-00002.bin:  86%|█▋| 8.14G/9.45G [01:20<00:11, 113MB/s]\u001b[A\n",
            "Downloading (…)l-00001-of-00002.bin:  86%|█▋| 8.16G/9.45G [01:20<00:11, 114MB/s]\u001b[A\n",
            "Downloading (…)l-00001-of-00002.bin:  87%|█▋| 8.18G/9.45G [01:20<00:11, 112MB/s]\u001b[A\n",
            "Downloading (…)l-00001-of-00002.bin:  87%|█▋| 8.20G/9.45G [01:20<00:11, 112MB/s]\u001b[A\n",
            "Downloading (…)l-00001-of-00002.bin:  87%|█▋| 8.22G/9.45G [01:21<00:10, 114MB/s]\u001b[A\n",
            "Downloading (…)l-00001-of-00002.bin:  87%|█▋| 8.24G/9.45G [01:21<00:10, 111MB/s]\u001b[A\n",
            "Downloading (…)l-00001-of-00002.bin:  87%|█▋| 8.26G/9.45G [01:21<00:10, 112MB/s]\u001b[A\n",
            "Downloading (…)l-00001-of-00002.bin:  88%|█▊| 8.28G/9.45G [01:21<00:10, 109MB/s]\u001b[A\n",
            "Downloading (…)l-00001-of-00002.bin:  88%|█▊| 8.30G/9.45G [01:21<00:10, 106MB/s]\u001b[A\n",
            "Downloading (…)l-00001-of-00002.bin:  88%|█▊| 8.33G/9.45G [01:22<00:10, 107MB/s]\u001b[A\n",
            "Downloading (…)l-00001-of-00002.bin:  88%|█▊| 8.35G/9.45G [01:22<00:10, 108MB/s]\u001b[A\n",
            "Downloading (…)l-00001-of-00002.bin:  89%|█▊| 8.37G/9.45G [01:22<00:10, 104MB/s]\u001b[A\n",
            "Downloading (…)l-00001-of-00002.bin:  89%|█▊| 8.39G/9.45G [01:22<00:09, 107MB/s]\u001b[A\n",
            "Downloading (…)l-00001-of-00002.bin:  89%|█▊| 8.41G/9.45G [01:22<00:09, 110MB/s]\u001b[A\n",
            "Downloading (…)l-00001-of-00002.bin:  89%|█▊| 8.43G/9.45G [01:23<00:09, 112MB/s]\u001b[A\n",
            "Downloading (…)l-00001-of-00002.bin:  89%|█▊| 8.45G/9.45G [01:23<00:08, 113MB/s]\u001b[A\n",
            "Downloading (…)l-00001-of-00002.bin:  90%|█▊| 8.47G/9.45G [01:23<00:08, 114MB/s]\u001b[A\n",
            "Downloading (…)l-00001-of-00002.bin:  90%|█▊| 8.49G/9.45G [01:23<00:08, 113MB/s]\u001b[A\n",
            "Downloading (…)l-00001-of-00002.bin:  90%|█▊| 8.51G/9.45G [01:23<00:08, 114MB/s]\u001b[A\n",
            "Downloading (…)l-00001-of-00002.bin:  90%|█▊| 8.54G/9.45G [01:24<00:07, 115MB/s]\u001b[A\n",
            "Downloading (…)l-00001-of-00002.bin:  91%|█▊| 8.56G/9.45G [01:24<00:07, 116MB/s]\u001b[A\n",
            "Downloading (…)l-00001-of-00002.bin:  91%|█▊| 8.58G/9.45G [01:24<00:07, 115MB/s]\u001b[A\n",
            "Downloading (…)l-00001-of-00002.bin:  91%|█▊| 8.60G/9.45G [01:24<00:07, 115MB/s]\u001b[A\n",
            "Downloading (…)l-00001-of-00002.bin:  91%|█▊| 8.62G/9.45G [01:24<00:07, 116MB/s]\u001b[A\n",
            "Downloading (…)l-00001-of-00002.bin:  91%|█▊| 8.64G/9.45G [01:24<00:06, 117MB/s]\u001b[A\n",
            "Downloading (…)l-00001-of-00002.bin:  92%|█▊| 8.66G/9.45G [01:25<00:06, 116MB/s]\u001b[A\n",
            "Downloading (…)l-00001-of-00002.bin:  92%|█▊| 8.68G/9.45G [01:25<00:06, 113MB/s]\u001b[A\n",
            "Downloading (…)l-00001-of-00002.bin:  92%|▉| 8.70G/9.45G [01:25<00:08, 83.9MB/s]\u001b[A\n",
            "Downloading (…)l-00001-of-00002.bin:  92%|▉| 8.71G/9.45G [01:25<00:08, 85.5MB/s]\u001b[A\n",
            "Downloading (…)l-00001-of-00002.bin:  92%|▉| 8.72G/9.45G [01:25<00:08, 87.5MB/s]\u001b[A\n",
            "Downloading (…)l-00001-of-00002.bin:  92%|▉| 8.73G/9.45G [01:26<00:08, 89.0MB/s]\u001b[A\n",
            "Downloading (…)l-00001-of-00002.bin:  93%|▉| 8.76G/9.45G [01:26<00:07, 95.4MB/s]\u001b[A\n",
            "Downloading (…)l-00001-of-00002.bin:  93%|█▊| 8.78G/9.45G [01:26<00:06, 101MB/s]\u001b[A\n",
            "Downloading (…)l-00001-of-00002.bin:  93%|█▊| 8.80G/9.45G [01:26<00:06, 106MB/s]\u001b[A\n",
            "Downloading (…)l-00001-of-00002.bin:  93%|█▊| 8.82G/9.45G [01:26<00:05, 110MB/s]\u001b[A\n",
            "Downloading (…)l-00001-of-00002.bin:  94%|█▊| 8.84G/9.45G [01:26<00:05, 112MB/s]\u001b[A\n",
            "Downloading (…)l-00001-of-00002.bin:  94%|█▉| 8.86G/9.45G [01:27<00:05, 113MB/s]\u001b[A\n",
            "Downloading (…)l-00001-of-00002.bin:  94%|█▉| 8.88G/9.45G [01:27<00:04, 114MB/s]\u001b[A\n",
            "Downloading (…)l-00001-of-00002.bin:  94%|█▉| 8.90G/9.45G [01:27<00:04, 115MB/s]\u001b[A\n",
            "Downloading (…)l-00001-of-00002.bin:  94%|█▉| 8.92G/9.45G [01:27<00:04, 116MB/s]\u001b[A\n",
            "Downloading (…)l-00001-of-00002.bin:  95%|█▉| 8.94G/9.45G [01:27<00:04, 115MB/s]\u001b[A\n",
            "Downloading (…)l-00001-of-00002.bin:  95%|█▉| 8.97G/9.45G [01:28<00:04, 114MB/s]\u001b[A\n",
            "Downloading (…)l-00001-of-00002.bin:  95%|█▉| 8.99G/9.45G [01:28<00:04, 115MB/s]\u001b[A\n",
            "Downloading (…)l-00001-of-00002.bin:  95%|█▉| 9.01G/9.45G [01:28<00:03, 111MB/s]\u001b[A\n",
            "Downloading (…)l-00001-of-00002.bin:  96%|█▉| 9.03G/9.45G [01:28<00:03, 106MB/s]\u001b[A\n",
            "Downloading (…)l-00001-of-00002.bin:  96%|█▉| 9.05G/9.45G [01:28<00:03, 109MB/s]\u001b[A\n",
            "Downloading (…)l-00001-of-00002.bin:  96%|█▉| 9.07G/9.45G [01:29<00:03, 110MB/s]\u001b[A\n",
            "Downloading (…)l-00001-of-00002.bin:  96%|█▉| 9.09G/9.45G [01:29<00:03, 108MB/s]\u001b[A\n",
            "Downloading (…)l-00001-of-00002.bin:  96%|█▉| 9.11G/9.45G [01:29<00:03, 108MB/s]\u001b[A\n",
            "Downloading (…)l-00001-of-00002.bin:  97%|█▉| 9.13G/9.45G [01:29<00:02, 106MB/s]\u001b[A\n",
            "Downloading (…)l-00001-of-00002.bin:  97%|█▉| 9.15G/9.45G [01:29<00:02, 108MB/s]\u001b[A\n",
            "Downloading (…)l-00001-of-00002.bin:  97%|█▉| 9.18G/9.45G [01:29<00:02, 111MB/s]\u001b[A\n",
            "Downloading (…)l-00001-of-00002.bin:  97%|█▉| 9.20G/9.45G [01:30<00:02, 112MB/s]\u001b[A\n",
            "Downloading (…)l-00001-of-00002.bin:  98%|█▉| 9.22G/9.45G [01:30<00:02, 112MB/s]\u001b[A\n",
            "Downloading (…)l-00001-of-00002.bin:  98%|█▉| 9.24G/9.45G [01:30<00:01, 109MB/s]\u001b[A\n",
            "Downloading (…)l-00001-of-00002.bin:  98%|█▉| 9.26G/9.45G [01:30<00:01, 109MB/s]\u001b[A\n",
            "Downloading (…)l-00001-of-00002.bin:  98%|█▉| 9.28G/9.45G [01:30<00:01, 112MB/s]\u001b[A\n",
            "Downloading (…)l-00001-of-00002.bin:  98%|█▉| 9.30G/9.45G [01:31<00:01, 113MB/s]\u001b[A\n",
            "Downloading (…)l-00001-of-00002.bin:  99%|█▉| 9.32G/9.45G [01:31<00:01, 113MB/s]\u001b[A\n",
            "Downloading (…)l-00001-of-00002.bin:  99%|█▉| 9.34G/9.45G [01:31<00:00, 115MB/s]\u001b[A\n",
            "Downloading (…)l-00001-of-00002.bin:  99%|█▉| 9.36G/9.45G [01:31<00:00, 114MB/s]\u001b[A\n",
            "Downloading (…)l-00001-of-00002.bin:  99%|█▉| 9.38G/9.45G [01:31<00:00, 115MB/s]\u001b[A\n",
            "Downloading (…)l-00001-of-00002.bin: 100%|█▉| 9.41G/9.45G [01:31<00:00, 116MB/s]\u001b[A\n",
            "Downloading (…)l-00001-of-00002.bin: 100%|█▉| 9.43G/9.45G [01:32<00:00, 116MB/s]\u001b[A\n",
            "Downloading (…)l-00001-of-00002.bin: 100%|██| 9.45G/9.45G [01:32<00:00, 102MB/s]\u001b[A\n",
            "Downloading shards:  50%|████████████▌            | 1/2 [01:32<01:32, 92.60s/it]\n",
            "Downloading (…)l-00002-of-00002.bin:   0%|          | 0.00/1.95G [00:00<?, ?B/s]\u001b[A\n",
            "Downloading (…)l-00002-of-00002.bin:   1%| | 10.5M/1.95G [00:00<00:23, 80.9MB/s]\u001b[A\n",
            "Downloading (…)l-00002-of-00002.bin:   1%| | 21.0M/1.95G [00:00<00:25, 76.2MB/s]\u001b[A\n",
            "Downloading (…)l-00002-of-00002.bin:   2%| | 31.5M/1.95G [00:00<00:22, 84.3MB/s]\u001b[A\n",
            "Downloading (…)l-00002-of-00002.bin:   2%| | 41.9M/1.95G [00:00<00:21, 89.1MB/s]\u001b[A\n",
            "Downloading (…)l-00002-of-00002.bin:   3%| | 52.4M/1.95G [00:00<00:20, 92.0MB/s]\u001b[A\n",
            "Downloading (…)l-00002-of-00002.bin:   3%| | 62.9M/1.95G [00:00<00:19, 95.1MB/s]\u001b[A\n",
            "Downloading (…)l-00002-of-00002.bin:   4%| | 73.4M/1.95G [00:00<00:19, 96.8MB/s]\u001b[A\n",
            "Downloading (…)l-00002-of-00002.bin:   5%|  | 94.4M/1.95G [00:00<00:17, 104MB/s]\u001b[A\n",
            "Downloading (…)l-00002-of-00002.bin:   6%|▏  | 115M/1.95G [00:01<00:16, 109MB/s]\u001b[A\n",
            "Downloading (…)l-00002-of-00002.bin:   7%|▏  | 136M/1.95G [00:01<00:16, 112MB/s]\u001b[A\n",
            "Downloading (…)l-00002-of-00002.bin:   8%|▏  | 157M/1.95G [00:01<00:15, 114MB/s]\u001b[A\n",
            "Downloading (…)l-00002-of-00002.bin:   9%|▎  | 178M/1.95G [00:01<00:15, 115MB/s]\u001b[A\n",
            "Downloading (…)l-00002-of-00002.bin:  10%|▎  | 199M/1.95G [00:01<00:15, 116MB/s]\u001b[A\n",
            "Downloading (…)l-00002-of-00002.bin:  11%|▎  | 220M/1.95G [00:02<00:14, 117MB/s]\u001b[A\n",
            "Downloading (…)l-00002-of-00002.bin:  12%|▎  | 241M/1.95G [00:02<00:14, 116MB/s]\u001b[A\n",
            "Downloading (…)l-00002-of-00002.bin:  13%|▍  | 262M/1.95G [00:02<00:14, 116MB/s]\u001b[A\n",
            "Downloading (…)l-00002-of-00002.bin:  15%|▍  | 283M/1.95G [00:02<00:14, 116MB/s]\u001b[A\n",
            "Downloading (…)l-00002-of-00002.bin:  16%|▍  | 304M/1.95G [00:02<00:14, 117MB/s]\u001b[A\n",
            "Downloading (…)l-00002-of-00002.bin:  17%|▌  | 325M/1.95G [00:02<00:14, 115MB/s]\u001b[A\n",
            "Downloading (…)l-00002-of-00002.bin:  18%|▎ | 346M/1.95G [00:03<00:19, 81.7MB/s]\u001b[A\n",
            "Downloading (…)l-00002-of-00002.bin:  18%|▎ | 357M/1.95G [00:03<00:19, 82.6MB/s]\u001b[A\n",
            "Downloading (…)l-00002-of-00002.bin:  19%|▍ | 367M/1.95G [00:03<00:18, 83.5MB/s]\u001b[A\n",
            "Downloading (…)l-00002-of-00002.bin:  19%|▍ | 377M/1.95G [00:03<00:18, 86.8MB/s]\u001b[A\n",
            "Downloading (…)l-00002-of-00002.bin:  20%|▍ | 388M/1.95G [00:03<00:17, 90.3MB/s]\u001b[A\n",
            "Downloading (…)l-00002-of-00002.bin:  21%|▍ | 409M/1.95G [00:04<00:15, 98.5MB/s]\u001b[A\n",
            "Downloading (…)l-00002-of-00002.bin:  22%|▋  | 430M/1.95G [00:04<00:14, 102MB/s]\u001b[A\n",
            "Downloading (…)l-00002-of-00002.bin:  23%|▋  | 451M/1.95G [00:04<00:14, 107MB/s]\u001b[A\n",
            "Downloading (…)l-00002-of-00002.bin:  24%|▋  | 472M/1.95G [00:04<00:13, 111MB/s]\u001b[A\n",
            "Downloading (…)l-00002-of-00002.bin:  25%|▊  | 493M/1.95G [00:04<00:12, 112MB/s]\u001b[A\n",
            "Downloading (…)l-00002-of-00002.bin:  26%|▊  | 514M/1.95G [00:04<00:12, 114MB/s]\u001b[A\n",
            "Downloading (…)l-00002-of-00002.bin:  27%|▊  | 535M/1.95G [00:05<00:12, 115MB/s]\u001b[A\n",
            "Downloading (…)l-00002-of-00002.bin:  29%|▊  | 556M/1.95G [00:05<00:12, 116MB/s]\u001b[A\n",
            "Downloading (…)l-00002-of-00002.bin:  30%|▉  | 577M/1.95G [00:05<00:11, 117MB/s]\u001b[A\n",
            "Downloading (…)l-00002-of-00002.bin:  31%|▉  | 598M/1.95G [00:05<00:11, 117MB/s]\u001b[A\n",
            "Downloading (…)l-00002-of-00002.bin:  32%|▉  | 619M/1.95G [00:05<00:11, 117MB/s]\u001b[A\n",
            "Downloading (…)l-00002-of-00002.bin:  33%|▉  | 640M/1.95G [00:06<00:11, 116MB/s]\u001b[A\n",
            "Downloading (…)l-00002-of-00002.bin:  34%|█  | 661M/1.95G [00:06<00:11, 117MB/s]\u001b[A\n",
            "Downloading (…)l-00002-of-00002.bin:  35%|█  | 682M/1.95G [00:06<00:10, 116MB/s]\u001b[A\n",
            "Downloading (…)l-00002-of-00002.bin:  36%|█  | 703M/1.95G [00:06<00:10, 117MB/s]\u001b[A\n",
            "Downloading (…)l-00002-of-00002.bin:  37%|█  | 724M/1.95G [00:06<00:10, 117MB/s]\u001b[A\n",
            "Downloading (…)l-00002-of-00002.bin:  38%|█▏ | 744M/1.95G [00:06<00:10, 115MB/s]\u001b[A\n",
            "Downloading (…)l-00002-of-00002.bin:  39%|█▏ | 765M/1.95G [00:07<00:10, 113MB/s]\u001b[A\n",
            "Downloading (…)l-00002-of-00002.bin:  40%|█▏ | 786M/1.95G [00:07<00:10, 113MB/s]\u001b[A\n",
            "Downloading (…)l-00002-of-00002.bin:  41%|█▏ | 807M/1.95G [00:07<00:10, 114MB/s]\u001b[A\n",
            "Downloading (…)l-00002-of-00002.bin:  42%|█▎ | 828M/1.95G [00:07<00:09, 113MB/s]\u001b[A\n",
            "Downloading (…)l-00002-of-00002.bin:  44%|█▎ | 849M/1.95G [00:07<00:09, 114MB/s]\u001b[A\n",
            "Downloading (…)l-00002-of-00002.bin:  45%|█▎ | 870M/1.95G [00:08<00:09, 115MB/s]\u001b[A\n",
            "Downloading (…)l-00002-of-00002.bin:  46%|█▎ | 891M/1.95G [00:08<00:09, 115MB/s]\u001b[A\n",
            "Downloading (…)l-00002-of-00002.bin:  47%|█▍ | 912M/1.95G [00:08<00:08, 116MB/s]\u001b[A\n",
            "Downloading (…)l-00002-of-00002.bin:  48%|█▍ | 933M/1.95G [00:08<00:08, 116MB/s]\u001b[A\n",
            "Downloading (…)l-00002-of-00002.bin:  49%|█▍ | 954M/1.95G [00:08<00:08, 116MB/s]\u001b[A\n",
            "Downloading (…)l-00002-of-00002.bin:  50%|█▌ | 975M/1.95G [00:08<00:08, 117MB/s]\u001b[A\n",
            "Downloading (…)l-00002-of-00002.bin:  51%|█▌ | 996M/1.95G [00:09<00:08, 117MB/s]\u001b[A\n",
            "Downloading (…)l-00002-of-00002.bin:  52%|█ | 1.02G/1.95G [00:09<00:08, 110MB/s]\u001b[A\n",
            "Downloading (…)l-00002-of-00002.bin:  53%|█ | 1.04G/1.95G [00:09<00:08, 106MB/s]\u001b[A\n",
            "Downloading (…)l-00002-of-00002.bin:  54%|█ | 1.06G/1.95G [00:09<00:08, 109MB/s]\u001b[A\n",
            "Downloading (…)l-00002-of-00002.bin:  55%|█ | 1.08G/1.95G [00:09<00:07, 110MB/s]\u001b[A\n",
            "Downloading (…)l-00002-of-00002.bin:  56%|█▏| 1.10G/1.95G [00:10<00:07, 111MB/s]\u001b[A\n",
            "Downloading (…)l-00002-of-00002.bin:  58%|█▏| 1.12G/1.95G [00:10<00:07, 111MB/s]\u001b[A\n",
            "Downloading (…)l-00002-of-00002.bin:  59%|█▏| 1.14G/1.95G [00:10<00:07, 113MB/s]\u001b[A\n",
            "Downloading (…)l-00002-of-00002.bin:  60%|█▏| 1.16G/1.95G [00:10<00:07, 112MB/s]\u001b[A\n",
            "Downloading (…)l-00002-of-00002.bin:  61%|█▏| 1.18G/1.95G [00:10<00:06, 111MB/s]\u001b[A\n",
            "Downloading (…)l-00002-of-00002.bin:  62%|█▏| 1.21G/1.95G [00:11<00:06, 111MB/s]\u001b[A\n",
            "Downloading (…)l-00002-of-00002.bin:  63%|█▎| 1.23G/1.95G [00:11<00:06, 113MB/s]\u001b[A\n",
            "Downloading (…)l-00002-of-00002.bin:  64%|█▎| 1.25G/1.95G [00:11<00:06, 112MB/s]\u001b[A\n",
            "Downloading (…)l-00002-of-00002.bin:  65%|█▎| 1.27G/1.95G [00:11<00:05, 114MB/s]\u001b[A\n",
            "Downloading (…)l-00002-of-00002.bin:  66%|█▎| 1.29G/1.95G [00:11<00:05, 115MB/s]\u001b[A\n",
            "Downloading (…)l-00002-of-00002.bin:  67%|█▎| 1.31G/1.95G [00:11<00:05, 113MB/s]\u001b[A\n",
            "Downloading (…)l-00002-of-00002.bin:  68%|█▎| 1.33G/1.95G [00:12<00:05, 111MB/s]\u001b[A\n",
            "Downloading (…)l-00002-of-00002.bin:  69%|█▍| 1.35G/1.95G [00:12<00:05, 108MB/s]\u001b[A\n",
            "Downloading (…)l-00002-of-00002.bin:  70%|█▍| 1.37G/1.95G [00:12<00:05, 105MB/s]\u001b[A\n",
            "Downloading (…)l-00002-of-00002.bin:  72%|█▍| 1.39G/1.95G [00:12<00:05, 101MB/s]\u001b[A\n",
            "Downloading (…)l-00002-of-00002.bin:  72%|█▍| 1.41G/1.95G [00:12<00:05, 101MB/s]\u001b[A\n",
            "Downloading (…)l-00002-of-00002.bin:  73%|█▍| 1.43G/1.95G [00:13<00:04, 105MB/s]\u001b[A\n",
            "Downloading (…)l-00002-of-00002.bin:  74%|▋| 1.45G/1.95G [00:13<00:06, 79.2MB/s]\u001b[A\n",
            "Downloading (…)l-00002-of-00002.bin:  75%|▋| 1.46G/1.95G [00:13<00:06, 81.4MB/s]\u001b[A\n",
            "Downloading (…)l-00002-of-00002.bin:  75%|▊| 1.47G/1.95G [00:13<00:05, 82.4MB/s]\u001b[A\n",
            "Downloading (…)l-00002-of-00002.bin:  76%|▊| 1.48G/1.95G [00:13<00:05, 83.9MB/s]\u001b[A\n",
            "Downloading (…)l-00002-of-00002.bin:  77%|▊| 1.50G/1.95G [00:14<00:04, 92.1MB/s]\u001b[A\n",
            "Downloading (…)l-00002-of-00002.bin:  78%|▊| 1.52G/1.95G [00:14<00:04, 99.3MB/s]\u001b[A\n",
            "Downloading (…)l-00002-of-00002.bin:  79%|█▌| 1.54G/1.95G [00:14<00:04, 100MB/s]\u001b[A\n",
            "Downloading (…)l-00002-of-00002.bin:  80%|▊| 1.55G/1.95G [00:14<00:04, 99.0MB/s]\u001b[A\n",
            "Downloading (…)l-00002-of-00002.bin:  80%|▊| 1.56G/1.95G [00:14<00:03, 98.4MB/s]\u001b[A\n",
            "Downloading (…)l-00002-of-00002.bin:  81%|▊| 1.57G/1.95G [00:14<00:03, 98.9MB/s]\u001b[A\n",
            "Downloading (…)l-00002-of-00002.bin:  81%|▊| 1.58G/1.95G [00:14<00:03, 97.3MB/s]\u001b[A\n",
            "Downloading (…)l-00002-of-00002.bin:  82%|▊| 1.59G/1.95G [00:14<00:03, 97.7MB/s]\u001b[A\n",
            "Downloading (…)l-00002-of-00002.bin:  83%|█▋| 1.61G/1.95G [00:15<00:03, 103MB/s]\u001b[A\n",
            "Downloading (…)l-00002-of-00002.bin:  84%|█▋| 1.64G/1.95G [00:15<00:02, 108MB/s]\u001b[A\n",
            "Downloading (…)l-00002-of-00002.bin:  85%|█▋| 1.66G/1.95G [00:15<00:02, 107MB/s]\u001b[A\n",
            "Downloading (…)l-00002-of-00002.bin:  86%|█▋| 1.68G/1.95G [00:15<00:02, 110MB/s]\u001b[A\n",
            "Downloading (…)l-00002-of-00002.bin:  87%|█▋| 1.70G/1.95G [00:15<00:02, 113MB/s]\u001b[A\n",
            "Downloading (…)l-00002-of-00002.bin:  88%|█▊| 1.72G/1.95G [00:16<00:02, 113MB/s]\u001b[A\n",
            "Downloading (…)l-00002-of-00002.bin:  89%|█▊| 1.74G/1.95G [00:16<00:01, 109MB/s]\u001b[A\n",
            "Downloading (…)l-00002-of-00002.bin:  90%|█▊| 1.76G/1.95G [00:16<00:01, 109MB/s]\u001b[A\n",
            "Downloading (…)l-00002-of-00002.bin:  91%|█▊| 1.78G/1.95G [00:16<00:01, 109MB/s]\u001b[A\n",
            "Downloading (…)l-00002-of-00002.bin:  93%|█▊| 1.80G/1.95G [00:16<00:01, 109MB/s]\u001b[A\n",
            "Downloading (…)l-00002-of-00002.bin:  94%|█▊| 1.82G/1.95G [00:17<00:01, 109MB/s]\u001b[A\n",
            "Downloading (…)l-00002-of-00002.bin:  95%|█▉| 1.85G/1.95G [00:17<00:00, 107MB/s]\u001b[A\n",
            "Downloading (…)l-00002-of-00002.bin:  96%|█▉| 1.87G/1.95G [00:17<00:00, 107MB/s]\u001b[A\n",
            "Downloading (…)l-00002-of-00002.bin:  97%|█▉| 1.89G/1.95G [00:17<00:00, 102MB/s]\u001b[A\n",
            "Downloading (…)l-00002-of-00002.bin:  97%|█▉| 1.90G/1.95G [00:17<00:00, 102MB/s]\u001b[A\n",
            "Downloading (…)l-00002-of-00002.bin:  98%|█▉| 1.91G/1.95G [00:17<00:00, 102MB/s]\u001b[A\n",
            "Downloading (…)l-00002-of-00002.bin:  98%|▉| 1.92G/1.95G [00:17<00:00, 98.6MB/s]\u001b[A\n",
            "Downloading (…)l-00002-of-00002.bin: 100%|██| 1.95G/1.95G [00:18<00:00, 107MB/s]\u001b[A\n",
            "Downloading shards: 100%|█████████████████████████| 2/2 [01:51<00:00, 55.54s/it]\n",
            "Loading checkpoint shards: 100%|██████████████████| 2/2 [00:04<00:00,  2.11s/it]\n",
            "/opt/conda/lib/python3.8/site-packages/transformers/utils/hub.py:374: FutureWarning: The `use_auth_token` argument is deprecated and will be removed in v5 of Transformers.\n",
            "  warnings.warn(\n",
            "Downloading (…)neration_config.json: 100%|██████| 147/147 [00:00<00:00, 224kB/s]\n",
            "You are resizing the embedding layer without providing a `pad_to_multiple_of` parameter. This means that the new embedding dimension will be 32101. This might induce some performance reduction as *Tensor Cores* will not be available. For more details about this, or help on choosing the correct value for resizing, refer to this guide: https://docs.nvidia.com/deeplearning/performance/dl-performance-matrix-multiplication/index.html#requirements-tc\n",
            "\n",
            "\n",
            "trainable model parameters: 18874368\n",
            "all model parameters: 2868520960\n",
            "percentage of trainable model parameters: 0.66% \n",
            "\n",
            "/opt/conda/lib/python3.8/site-packages/datasets/load.py:2089: FutureWarning: 'use_auth_token' was deprecated in favor of 'token' in version 2.14.0 and will be removed in 3.0.0.\n",
            "You can remove this warning by passing 'token=False' instead.\n",
            "  warnings.warn(\n",
            "Downloading builder script: 100%|██████████| 3.52k/3.52k [00:00<00:00, 14.4MB/s]\n",
            "Downloading readme: 100%|██████████████████| 4.89k/4.89k [00:00<00:00, 16.1MB/s]\n",
            "Downloading data files:   0%|                             | 0/3 [00:00<?, ?it/s]\n",
            "Downloading data:   0%|                             | 0.00/10.1M [00:00<?, ?B/s]\u001b[A\n",
            "Downloading data:  16%|███                 | 1.57M/10.1M [00:00<00:00, 15.6MB/s]\u001b[A\n",
            "Downloading data:  31%|██████▏             | 3.13M/10.1M [00:00<00:00, 15.2MB/s]\u001b[A\n",
            "Downloading data:  46%|█████████▎          | 4.68M/10.1M [00:00<00:00, 15.3MB/s]\u001b[A\n",
            "Downloading data:  62%|████████████▎       | 6.24M/10.1M [00:00<00:00, 15.4MB/s]\u001b[A\n",
            "Downloading data:  77%|███████████████▍    | 7.78M/10.1M [00:00<00:00, 12.6MB/s]\u001b[A\n",
            "Downloading data: 100%|████████████████████| 10.1M/10.1M [00:00<00:00, 15.1MB/s]\u001b[A\n",
            "\n",
            "Downloading data:   0%|                             | 0.00/9.38M [00:00<?, ?B/s]\u001b[A\n",
            "Downloading data:   8%|█▊                   | 785k/9.38M [00:00<00:01, 7.65MB/s]\u001b[A\n",
            "Downloading data:  17%|███▎                | 1.57M/9.38M [00:00<00:01, 7.79MB/s]\u001b[A\n",
            "Downloading data:  27%|█████▍              | 2.52M/9.38M [00:00<00:00, 8.56MB/s]\u001b[A\n",
            "Downloading data:  42%|████████▍           | 3.97M/9.38M [00:00<00:00, 10.9MB/s]\u001b[A\n",
            "Downloading data:  63%|████████████▌       | 5.92M/9.38M [00:00<00:00, 14.0MB/s]\u001b[A\n",
            "Downloading data: 100%|████████████████████| 9.38M/9.38M [00:00<00:00, 14.2MB/s]\u001b[A\n",
            "\n",
            "Downloading data:   0%|                             | 0.00/9.95M [00:00<?, ?B/s]\u001b[A\n",
            "Downloading data:  19%|███▊                | 1.87M/9.95M [00:00<00:00, 18.6MB/s]\u001b[A\n",
            "Downloading data:  39%|███████▋            | 3.85M/9.95M [00:00<00:00, 19.3MB/s]\u001b[A\n",
            "Downloading data:  63%|████████████▌       | 6.26M/9.95M [00:00<00:00, 21.5MB/s]\u001b[A\n",
            "Downloading data: 100%|████████████████████| 9.95M/9.95M [00:00<00:00, 24.4MB/s]\u001b[A\n",
            "\n",
            "Downloading data:   0%|                             | 0.00/10.6M [00:00<?, ?B/s]\u001b[A\n",
            "Downloading data:   0%|                    | 17.4k/10.6M [00:00<01:58, 88.8kB/s]\u001b[A\n",
            "Downloading data:   0%|                     | 52.2k/10.6M [00:00<01:14, 141kB/s]\u001b[A\n",
            "Downloading data:   1%|▎                     | 143k/10.6M [00:00<00:36, 288kB/s]\u001b[A\n",
            "Downloading data:   2%|▍                     | 232k/10.6M [00:00<00:29, 353kB/s]\u001b[A\n",
            "Downloading data:   3%|▋                     | 324k/10.6M [00:00<00:26, 392kB/s]\u001b[A\n",
            "Downloading data:   4%|▊                     | 404k/10.6M [00:01<00:25, 398kB/s]\u001b[A\n",
            "Downloading data:   5%|█                     | 511k/10.6M [00:01<00:22, 445kB/s]\u001b[A\n",
            "Downloading data:   6%|█▎                    | 611k/10.6M [00:01<00:21, 466kB/s]\u001b[A\n",
            "Downloading data:   7%|█▌                    | 730k/10.6M [00:01<00:17, 571kB/s]\u001b[A\n",
            "Downloading data:   8%|█▋                    | 834k/10.6M [00:01<00:19, 496kB/s]\u001b[A\n",
            "Downloading data:   9%|█▉                    | 959k/10.6M [00:02<00:17, 540kB/s]\u001b[A\n",
            "Downloading data:  10%|██▏                  | 1.09M/10.6M [00:02<00:16, 583kB/s]\u001b[A\n",
            "Downloading data:  12%|██▍                  | 1.21M/10.6M [00:02<00:15, 590kB/s]\u001b[A\n",
            "Downloading data:  13%|██▋                  | 1.36M/10.6M [00:02<00:14, 639kB/s]\u001b[A\n",
            "Downloading data:  14%|██▉                  | 1.50M/10.6M [00:02<00:13, 659kB/s]\u001b[A\n",
            "Downloading data:  16%|███▎                 | 1.66M/10.6M [00:03<00:12, 700kB/s]\u001b[A\n",
            "Downloading data:  17%|███▌                 | 1.81M/10.6M [00:03<00:12, 728kB/s]\u001b[A\n",
            "Downloading data:  19%|███▉                 | 1.99M/10.6M [00:03<00:11, 774kB/s]\u001b[A\n",
            "Downloading data:  22%|████▋                | 2.35M/10.6M [00:03<00:09, 847kB/s]\u001b[A\n",
            "Downloading data:  24%|█████                | 2.56M/10.6M [00:04<00:08, 912kB/s]\u001b[A\n",
            "Downloading data:  26%|█████▍               | 2.75M/10.6M [00:04<00:08, 928kB/s]\u001b[A\n",
            "Downloading data:  28%|█████▉               | 2.98M/10.6M [00:04<00:07, 995kB/s]\u001b[A\n",
            "Downloading data:  30%|██████              | 3.21M/10.6M [00:04<00:07, 1.04MB/s]\u001b[A\n",
            "Downloading data:  33%|██████▌             | 3.45M/10.6M [00:04<00:06, 1.10MB/s]\u001b[A\n",
            "Downloading data:  35%|██████▉             | 3.69M/10.6M [00:05<00:06, 1.14MB/s]\u001b[A\n",
            "Downloading data:  37%|███████▍            | 3.96M/10.6M [00:05<00:05, 1.20MB/s]\u001b[A\n",
            "Downloading data:  40%|████████            | 4.23M/10.6M [00:05<00:05, 1.26MB/s]\u001b[A\n",
            "Downloading data:  43%|████████▌           | 4.53M/10.6M [00:05<00:04, 1.33MB/s]\u001b[A\n",
            "Downloading data:  46%|█████████▏          | 4.83M/10.6M [00:05<00:04, 1.38MB/s]\u001b[A\n",
            "Downloading data:  49%|█████████▋          | 5.14M/10.6M [00:06<00:03, 1.48MB/s]\u001b[A\n",
            "Downloading data:  52%|██████████▍         | 5.49M/10.6M [00:06<00:03, 1.53MB/s]\u001b[A\n",
            "Downloading data:  55%|███████████         | 5.84M/10.6M [00:06<00:02, 1.60MB/s]\u001b[A\n",
            "Downloading data:  59%|███████████▋        | 6.20M/10.6M [00:06<00:02, 1.75MB/s]\u001b[A\n",
            "Downloading data:  62%|████████████▍       | 6.58M/10.6M [00:06<00:01, 2.08MB/s]\u001b[A\n",
            "Downloading data:  64%|████████████▉       | 6.81M/10.6M [00:06<00:01, 2.04MB/s]\u001b[A\n",
            "Downloading data:  67%|█████████████▎      | 7.02M/10.6M [00:07<00:02, 1.73MB/s]\u001b[A\n",
            "Downloading data:  70%|██████████████      | 7.44M/10.6M [00:07<00:01, 1.85MB/s]\u001b[A\n",
            "Downloading data:  75%|██████████████▉     | 7.87M/10.6M [00:07<00:01, 2.06MB/s]\u001b[A\n",
            "Downloading data:  79%|███████████████▊    | 8.34M/10.6M [00:07<00:00, 2.52MB/s]\u001b[A\n",
            "Downloading data:  82%|████████████████▎   | 8.62M/10.6M [00:07<00:00, 2.43MB/s]\u001b[A\n",
            "Downloading data:  84%|████████████████▊   | 8.87M/10.6M [00:07<00:00, 2.08MB/s]\u001b[A\n",
            "Downloading data:  89%|█████████████████▋  | 9.37M/10.6M [00:08<00:00, 2.34MB/s]\u001b[A\n",
            "Downloading data:  94%|██████████████████▊ | 9.91M/10.6M [00:08<00:00, 2.48MB/s]\u001b[A\n",
            "Downloading data: 100%|████████████████████| 10.6M/10.6M [00:08<00:00, 1.25MB/s]\u001b[A\n",
            "\n",
            "Downloading data:   0%|                             | 0.00/12.5M [00:00<?, ?B/s]\u001b[A\n",
            "Downloading data:  12%|██▍                 | 1.52M/12.5M [00:00<00:00, 15.1MB/s]\u001b[A\n",
            "Downloading data:  25%|████▉               | 3.08M/12.5M [00:00<00:00, 15.4MB/s]\u001b[A\n",
            "Downloading data:  38%|███████▌            | 4.68M/12.5M [00:00<00:00, 15.6MB/s]\u001b[A\n",
            "Downloading data:  50%|██████████          | 6.24M/12.5M [00:00<00:00, 15.5MB/s]\u001b[A\n",
            "Downloading data:  62%|████████████▍       | 7.79M/12.5M [00:00<00:00, 15.3MB/s]\u001b[A\n",
            "Downloading data: 100%|████████████████████| 12.5M/12.5M [00:00<00:00, 19.3MB/s]\u001b[A\n",
            "\n",
            "Downloading data:   0%|                             | 0.00/13.4M [00:00<?, ?B/s]\u001b[A\n",
            "Downloading data:  13%|██▋                 | 1.79M/13.4M [00:00<00:00, 17.6MB/s]\u001b[A\n",
            "Downloading data:  29%|█████▊              | 3.92M/13.4M [00:00<00:00, 19.8MB/s]\u001b[A\n",
            "Downloading data:  46%|█████████▎          | 6.19M/13.4M [00:00<00:00, 21.1MB/s]\u001b[A\n",
            "Downloading data:  70%|██████████████      | 9.41M/13.4M [00:00<00:00, 25.4MB/s]\u001b[A\n",
            "Downloading data: 100%|████████████████████| 13.4M/13.4M [00:00<00:00, 24.6MB/s]\u001b[A\n",
            "\n",
            "Downloading data:   0%|                             | 0.00/13.4M [00:00<?, ?B/s]\u001b[A\n",
            "Downloading data:  15%|██▉                 | 1.99M/13.4M [00:00<00:00, 19.9MB/s]\u001b[A\n",
            "Downloading data:  34%|██████▋             | 4.50M/13.4M [00:00<00:00, 22.9MB/s]\u001b[A\n",
            "Downloading data:  54%|██████████▊         | 7.27M/13.4M [00:00<00:00, 25.1MB/s]\u001b[A\n",
            "Downloading data: 100%|████████████████████| 13.4M/13.4M [00:00<00:00, 29.7MB/s]\u001b[A\n",
            "\n",
            "Downloading data:   0%|                             | 0.00/13.5M [00:00<?, ?B/s]\u001b[A\n",
            "Downloading data:   7%|█▍                   | 904k/13.5M [00:00<00:01, 9.04MB/s]\u001b[A\n",
            "Downloading data:  17%|███▍                | 2.33M/13.5M [00:00<00:00, 12.1MB/s]\u001b[A\n",
            "Downloading data:  32%|██████▎             | 4.29M/13.5M [00:00<00:00, 15.5MB/s]\u001b[A\n",
            "Downloading data:  49%|█████████▊          | 6.61M/13.5M [00:00<00:00, 18.6MB/s]\u001b[A\n",
            "Downloading data:  68%|█████████████▋      | 9.22M/13.5M [00:00<00:00, 21.3MB/s]\u001b[A\n",
            "Downloading data: 100%|████████████████████| 13.5M/13.5M [00:00<00:00, 21.1MB/s]\u001b[A\n",
            "\n",
            "Downloading data:   0%|                             | 0.00/13.4M [00:00<?, ?B/s]\u001b[A\n",
            "Downloading data:  15%|██▉                 | 1.99M/13.4M [00:00<00:00, 19.9MB/s]\u001b[A\n",
            "Downloading data:  30%|█████▉              | 3.98M/13.4M [00:00<00:00, 19.0MB/s]\u001b[A\n",
            "Downloading data:  44%|████████▊           | 5.88M/13.4M [00:00<00:00, 12.7MB/s]\u001b[A\n",
            "Downloading data:  64%|████████████▋       | 8.48M/13.4M [00:00<00:00, 16.7MB/s]\u001b[A\n",
            "Downloading data: 100%|████████████████████| 13.4M/13.4M [00:00<00:00, 20.2MB/s]\u001b[A\n",
            "\n",
            "Downloading data:   0%|                             | 0.00/12.7M [00:00<?, ?B/s]\u001b[A\n",
            "Downloading data:  10%|██                  | 1.29M/12.7M [00:00<00:00, 12.9MB/s]\u001b[A\n",
            "Downloading data:  20%|████                | 2.58M/12.7M [00:00<00:00, 12.3MB/s]\u001b[A\n",
            "Downloading data:  35%|███████             | 4.46M/12.7M [00:00<00:00, 15.1MB/s]\u001b[A\n",
            "Downloading data:  52%|██████████▎         | 6.58M/12.7M [00:00<00:00, 17.5MB/s]\u001b[A\n",
            "Downloading data:  74%|██████████████▊     | 9.40M/12.7M [00:00<00:00, 21.3MB/s]\u001b[A\n",
            "Downloading data: 100%|████████████████████| 12.7M/12.7M [00:00<00:00, 20.8MB/s]\u001b[A\n",
            "\n",
            "Downloading data:   0%|                             | 0.00/13.3M [00:00<?, ?B/s]\u001b[A\n",
            "Downloading data:   7%|█▍                   | 903k/13.3M [00:00<00:01, 9.03MB/s]\u001b[A\n",
            "Downloading data:  17%|███▎                | 2.23M/13.3M [00:00<00:00, 11.5MB/s]\u001b[A\n",
            "Downloading data:  31%|██████▏             | 4.11M/13.3M [00:00<00:00, 14.8MB/s]\u001b[A\n",
            "Downloading data:  44%|████████▊           | 5.84M/13.3M [00:00<00:00, 15.8MB/s]\u001b[A\n",
            "Downloading data:  64%|████████████▋       | 8.48M/13.3M [00:00<00:00, 19.6MB/s]\u001b[A\n",
            "Downloading data: 100%|████████████████████| 13.3M/13.3M [00:00<00:00, 20.5MB/s]\u001b[A\n",
            "\n",
            "Downloading data:   0%|                             | 0.00/13.0M [00:00<?, ?B/s]\u001b[A\n",
            "Downloading data:   9%|█▉                  | 1.23M/13.0M [00:00<00:00, 12.3MB/s]\u001b[A\n",
            "Downloading data:  19%|███▊                | 2.46M/13.0M [00:00<00:00, 12.2MB/s]\u001b[A\n",
            "Downloading data:  28%|█████▋              | 3.68M/13.0M [00:00<00:00, 11.0MB/s]\u001b[A\n",
            "Downloading data:  37%|███████▎            | 4.79M/13.0M [00:00<00:00, 9.02MB/s]\u001b[A\n",
            "Downloading data:  52%|██████████▎         | 6.74M/13.0M [00:00<00:00, 12.2MB/s]\u001b[A\n",
            "Downloading data:  65%|████████████▉       | 8.45M/13.0M [00:00<00:00, 13.7MB/s]\u001b[A\n",
            "Downloading data: 100%|████████████████████| 13.0M/13.0M [00:00<00:00, 14.8MB/s]\u001b[A\n",
            "\n",
            "Downloading data:   0%|                             | 0.00/13.0M [00:00<?, ?B/s]\u001b[A\n",
            "Downloading data:  11%|██▏                 | 1.41M/13.0M [00:00<00:00, 14.0MB/s]\u001b[A\n",
            "Downloading data:  22%|████▎               | 2.81M/13.0M [00:00<00:00, 14.0MB/s]\u001b[A\n",
            "Downloading data:  32%|██████▍             | 4.22M/13.0M [00:00<00:00, 9.86MB/s]\u001b[A\n",
            "Downloading data:  49%|█████████▉          | 6.43M/13.0M [00:00<00:00, 13.7MB/s]\u001b[A\n",
            "Downloading data:  68%|█████████████▌      | 8.79M/13.0M [00:00<00:00, 16.8MB/s]\u001b[A\n",
            "Downloading data: 100%|████████████████████| 13.0M/13.0M [00:00<00:00, 17.8MB/s]\u001b[A\n",
            "\n",
            "Downloading data:   0%|                             | 0.00/13.4M [00:00<?, ?B/s]\u001b[A\n",
            "Downloading data:   8%|█▌                  | 1.03M/13.4M [00:00<00:01, 10.0MB/s]\u001b[A\n",
            "Downloading data:  16%|███▏                | 2.13M/13.4M [00:00<00:01, 10.5MB/s]\u001b[A\n",
            "Downloading data:  28%|█████▋              | 3.80M/13.4M [00:00<00:00, 13.3MB/s]\u001b[A\n",
            "Downloading data:  42%|████████▍           | 5.64M/13.4M [00:00<00:00, 15.3MB/s]\u001b[A\n",
            "Downloading data:  55%|███████████         | 7.38M/13.4M [00:00<00:00, 16.1MB/s]\u001b[A\n",
            "Downloading data:  71%|██████████████▎     | 9.57M/13.4M [00:00<00:00, 18.0MB/s]\u001b[A\n",
            "Downloading data: 100%|████████████████████| 13.4M/13.4M [00:00<00:00, 17.8MB/s]\u001b[A\n",
            "\n",
            "Downloading data:   0%|                             | 0.00/12.7M [00:00<?, ?B/s]\u001b[A\n",
            "Downloading data:   0%|                    | 17.4k/12.7M [00:00<02:20, 90.5kB/s]\u001b[A\n",
            "Downloading data:   0%|                     | 52.2k/12.7M [00:00<01:35, 133kB/s]\u001b[A\n",
            "Downloading data:   1%|▏                     | 143k/12.7M [00:00<00:46, 272kB/s]\u001b[A\n",
            "Downloading data:   2%|▌                     | 314k/12.7M [00:00<00:22, 542kB/s]\u001b[A\n",
            "Downloading data:   5%|█                    | 666k/12.7M [00:00<00:11, 1.01MB/s]\u001b[A\n",
            "Downloading data:  11%|██▏                 | 1.36M/12.7M [00:01<00:06, 1.89MB/s]\u001b[A\n",
            "Downloading data:  22%|████▎               | 2.75M/12.7M [00:01<00:02, 3.62MB/s]\u001b[A\n",
            "Downloading data:  38%|███████▋            | 4.90M/12.7M [00:01<00:01, 5.99MB/s]\u001b[A\n",
            "Downloading data:  52%|██████████▎         | 6.58M/12.7M [00:01<00:00, 8.06MB/s]\u001b[A\n",
            "Downloading data:  62%|████████████▍       | 7.89M/12.7M [00:01<00:00, 9.13MB/s]\u001b[A\n",
            "Downloading data:  71%|██████████████▎     | 9.10M/12.7M [00:01<00:00, 9.81MB/s]\u001b[A\n",
            "Downloading data:  80%|████████████████    | 10.2M/12.7M [00:01<00:00, 9.58MB/s]\u001b[A\n",
            "Downloading data: 100%|████████████████████| 12.7M/12.7M [00:02<00:00, 6.02MB/s]\u001b[A\n",
            "\n",
            "Downloading data:   0%|                             | 0.00/12.8M [00:00<?, ?B/s]\u001b[A\n",
            "Downloading data:  15%|███                 | 1.92M/12.8M [00:00<00:00, 19.2MB/s]\u001b[A\n",
            "Downloading data:  30%|██████              | 3.84M/12.8M [00:00<00:00, 16.7MB/s]\u001b[A\n",
            "Downloading data:  50%|██████████          | 6.39M/12.8M [00:00<00:00, 20.5MB/s]\u001b[A\n",
            "Downloading data: 100%|████████████████████| 12.8M/12.8M [00:00<00:00, 27.4MB/s]\u001b[A\n",
            "\n",
            "Downloading data:   0%|                             | 0.00/13.1M [00:00<?, ?B/s]\u001b[A\n",
            "Downloading data:  10%|██                  | 1.36M/13.1M [00:00<00:00, 13.6MB/s]\u001b[A\n",
            "Downloading data:  21%|████▏               | 2.73M/13.1M [00:00<00:00, 13.3MB/s]\u001b[A\n",
            "Downloading data:  32%|██████▍             | 4.24M/13.1M [00:00<00:00, 14.2MB/s]\u001b[A\n",
            "Downloading data:  45%|████████▉           | 5.85M/13.1M [00:00<00:00, 14.9MB/s]\u001b[A\n",
            "Downloading data:  56%|███████████▏        | 7.34M/13.1M [00:00<00:00, 13.2MB/s]\u001b[A\n",
            "Downloading data:  66%|█████████████▎      | 8.69M/13.1M [00:00<00:00, 12.3MB/s]\u001b[A\n",
            "Downloading data: 100%|████████████████████| 13.1M/13.1M [00:00<00:00, 15.2MB/s]\u001b[A\n",
            "\n",
            "Downloading data:   0%|                             | 0.00/13.5M [00:00<?, ?B/s]\u001b[A\n",
            "Downloading data:  10%|██                  | 1.38M/13.5M [00:00<00:00, 13.7MB/s]\u001b[A\n",
            "Downloading data:  20%|████                | 2.75M/13.5M [00:00<00:00, 13.2MB/s]\u001b[A\n",
            "Downloading data:  31%|██████              | 4.14M/13.5M [00:00<00:00, 13.5MB/s]\u001b[A\n",
            "Downloading data:  41%|████████▏           | 5.56M/13.5M [00:00<00:00, 13.8MB/s]\u001b[A\n",
            "Downloading data:  53%|██████████▌         | 7.10M/13.5M [00:00<00:00, 14.4MB/s]\u001b[A\n",
            "Downloading data:  64%|████████████▊       | 8.68M/13.5M [00:00<00:00, 14.9MB/s]\u001b[A\n",
            "Downloading data:  78%|███████████████▌    | 10.6M/13.5M [00:00<00:00, 16.1MB/s]\u001b[A\n",
            "Downloading data: 100%|████████████████████| 13.5M/13.5M [00:00<00:00, 16.4MB/s]\u001b[A\n",
            "\n",
            "Downloading data:   0%|                             | 0.00/12.8M [00:00<?, ?B/s]\u001b[A\n",
            "Downloading data:  10%|█▉                  | 1.24M/12.8M [00:00<00:00, 12.4MB/s]\u001b[A\n",
            "Downloading data:  21%|████▎               | 2.73M/12.8M [00:00<00:00, 13.8MB/s]\u001b[A\n",
            "Downloading data:  33%|██████▋             | 4.28M/12.8M [00:00<00:00, 14.6MB/s]\u001b[A\n",
            "Downloading data:  49%|█████████▋          | 6.21M/12.8M [00:00<00:00, 16.4MB/s]\u001b[A\n",
            "Downloading data:  63%|████████████▋       | 8.09M/12.8M [00:00<00:00, 17.3MB/s]\u001b[A\n",
            "Downloading data: 100%|████████████████████| 12.8M/12.8M [00:00<00:00, 18.3MB/s]\u001b[A\n",
            "\n",
            "Downloading data:   0%|                             | 0.00/12.7M [00:00<?, ?B/s]\u001b[A\n",
            "Downloading data:  13%|██▌                 | 1.60M/12.7M [00:00<00:00, 16.0MB/s]\u001b[A\n",
            "Downloading data:  28%|█████▌              | 3.52M/12.7M [00:00<00:00, 17.9MB/s]\u001b[A\n",
            "Downloading data:  45%|████████▉           | 5.70M/12.7M [00:00<00:00, 19.7MB/s]\u001b[A\n",
            "Downloading data:  67%|█████████████▍      | 8.55M/12.7M [00:00<00:00, 23.2MB/s]\u001b[A\n",
            "Downloading data: 100%|████████████████████| 12.7M/12.7M [00:00<00:00, 22.7MB/s]\u001b[A\n",
            "\n",
            "Downloading data:   0%|                             | 0.00/12.7M [00:00<?, ?B/s]\u001b[A\n",
            "Downloading data:  11%|██                  | 1.35M/12.7M [00:00<00:00, 13.5MB/s]\u001b[A\n",
            "Downloading data:  22%|████▎               | 2.75M/12.7M [00:00<00:00, 13.8MB/s]\u001b[A\n",
            "Downloading data:  34%|██████▉             | 4.39M/12.7M [00:00<00:00, 15.0MB/s]\u001b[A\n",
            "Downloading data:  48%|█████████▌          | 6.10M/12.7M [00:00<00:00, 15.8MB/s]\u001b[A\n",
            "Downloading data:  66%|█████████████       | 8.35M/12.7M [00:00<00:00, 18.2MB/s]\u001b[A\n",
            "Downloading data: 100%|████████████████████| 12.7M/12.7M [00:00<00:00, 18.7MB/s]\u001b[A\n",
            "\n",
            "Downloading data:   0%|                             | 0.00/13.2M [00:00<?, ?B/s]\u001b[A\n",
            "Downloading data:   0%|                    | 16.4k/13.2M [00:00<02:35, 84.8kB/s]\u001b[A\n",
            "Downloading data:   0%|                     | 51.2k/13.2M [00:00<01:33, 140kB/s]\u001b[A\n",
            "Downloading data:   1%|▏                     | 138k/13.2M [00:00<00:46, 280kB/s]\u001b[A\n",
            "Downloading data:   2%|▌                     | 312k/13.2M [00:00<00:24, 518kB/s]\u001b[A\n",
            "Downloading data:   5%|█                     | 660k/13.2M [00:00<00:13, 962kB/s]\u001b[A\n",
            "Downloading data:  10%|██                  | 1.34M/13.2M [00:01<00:06, 1.81MB/s]\u001b[A\n",
            "Downloading data:  20%|████                | 2.71M/13.2M [00:01<00:02, 3.55MB/s]\u001b[A\n",
            "Downloading data:  33%|██████▋             | 4.39M/13.2M [00:01<00:01, 6.11MB/s]\u001b[A\n",
            "Downloading data:  39%|███████▊            | 5.17M/13.2M [00:01<00:01, 6.25MB/s]\u001b[A\n",
            "Downloading data:  52%|██████████▍         | 6.88M/13.2M [00:01<00:00, 8.77MB/s]\u001b[A\n",
            "Downloading data:  66%|█████████████▏      | 8.75M/13.2M [00:01<00:00, 11.2MB/s]\u001b[A\n",
            "Downloading data:  81%|████████████████▏   | 10.7M/13.2M [00:01<00:00, 13.5MB/s]\u001b[A\n",
            "Downloading data: 100%|████████████████████| 13.2M/13.2M [00:02<00:00, 6.53MB/s]\u001b[A\n",
            "\n",
            "Downloading data:   0%|                             | 0.00/12.0M [00:00<?, ?B/s]\u001b[A\n",
            "Downloading data:  12%|██▎                 | 1.39M/12.0M [00:00<00:00, 13.8MB/s]\u001b[A\n",
            "Downloading data:  23%|████▌               | 2.77M/12.0M [00:00<00:00, 13.0MB/s]\u001b[A\n",
            "Downloading data:  36%|███████▏            | 4.32M/12.0M [00:00<00:00, 14.1MB/s]\u001b[A\n",
            "Downloading data:  53%|██████████▋         | 6.43M/12.0M [00:00<00:00, 16.8MB/s]\u001b[A\n",
            "Downloading data:  75%|███████████████     | 9.04M/12.0M [00:00<00:00, 20.1MB/s]\u001b[A\n",
            "Downloading data: 100%|████████████████████| 12.0M/12.0M [00:00<00:00, 19.3MB/s]\u001b[A\n",
            "Downloading data files:  33%|███████              | 1/3 [00:44<01:28, 44.15s/it]\n",
            "Downloading data:   0%|                             | 0.00/13.0M [00:00<?, ?B/s]\u001b[A\n",
            "Downloading data:  13%|██▋                 | 1.75M/13.0M [00:00<00:00, 17.4MB/s]\u001b[A\n",
            "Downloading data:  27%|█████▎              | 3.49M/13.0M [00:00<00:00, 12.8MB/s]\u001b[A\n",
            "Downloading data:  37%|███████▍            | 4.84M/13.0M [00:00<00:00, 10.5MB/s]\u001b[A\n",
            "Downloading data:  54%|██████████▋         | 6.96M/13.0M [00:00<00:00, 13.8MB/s]\u001b[A\n",
            "Downloading data:  69%|█████████████▊      | 8.94M/13.0M [00:00<00:00, 15.6MB/s]\u001b[A\n",
            "Downloading data: 100%|████████████████████| 13.0M/13.0M [00:00<00:00, 16.8MB/s]\u001b[A\n",
            "\n",
            "Downloading data:   0%|                             | 0.00/11.9M [00:00<?, ?B/s]\u001b[A\n",
            "Downloading data:  11%|██▎                 | 1.36M/11.9M [00:00<00:00, 13.5MB/s]\u001b[A\n",
            "Downloading data:  25%|█████               | 2.99M/11.9M [00:00<00:00, 15.2MB/s]\u001b[A\n",
            "Downloading data:  40%|███████▉            | 4.71M/11.9M [00:00<00:00, 16.1MB/s]\u001b[A\n",
            "Downloading data:  56%|███████████▏        | 6.68M/11.9M [00:00<00:00, 17.5MB/s]\u001b[A\n",
            "Downloading data:  75%|██████████████▉     | 8.89M/11.9M [00:00<00:00, 19.2MB/s]\u001b[A\n",
            "Downloading data: 100%|████████████████████| 11.9M/11.9M [00:00<00:00, 19.2MB/s]\u001b[A\n",
            "\n",
            "Downloading data:   0%|                             | 0.00/11.2M [00:00<?, ?B/s]\u001b[A\n",
            "Downloading data:  13%|██▌                 | 1.41M/11.2M [00:00<00:00, 14.0MB/s]\u001b[A\n",
            "Downloading data:  27%|█████▎              | 3.00M/11.2M [00:00<00:00, 15.1MB/s]\u001b[A\n",
            "Downloading data:  46%|█████████           | 5.09M/11.2M [00:00<00:00, 17.8MB/s]\u001b[A\n",
            "Downloading data:  64%|████████████▊       | 7.18M/11.2M [00:00<00:00, 19.0MB/s]\u001b[A\n",
            "Downloading data: 100%|████████████████████| 11.2M/11.2M [00:00<00:00, 19.8MB/s]\u001b[A\n",
            "\n",
            "Downloading data:   0%|                             | 0.00/6.02M [00:00<?, ?B/s]\u001b[A\n",
            "Downloading data:  24%|████▊               | 1.47M/6.02M [00:00<00:00, 14.6MB/s]\u001b[A\n",
            "Downloading data:  49%|█████████▊          | 2.96M/6.02M [00:00<00:00, 14.8MB/s]\u001b[A\n",
            "Downloading data: 100%|████████████████████| 6.02M/6.02M [00:00<00:00, 16.1MB/s]\u001b[A\n",
            "Downloading data files:  67%|██████████████       | 2/3 [00:48<00:20, 20.81s/it]\n",
            "Downloading data:   0%|                             | 0.00/9.85M [00:00<?, ?B/s]\u001b[A\n",
            "Downloading data:  14%|██▊                 | 1.41M/9.85M [00:00<00:00, 14.1MB/s]\u001b[A\n",
            "Downloading data:  29%|█████▋              | 2.83M/9.85M [00:00<00:00, 13.5MB/s]\u001b[A\n",
            "Downloading data:  44%|████████▊           | 4.36M/9.85M [00:00<00:00, 14.2MB/s]\u001b[A\n",
            "Downloading data:  59%|███████████▊        | 5.83M/9.85M [00:00<00:00, 14.4MB/s]\u001b[A\n",
            "Downloading data:  77%|███████████████▎    | 7.54M/9.85M [00:00<00:00, 15.4MB/s]\u001b[A\n",
            "Downloading data: 100%|████████████████████| 9.85M/9.85M [00:00<00:00, 15.9MB/s]\u001b[A\n",
            "\n",
            "Downloading data:   0%|                             | 0.00/12.8M [00:00<?, ?B/s]\u001b[A\n",
            "Downloading data:   9%|█▉                  | 1.21M/12.8M [00:00<00:00, 12.1MB/s]\u001b[A\n",
            "Downloading data:  23%|████▋               | 2.98M/12.8M [00:00<00:00, 15.2MB/s]\u001b[A\n",
            "Downloading data:  35%|███████             | 4.50M/12.8M [00:00<00:00, 15.2MB/s]\u001b[A\n",
            "Downloading data:  55%|██████████▉         | 7.02M/12.8M [00:00<00:00, 19.1MB/s]\u001b[A\n",
            "Downloading data:  77%|███████████████▎    | 9.82M/12.8M [00:00<00:00, 22.3MB/s]\u001b[A\n",
            "Downloading data: 100%|████████████████████| 12.8M/12.8M [00:00<00:00, 21.2MB/s]\u001b[A\n",
            "\n",
            "Downloading data:   0%|                             | 0.00/12.2M [00:00<?, ?B/s]\u001b[A\n",
            "Downloading data:   0%|                     | 16.4k/12.2M [00:00<01:59, 102kB/s]\u001b[A\n",
            "Downloading data:   0%|                     | 51.2k/12.2M [00:00<01:20, 151kB/s]\u001b[A\n",
            "Downloading data:   1%|▏                     | 138k/12.2M [00:00<00:41, 291kB/s]\u001b[A\n",
            "Downloading data:   3%|▌                     | 312k/12.2M [00:00<00:22, 535kB/s]\u001b[A\n",
            "Downloading data:   5%|█▏                    | 643k/12.2M [00:00<00:11, 964kB/s]\u001b[A\n",
            "Downloading data:  11%|██▏                 | 1.34M/12.2M [00:01<00:05, 1.87MB/s]\u001b[A\n",
            "Downloading data:  22%|████▍               | 2.70M/12.2M [00:01<00:02, 3.55MB/s]\u001b[A\n",
            "Downloading data:  35%|███████             | 4.30M/12.2M [00:01<00:01, 5.98MB/s]\u001b[A\n",
            "Downloading data:  45%|█████████           | 5.51M/12.2M [00:01<00:00, 7.30MB/s]\u001b[A\n",
            "Downloading data:  63%|████████████▌       | 7.65M/12.2M [00:01<00:00, 10.6MB/s]\u001b[A\n",
            "Downloading data: 100%|████████████████████| 12.2M/12.2M [00:01<00:00, 6.67MB/s]\u001b[A\n",
            "\n",
            "Downloading data:   0%|                             | 0.00/6.05M [00:00<?, ?B/s]\u001b[A\n",
            "Downloading data:  37%|███████▎            | 2.21M/6.05M [00:00<00:00, 22.1MB/s]\u001b[A\n",
            "Downloading data: 100%|████████████████████| 6.05M/6.05M [00:00<00:00, 23.5MB/s]\u001b[A\n",
            "Downloading data files: 100%|█████████████████████| 3/3 [00:55<00:00, 18.43s/it]\n",
            "Extracting data files: 100%|█████████████████████| 3/3 [00:00<00:00, 358.30it/s]\n",
            "Generating train split: 75722 examples [00:04, 16590.77 examples/s]\n",
            "Generating validation split: 10570 examples [00:00, 16580.35 examples/s]\n",
            "Generating test split: 11877 examples [00:00, 16715.51 examples/s]\n",
            "  4%|█▍                                  | 3001/75722 [00:02<01:04, 1125.27it/s]Token indices sequence length is longer than the specified maximum sequence length for this model (513 > 512). Running this sequence through the model will result in indexing errors\n",
            "100%|███████████████████████████████████| 75722/75722 [01:05<00:00, 1163.56it/s]\n",
            "\n",
            "\n",
            "Epoch 1: 100%|██████████████████████████| 75170/75170 [5:41:26<00:00,  3.67it/s]\n",
            "Loss :   1.437\n",
            "\n",
            "\n",
            "Epoch 2: 100%|██████████████████████████| 75170/75170 [5:44:03<00:00,  3.64it/s]\n",
            "Loss :   0.5615\n",
            "\n",
            "\n",
            "Epoch 3: 100%|██████████████████████████| 75170/75170 [5:45:14<00:00,  3.63it/s]\n",
            "Loss :   0.5485\n",
            "\n",
            "\n",
            "Epoch 4: 100%|██████████████████████████| 75170/75170 [5:44:28<00:00,  3.64it/s]\n",
            "Loss :   0.539\n",
            "\n",
            "\n",
            "Epoch 5: 100%|██████████████████████████| 75170/75170 [5:54:59<00:00,  3.53it/s]\n",
            "Loss :   0.5313\n",
            "\n",
            "\n",
            "Epoch 6: 100%|██████████████████████████| 75170/75170 [5:56:28<00:00,  3.51it/s]\n",
            "Loss :   0.5244\n",
            "\n",
            "\n",
            "Epoch 7: 100%|██████████████████████████| 75170/75170 [5:51:29<00:00,  3.56it/s]\n",
            "Loss :   0.5188\n",
            "\n",
            "\n",
            "Epoch 8: 100%|██████████████████████████| 75170/75170 [5:52:42<00:00,  3.55it/s]\n",
            "Loss :   0.5135\n",
            "\n",
            "\n",
            "Epoch 9: 100%|██████████████████████████| 75170/75170 [5:57:31<00:00,  3.50it/s]\n",
            "Loss :   0.5084\n",
            "\n",
            "\n",
            "Epoch 10: 100%|█████████████████████████| 75170/75170 [5:55:52<00:00,  3.52it/s]\n",
            "Loss :   0.5037\n",
            "\n",
            "\n",
            "Epoch 11: 100%|█████████████████████████| 75170/75170 [5:52:51<00:00,  3.55it/s]\n",
            "Loss :   0.4991\n",
            "\n",
            "\n",
            "Epoch 12: 100%|█████████████████████████| 75170/75170 [5:53:04<00:00,  3.55it/s]\n",
            "Loss :   0.4949\n",
            "\n",
            "\n",
            "Epoch 13: 100%|█████████████████████████| 75170/75170 [5:57:23<00:00,  3.51it/s]\n",
            "Loss :   0.4903\n",
            "\n",
            "\n",
            "Epoch 14: 100%|█████████████████████████| 75170/75170 [5:57:40<00:00,  3.50it/s]\n",
            "Loss :   0.486\n",
            "\n",
            "\n",
            "Epoch 15:  27%|██████▎                | 20444/75170 [2:03:54<4:17:01,  3.55it/s]"
          ]
        }
      ],
      "source": [
        "!python -m lm-question-generation.lmqg.grid_searcher_flan_t5_xl_squad_qg_lora_r32_al32_training "
      ]
    },
    {
      "cell_type": "code",
      "execution_count": 1,
      "metadata": {},
      "outputs": [
        {
          "name": "stdout",
          "output_type": "stream",
          "text": [
            "/opt/conda/bin/python: Error while finding module specification for 'lm-question-generation.lmqg.grid_searcher_flan_t5_xl_squad_qg_lora_r32_al32_training' (ModuleNotFoundError: No module named 'lm-question-generation')\n"
          ]
        }
      ],
      "source": [
        "!python -m lm-question-generation.lmqg.grid_searcher_flan_t5_xl_squad_qg_lora_r32_al32_training "
      ]
    },
    {
      "cell_type": "code",
      "execution_count": 11,
      "metadata": {},
      "outputs": [
        {
          "name": "stdout",
          "output_type": "stream",
          "text": [
            "\u001b[34m\u001b[1mwandb\u001b[0m: Currently logged in as: \u001b[33mminseok0809\u001b[0m. Use \u001b[1m`wandb login --relogin`\u001b[0m to force relogin\n",
            "\u001b[34m\u001b[1mwandb\u001b[0m: Tracking run with wandb version 0.15.10\n",
            "\u001b[34m\u001b[1mwandb\u001b[0m: Run data is saved locally in \u001b[35m\u001b[1m/workspace/wandb/run-20230910_172202-rarwv5te\u001b[0m\n",
            "\u001b[34m\u001b[1mwandb\u001b[0m: Run \u001b[1m`wandb offline`\u001b[0m to turn off syncing.\n",
            "\u001b[34m\u001b[1mwandb\u001b[0m: Syncing run \u001b[33mflan_t5_xl_squad_qg_lora_r32_al32\u001b[0m\n",
            "\u001b[34m\u001b[1mwandb\u001b[0m: ⭐️ View project at \u001b[34m\u001b[4mhttps://wandb.ai/minseok0809/lmqg_qg_squad\u001b[0m\n",
            "\u001b[34m\u001b[1mwandb\u001b[0m: 🚀 View run at \u001b[34m\u001b[4mhttps://wandb.ai/minseok0809/lmqg_qg_squad/runs/rarwv5te\u001b[0m\n",
            "Loading checkpoint shards: 100%|██████████████████| 2/2 [00:04<00:00,  2.42s/it]\n",
            "You are resizing the embedding layer without providing a `pad_to_multiple_of` parameter. This means that the new embedding dimension will be 32101. This might induce some performance reduction as *Tensor Cores* will not be available. For more details about this, or help on choosing the correct value for resizing, refer to this guide: https://docs.nvidia.com/deeplearning/performance/dl-performance-matrix-multiplication/index.html#requirements-tc\n",
            "/opt/conda/lib/python3.8/site-packages/datasets/load.py:2089: FutureWarning: 'use_auth_token' was deprecated in favor of 'token' in version 2.14.0 and will be removed in 3.0.0.\n",
            "You can remove this warning by passing 'token=False' instead.\n",
            "  warnings.warn(\n",
            "100%|███████████████████████████████████| 11877/11877 [00:04<00:00, 2707.60it/s]\n",
            "100%|███████████████████████████████████| 10570/10570 [00:04<00:00, 2485.92it/s]\n",
            "\n",
            "\n",
            "Evaluation Time:  8:52:09\n",
            "Valid Bleu 1:  0.4297     Valid Bleu 2: 0.3034\n",
            "Valid Bleu 3:  0.2309     Valid Bleu 4:  0.1816\n",
            "Test Bleu 1:  0.4359     Test Bleu 2:  0.3055\n",
            "Test Bleu 3:  0.2288     Test Bleu 4:  0.1765\n",
            "\n",
            "\n",
            "Loading checkpoint shards: 100%|██████████████████| 2/2 [00:04<00:00,  2.15s/it]\n",
            "You are resizing the embedding layer without providing a `pad_to_multiple_of` parameter. This means that the new embedding dimension will be 32101. This might induce some performance reduction as *Tensor Cores* will not be available. For more details about this, or help on choosing the correct value for resizing, refer to this guide: https://docs.nvidia.com/deeplearning/performance/dl-performance-matrix-multiplication/index.html#requirements-tc\n",
            "/opt/conda/lib/python3.8/site-packages/datasets/load.py:2089: FutureWarning: 'use_auth_token' was deprecated in favor of 'token' in version 2.14.0 and will be removed in 3.0.0.\n",
            "You can remove this warning by passing 'token=False' instead.\n",
            "  warnings.warn(\n",
            "\n",
            "\n",
            "Evaluation Time:  4:04:40\n",
            "Valid Bleu 1:  0.5416     Valid Bleu 2: 0.397\n",
            "Valid Bleu 3:  0.3116     Valid Bleu 4:  0.2515\n",
            "Test Bleu 1:  0.5551     Test Bleu 2:  0.4042\n",
            "Test Bleu 3:  0.3129     Test Bleu 4:  0.248\n",
            "\n",
            "\n",
            "Loading checkpoint shards: 100%|██████████████████| 2/2 [00:04<00:00,  2.16s/it]\n",
            "You are resizing the embedding layer without providing a `pad_to_multiple_of` parameter. This means that the new embedding dimension will be 32101. This might induce some performance reduction as *Tensor Cores* will not be available. For more details about this, or help on choosing the correct value for resizing, refer to this guide: https://docs.nvidia.com/deeplearning/performance/dl-performance-matrix-multiplication/index.html#requirements-tc\n",
            "/opt/conda/lib/python3.8/site-packages/datasets/load.py:2089: FutureWarning: 'use_auth_token' was deprecated in favor of 'token' in version 2.14.0 and will be removed in 3.0.0.\n",
            "You can remove this warning by passing 'token=False' instead.\n",
            "  warnings.warn(\n",
            "\n",
            "\n",
            "Evaluation Time:  4:00:11\n",
            "Valid Bleu 1:  0.5696     Valid Bleu 2: 0.4204\n",
            "Valid Bleu 3:  0.332     Valid Bleu 4:  0.2694\n",
            "Test Bleu 1:  0.5846     Test Bleu 2:  0.4303\n",
            "Test Bleu 3:  0.3361     Test Bleu 4:  0.2686\n",
            "\n",
            "\n",
            "Loading checkpoint shards: 100%|██████████████████| 2/2 [00:04<00:00,  2.16s/it]\n",
            "You are resizing the embedding layer without providing a `pad_to_multiple_of` parameter. This means that the new embedding dimension will be 32101. This might induce some performance reduction as *Tensor Cores* will not be available. For more details about this, or help on choosing the correct value for resizing, refer to this guide: https://docs.nvidia.com/deeplearning/performance/dl-performance-matrix-multiplication/index.html#requirements-tc\n",
            "/opt/conda/lib/python3.8/site-packages/datasets/load.py:2089: FutureWarning: 'use_auth_token' was deprecated in favor of 'token' in version 2.14.0 and will be removed in 3.0.0.\n",
            "You can remove this warning by passing 'token=False' instead.\n",
            "  warnings.warn(\n",
            "\n",
            "\n",
            "Evaluation Time:  4:01:59\n",
            "Valid Bleu 1:  0.5632     Valid Bleu 2: 0.4164\n",
            "Valid Bleu 3:  0.3291     Valid Bleu 4:  0.2671\n",
            "Test Bleu 1:  0.5809     Test Bleu 2:  0.427\n",
            "Test Bleu 3:  0.3332     Test Bleu 4:  0.2661\n",
            "\n",
            "\n",
            "Loading checkpoint shards: 100%|██████████████████| 2/2 [00:04<00:00,  2.11s/it]\n",
            "You are resizing the embedding layer without providing a `pad_to_multiple_of` parameter. This means that the new embedding dimension will be 32101. This might induce some performance reduction as *Tensor Cores* will not be available. For more details about this, or help on choosing the correct value for resizing, refer to this guide: https://docs.nvidia.com/deeplearning/performance/dl-performance-matrix-multiplication/index.html#requirements-tc\n",
            "/opt/conda/lib/python3.8/site-packages/datasets/load.py:2089: FutureWarning: 'use_auth_token' was deprecated in favor of 'token' in version 2.14.0 and will be removed in 3.0.0.\n",
            "You can remove this warning by passing 'token=False' instead.\n",
            "  warnings.warn(\n",
            "\n",
            "\n",
            "Evaluation Time:  3:54:17\n",
            "Valid Bleu 1:  0.5847     Valid Bleu 2: 0.4356\n",
            "Valid Bleu 3:  0.3457     Valid Bleu 4:  0.2816\n",
            "Test Bleu 1:  0.6006     Test Bleu 2:  0.4438\n",
            "Test Bleu 3:  0.3475     Test Bleu 4:  0.2782\n",
            "\n",
            "\n",
            "Loading checkpoint shards: 100%|██████████████████| 2/2 [00:03<00:00,  1.83s/it]\n",
            "You are resizing the embedding layer without providing a `pad_to_multiple_of` parameter. This means that the new embedding dimension will be 32101. This might induce some performance reduction as *Tensor Cores* will not be available. For more details about this, or help on choosing the correct value for resizing, refer to this guide: https://docs.nvidia.com/deeplearning/performance/dl-performance-matrix-multiplication/index.html#requirements-tc\n",
            "/opt/conda/lib/python3.8/site-packages/datasets/load.py:2089: FutureWarning: 'use_auth_token' was deprecated in favor of 'token' in version 2.14.0 and will be removed in 3.0.0.\n",
            "You can remove this warning by passing 'token=False' instead.\n",
            "  warnings.warn(\n",
            "\n",
            "\n",
            "Evaluation Time:  3:53:46\n",
            "Valid Bleu 1:  0.5846     Valid Bleu 2: 0.4351\n",
            "Valid Bleu 3:  0.3448     Valid Bleu 4:  0.2805\n",
            "Test Bleu 1:  0.6026     Test Bleu 2:  0.4455\n",
            "Test Bleu 3:  0.3489     Test Bleu 4:  0.2793\n",
            "\n",
            "\n",
            "Loading checkpoint shards: 100%|██████████████████| 2/2 [00:03<00:00,  1.92s/it]\n",
            "You are resizing the embedding layer without providing a `pad_to_multiple_of` parameter. This means that the new embedding dimension will be 32101. This might induce some performance reduction as *Tensor Cores* will not be available. For more details about this, or help on choosing the correct value for resizing, refer to this guide: https://docs.nvidia.com/deeplearning/performance/dl-performance-matrix-multiplication/index.html#requirements-tc\n",
            "/opt/conda/lib/python3.8/site-packages/datasets/load.py:2089: FutureWarning: 'use_auth_token' was deprecated in favor of 'token' in version 2.14.0 and will be removed in 3.0.0.\n",
            "You can remove this warning by passing 'token=False' instead.\n",
            "  warnings.warn(\n",
            "\n",
            "\n",
            "Evaluation Time:  3:55:44\n",
            "Valid Bleu 1:  0.5821     Valid Bleu 2: 0.433\n",
            "Valid Bleu 3:  0.3433     Valid Bleu 4:  0.2794\n",
            "Test Bleu 1:  0.5995     Test Bleu 2:  0.4428\n",
            "Test Bleu 3:  0.3466     Test Bleu 4:  0.2772\n",
            "\n",
            "\n",
            "/opt/conda/lib/python3.8/site-packages/transformers/models/auto/tokenization_auto.py:640: FutureWarning: The `use_auth_token` argument is deprecated and will be removed in v5 of Transformers.\n",
            "  warnings.warn(\n",
            "tmp_ckpt_flan_t5_xl_squad_qg_lora_r32_al32/model_sharvu/epoch_16 does not appear to have a file named config.json. Checkout 'https://huggingface.co/tmp_ckpt_flan_t5_xl_squad_qg_lora_r32_al32/model_sharvu/epoch_16/None' for available files.\n",
            "\n",
            "\n",
            "Evaluation Time:  0:00:06\n",
            "Valid Bleu 1:  0.5821     Valid Bleu 2: 0.433\n",
            "Valid Bleu 3:  0.3433     Valid Bleu 4:  0.2794\n",
            "Test Bleu 1:  0.5995     Test Bleu 2:  0.4428\n",
            "Test Bleu 3:  0.3466     Test Bleu 4:  0.2772\n",
            "\n",
            "\n",
            "/opt/conda/lib/python3.8/site-packages/transformers/models/auto/tokenization_auto.py:640: FutureWarning: The `use_auth_token` argument is deprecated and will be removed in v5 of Transformers.\n",
            "  warnings.warn(\n",
            "tmp_ckpt_flan_t5_xl_squad_qg_lora_r32_al32/model_sharvu/epoch_18 does not appear to have a file named config.json. Checkout 'https://huggingface.co/tmp_ckpt_flan_t5_xl_squad_qg_lora_r32_al32/model_sharvu/epoch_18/None' for available files.\n",
            "\n",
            "\n",
            "Evaluation Time:  0:00:05\n",
            "Valid Bleu 1:  0.5821     Valid Bleu 2: 0.433\n",
            "Valid Bleu 3:  0.3433     Valid Bleu 4:  0.2794\n",
            "Test Bleu 1:  0.5995     Test Bleu 2:  0.4428\n",
            "Test Bleu 3:  0.3466     Test Bleu 4:  0.2772\n",
            "\n",
            "\n",
            "/opt/conda/lib/python3.8/site-packages/transformers/models/auto/tokenization_auto.py:640: FutureWarning: The `use_auth_token` argument is deprecated and will be removed in v5 of Transformers.\n",
            "  warnings.warn(\n",
            "tmp_ckpt_flan_t5_xl_squad_qg_lora_r32_al32/model_sharvu/epoch_20 does not appear to have a file named config.json. Checkout 'https://huggingface.co/tmp_ckpt_flan_t5_xl_squad_qg_lora_r32_al32/model_sharvu/epoch_20/None' for available files.\n",
            "\n",
            "\n",
            "Evaluation Time:  0:00:06\n",
            "Valid Bleu 1:  0.5821     Valid Bleu 2: 0.433\n",
            "Valid Bleu 3:  0.3433     Valid Bleu 4:  0.2794\n",
            "Test Bleu 1:  0.5995     Test Bleu 2:  0.4428\n",
            "Test Bleu 3:  0.3466     Test Bleu 4:  0.2772\n",
            "\n",
            "\n",
            "Traceback (most recent call last):\n",
            "  File \"/opt/conda/lib/python3.8/runpy.py\", line 194, in _run_module_as_main\n",
            "    return _run_code(code, main_globals, None,\n",
            "  File \"/opt/conda/lib/python3.8/runpy.py\", line 87, in _run_code\n",
            "    exec(code, run_globals)\n",
            "  File \"/workspace/lm-question-generation/lmqg/grid_searcher_flan_t5_xl_squad_qg_lora_r32_al32_evaluation.py\", line 386, in <module>\n",
            "    main()\n",
            "  File \"/workspace/lm-question-generation/lmqg/grid_searcher_flan_t5_xl_squad_qg_lora_r32_al32_evaluation.py\", line 380, in main\n",
            "    trainer.run()\n",
            "  File \"/workspace/lm-question-generation/lmqg/grid_searcher_flan_t5_xl_squad_qg_lora_r32_al32_evaluation.py\", line 345, in run\n",
            "    training_log_df = pd.read_excel(training_log_path, engine='openpyxl') \n",
            "  File \"/opt/conda/lib/python3.8/site-packages/pandas/io/excel/_base.py\", line 478, in read_excel\n",
            "    io = ExcelFile(io, storage_options=storage_options, engine=engine)\n",
            "  File \"/opt/conda/lib/python3.8/site-packages/pandas/io/excel/_base.py\", line 1513, in __init__\n",
            "    self._reader = self._engines[engine](self._io, storage_options=storage_options)\n",
            "  File \"/opt/conda/lib/python3.8/site-packages/pandas/io/excel/_openpyxl.py\", line 549, in __init__\n",
            "    super().__init__(filepath_or_buffer, storage_options=storage_options)\n",
            "  File \"/opt/conda/lib/python3.8/site-packages/pandas/io/excel/_base.py\", line 530, in __init__\n",
            "    self.handles = get_handle(\n",
            "  File \"/opt/conda/lib/python3.8/site-packages/pandas/io/common.py\", line 868, in get_handle\n",
            "    handle = open(handle, ioargs.mode)\n",
            "FileNotFoundError: [Errno 2] No such file or directory: 'tmp_ckpt_flan_t5_xl_squad_qg_lora_r32_al32/lmqg_log.xlsx'\n"
          ]
        }
      ],
      "source": [
        "!python -m lm-question-generation.lmqg.grid_searcher_flan_t5_xl_squad_qg_lora_r32_al32_evaluation"
      ]
    },
    {
      "cell_type": "code",
      "execution_count": null,
      "metadata": {},
      "outputs": [],
      "source": [
        "!python -m lm-question-generation.lmqg.grid_searcher_flan_t5_xl_squad_qg_lora_r64_al32_training "
      ]
    },
    {
      "cell_type": "code",
      "execution_count": null,
      "metadata": {},
      "outputs": [],
      "source": [
        "!python -m lm-question-generation.lmqg.grid_searcher_flan_t5_xl_squad_qg_lora_r64_al32_evaluation"
      ]
    },
    {
      "cell_type": "code",
      "execution_count": null,
      "metadata": {},
      "outputs": [],
      "source": [
        "!python -m lm-question-generation.lmqg.grid_searcher_flan_t5_xl_squad_qg_lora_r128_al32_training "
      ]
    },
    {
      "cell_type": "code",
      "execution_count": null,
      "metadata": {},
      "outputs": [],
      "source": [
        "!python -m lm-question-generation.lmqg.grid_searcher_flan_t5_xl_squad_qg_lora_r128_al32_evaluation"
      ]
    },
    {
      "cell_type": "code",
      "execution_count": null,
      "metadata": {},
      "outputs": [],
      "source": [
        "wandb.finish()"
      ]
    },
    {
      "cell_type": "markdown",
      "metadata": {},
      "source": [
        "## Flan T5 XXL Model"
      ]
    },
    {
      "cell_type": "markdown",
      "metadata": {},
      "source": [
        "### Original Model"
      ]
    },
    {
      "cell_type": "code",
      "execution_count": null,
      "metadata": {},
      "outputs": [],
      "source": [
        "!python -m lm-question-generation.lmqg.grid_searcher_flan_t5_xxl_squad_qg"
      ]
    },
    {
      "cell_type": "code",
      "execution_count": 16,
      "metadata": {},
      "outputs": [],
      "source": [
        "wandb.finish()"
      ]
    },
    {
      "cell_type": "markdown",
      "metadata": {},
      "source": [
        "### Lora Model"
      ]
    },
    {
      "cell_type": "code",
      "execution_count": null,
      "metadata": {},
      "outputs": [],
      "source": [
        "!python -m lm-question-generation.lmqg.grid_searcher_flan_t5_xxl_squad_qg_lora_r1_al32_training "
      ]
    },
    {
      "cell_type": "code",
      "execution_count": null,
      "metadata": {},
      "outputs": [],
      "source": [
        "!python -m lm-question-generation.lmqg.grid_searcher_flan_t5_xxl_squad_qg_lora_r1_al32_evaluation"
      ]
    },
    {
      "cell_type": "code",
      "execution_count": null,
      "metadata": {},
      "outputs": [],
      "source": [
        "!python -m lm-question-generation.lmqg.grid_searcher_flan_t5_xxl_squad_qg_lora_r8_al32_training "
      ]
    },
    {
      "cell_type": "code",
      "execution_count": null,
      "metadata": {},
      "outputs": [],
      "source": [
        "!python -m lm-question-generation.lmqg.grid_searcher_flan_t5_xxl_squad_qg_lora_r8_al32_evaluation"
      ]
    },
    {
      "cell_type": "code",
      "execution_count": null,
      "metadata": {},
      "outputs": [],
      "source": [
        "wandb.finish()"
      ]
    },
    {
      "cell_type": "markdown",
      "metadata": {
        "id": "erRMsEx-zJbX"
      },
      "source": [
        "## T5 Small Model Grid Search"
      ]
    },
    {
      "cell_type": "code",
      "execution_count": null,
      "metadata": {},
      "outputs": [],
      "source": [
        "from lmqg import GridSearcher\n",
        "\n",
        "trainer = GridSearcher(\n",
        "    checkpoint_dir='tmp_ckpt_t5_small_0819',\n",
        "    dataset_path='lmqg/qg_squad',\n",
        "    model='t5-small',\n",
        "    epoch=3,\n",
        "    epoch_partial=1,\n",
        "    batch=64,\n",
        "    n_max_config=5,\n",
        "    gradient_accumulation_steps=[2], \n",
        "    lr=[1e-04],\n",
        "    label_smoothing=[0, 0.15]\n",
        ")\n",
        "trainer.run()"
      ]
    },
    {
      "cell_type": "markdown",
      "metadata": {},
      "source": [
        "Grid Search\n",
        "<br>gradient_accumulation_steps=[2, 4], \n",
        "<br>lr=[1e-04, 5e-04, 1e-03],\n",
        "<br>label_smoothing=[0, 0.15]"
      ]
    },
    {
      "cell_type": "markdown",
      "metadata": {},
      "source": [
        "The number of model: \n",
        "<br>gradient_accumulation_steps * lr * label_smoothing \n",
        "<br>3 * 2 * 2 = 12"
      ]
    },
    {
      "cell_type": "code",
      "execution_count": 58,
      "metadata": {},
      "outputs": [
        {
          "name": "stdout",
          "output_type": "stream",
          "text": [
            "Best Model of T5 Small\n",
            "\n",
            "_name_or_path : tmp_ckpt/model_cghqta/epoch_5\n",
            "model : t5-small\n",
            "epoch : 12\n",
            "batch : 64\n",
            "lr : 0.0005  [Grid Search Result]\n",
            "gradient_accumulation_steps : 4  [Grid Search Result]\n",
            "label_smoothing : 0.15  [Grid Search Result]\n"
          ]
        }
      ],
      "source": [
        "with open('tmp_ckpt_t5_small_0818/best_model/config.json', 'r') as f:\n",
        "    t5_small_best_model_config = json.load(f)\n",
        "\n",
        "with open('tmp_ckpt_t5_small_0818/best_model/trainer_config.json', 'r') as f:\n",
        "    t5_small_best_model_hyperparameter_search = json.load(f)\n",
        "\n",
        "hyperparameters = ['model', 'epoch', 'batch',\n",
        "                   'lr', 'gradient_accumulation_steps', 'label_smoothing']\n",
        "grid_serach_hyperparameter = ['lr', 'gradient_accumulation_steps', 'label_smoothing']\n",
        "\n",
        "print(colored(\"Best Model of T5 Small\", attrs=['bold']))\n",
        "print()\n",
        "for value, key in t5_small_best_model_config.items():\n",
        "    if '_name_or_path' in value:\n",
        "        print(\"{} : {}\".format(value, key))   \n",
        "    \n",
        "for value, key in t5_small_best_model_hyperparameter_search.items():\n",
        "    if any(hyperparameter in value for hyperparameter in hyperparameters):\n",
        "        if any(hyperparameter in value for hyperparameter in grid_serach_hyperparameter):\n",
        "            print(\"{} : {}  [Grid Search Result]\".format(value, key))\n",
        "        else:\n",
        "            print(\"{} : {}\".format(value, key))"
      ]
    },
    {
      "cell_type": "markdown",
      "metadata": {},
      "source": [
        "## Best T5 SmallModel"
      ]
    },
    {
      "cell_type": "markdown",
      "metadata": {},
      "source": [
        "### End2end QAG"
      ]
    },
    {
      "cell_type": "code",
      "execution_count": null,
      "metadata": {},
      "outputs": [],
      "source": [
        "# lmqg/t5-small-squad-qag\n",
        "CUDA_VISIBLE_DEVICES=\"0\"\n",
        "\n",
        "!python -m lm-question-generation.lmqg.grid_searcher_t5_small_squad_qag \\\n",
        "#    --checkpoint_dir='tmp_ckpt_t5_small_squad_qag_0821' \\\n",
        "#    --dataset_path='lmqg/qg_squadshifts' \\\n",
        "#    --dataset_name='all' \\\n",
        "#    --model='t5-small' \\\n",
        "#    --epoch=15 \\\n",
        "#    --epoch_partial=5 \\\n",
        "#    --batch=64 \\\n",
        "#    --n_max_config=5 \\\n",
        "#    --gradient_accumulation_steps=[4] \\\n",
        "#    --lr=[5e-04] \\\n",
        "#    --label_smoothing=[0, 0.15] \\\n",
        "#    --language=\"en\""
      ]
    },
    {
      "cell_type": "markdown",
      "metadata": {},
      "source": [
        "### Multitask QAG"
      ]
    },
    {
      "cell_type": "code",
      "execution_count": null,
      "metadata": {},
      "outputs": [],
      "source": [
        "CUDA_VISIBLE_DEVICES=\"0\"\n",
        "\n",
        "!python -m lm-question-generation.lmqg.grid_searcher_t5_small_squad_qg_ae \\\n",
        "#    --checkpoint_dir='tmp_ckpt_t5_small_squad_qg_ae_0821 \\\n",
        "#    --dataset_path='lmqg/qg_squadshifts' \\\n",
        "#    --dataset_name='all' \\\n",
        "#    --model='t5-small' \\\n",
        "#    --epoch=15 \\\n",
        "#    --epoch_partial=5 \\\n",
        "#    --batch=64 \\\n",
        "#    --n_max_config=5 \\\n",
        "#    --gradient_accumulation_steps=[4] \\\n",
        "#    --lr=[5e-04] \\\n",
        "#    --label_smoothing=[0, 0.15] \\\n",
        "#    --language=\"en\""
      ]
    },
    {
      "cell_type": "markdown",
      "metadata": {},
      "source": [
        "### Pipeline QAG"
      ]
    },
    {
      "cell_type": "code",
      "execution_count": null,
      "metadata": {},
      "outputs": [],
      "source": [
        "CUDA_VISIBLE_DEVICES=\"0\"\n",
        "\n",
        "!python -m lm-question-generation.lmqg.grid_searcher_t5_small_squad_qg \\\n",
        "#    --checkpoint_dir='tmp_ckpt_t5_small_squad_qg_0821 \\\n",
        "#    --dataset_path='lmqg/t5-small-squad-qg' \\\n",
        "#    --dataset_name='all' \\\n",
        "#    --model='t5-small' \\\n",
        "#    --epoch=15 \\\n",
        "#    --epoch_partial=5 \\\n",
        "#    --batch=64 \\\n",
        "#    --n_max_config=5 \\\n",
        "#    --gradient_accumulation_steps=[4] \\\n",
        "#    --lr=[5e-04] \\\n",
        "#    --label_smoothing=[0, 0.15] \\\n",
        "#    --language=\"en\""
      ]
    },
    {
      "cell_type": "markdown",
      "metadata": {},
      "source": [
        "### Source"
      ]
    },
    {
      "cell_type": "markdown",
      "metadata": {},
      "source": [
        "[lmqg/t5-small-squad-qa](https://huggingface.co/lmqg/t5-small-squad-qa)"
      ]
    }
  ],
  "metadata": {
    "colab": {
      "provenance": []
    },
    "kernelspec": {
      "display_name": "Python 3",
      "name": "python3"
    },
    "language_info": {
      "codemirror_mode": {
        "name": "ipython",
        "version": 3
      },
      "file_extension": ".py",
      "mimetype": "text/x-python",
      "name": "python",
      "nbconvert_exporter": "python",
      "pygments_lexer": "ipython3",
      "version": "3.8.12"
    }
  },
  "nbformat": 4,
  "nbformat_minor": 0
}
